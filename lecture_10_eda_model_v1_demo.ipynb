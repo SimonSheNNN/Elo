{
 "cells": [
  {
   "cell_type": "markdown",
   "metadata": {
    "_uuid": "c24e5776cc4aa12466025c756f1837f6d0e6eff3"
   },
   "source": [
    "## General information\n",
    "\n",
    "This kernel is dedicated to EDA of Elo Merchant Category Recommendation competition as well as feature engineering.\n",
    "\n",
    "In this dataset we can see clients who use Elo and their transactions. We need to predict the loyalty score for each card_id.\n",
    "\n",
    "Work in progress.\n",
    "\n",
    "![](https://storage.googleapis.com/kaggle-competitions/kaggle/10445/logos/thumb76_76.png?t=2018-10-24-17-14-05)"
   ]
  },
  {
   "cell_type": "code",
   "execution_count": 132,
   "metadata": {
    "_cell_guid": "b1076dfc-b9ad-4769-8c92-a6c4dae69d19",
    "_kg_hide-input": true,
    "_uuid": "8f2839f25d086af736a60e9eeb907d3b93b6e0e5"
   },
   "outputs": [
    {
     "data": {
      "text/html": [
       "<script type=\"text/javascript\">window.PlotlyConfig = {MathJaxConfig: 'local'};</script><script type=\"text/javascript\">if (window.MathJax) {MathJax.Hub.Config({SVG: {font: \"STIX-Web\"}});}</script><script>requirejs.config({paths: { 'plotly': ['https://cdn.plot.ly/plotly-latest.min']},});if(!window._Plotly) {require(['plotly'],function(plotly) {window._Plotly=plotly;});}</script>"
      ],
      "text/vnd.plotly.v1+html": [
       "<script type=\"text/javascript\">window.PlotlyConfig = {MathJaxConfig: 'local'};</script><script type=\"text/javascript\">if (window.MathJax) {MathJax.Hub.Config({SVG: {font: \"STIX-Web\"}});}</script><script>requirejs.config({paths: { 'plotly': ['https://cdn.plot.ly/plotly-latest.min']},});if(!window._Plotly) {require(['plotly'],function(plotly) {window._Plotly=plotly;});}</script>"
      ]
     },
     "metadata": {},
     "output_type": "display_data"
    }
   ],
   "source": [
    "path_data =   \"/Users/Simon/Desktop/JP/elo\"\n",
    "path_model =\"/Users/Simon/Desktop/JP/elo models\"\n",
    "\n",
    "import os\n",
    "try:\n",
    "    os.stat(path_model)\n",
    "except:\n",
    "    os.mkdir(path_model) \n",
    "    \n",
    "import numpy as np \n",
    "import pandas as pd \n",
    "import os\n",
    "import seaborn as sns \n",
    "import matplotlib.pyplot as plt\n",
    "%matplotlib inline\n",
    "plt.style.use('ggplot')\n",
    "import lightgbm as lgb\n",
    "import xgboost as xgb\n",
    "import time\n",
    "import datetime\n",
    "\n",
    "from sklearn.preprocessing import LabelEncoder\n",
    "from sklearn.model_selection import StratifiedKFold, KFold\n",
    "from sklearn.metrics import mean_squared_error\n",
    "from sklearn.linear_model import Ridge, RidgeCV\n",
    "import gc\n",
    "from catboost import CatBoostRegressor\n",
    "\n",
    "import plotly.offline as py\n",
    "py.init_notebook_mode(connected=True)\n",
    "import plotly.graph_objs as go\n",
    "import plotly.tools as tls\n",
    "\n",
    "import warnings\n",
    "warnings.filterwarnings(\"ignore\")\n",
    "\n",
    "pd.set_option('max_colwidth', 500)\n",
    "pd.set_option('max_columns', 500)"
   ]
  },
  {
   "cell_type": "code",
   "execution_count": 133,
   "metadata": {
    "_cell_guid": "79c7e3d0-c299-4dcb-8224-4455121ee9b0",
    "_uuid": "d629ff2d2480ee46fbb7e2d37f6b5fab8052498a"
   },
   "outputs": [
    {
     "name": "stdout",
     "output_type": "stream",
     "text": [
      "CPU times: user 429 ms, sys: 97.2 ms, total: 526 ms\n",
      "Wall time: 541 ms\n"
     ]
    }
   ],
   "source": [
    "%%time\n",
    "train = pd.read_csv(path_data + '/train.csv', parse_dates=['first_active_month'])\n",
    "test = pd.read_csv(path_data + '/test.csv', parse_dates=['first_active_month'])\n",
    "submission = pd.read_csv(path_data + '/sample_submission.csv')"
   ]
  },
  {
   "cell_type": "code",
   "execution_count": 134,
   "metadata": {
    "_kg_hide-input": true,
    "_uuid": "e7d2cc4221d5da6ad7d9acd81ea0b5dddb8e6289"
   },
   "outputs": [],
   "source": [
    "def reduce_mem_usage(df, verbose=True):\n",
    "    numerics = ['int16', 'int32', 'int64', 'float16', 'float32', 'float64']\n",
    "    start_mem = df.memory_usage().sum() / 1024**2    \n",
    "    for col in df.columns:\n",
    "        col_type = df[col].dtypes\n",
    "        if col_type in numerics:\n",
    "            c_min = df[col].min()\n",
    "            c_max = df[col].max()\n",
    "            if str(col_type)[:3] == 'int':\n",
    "                if c_min > np.iinfo(np.int8).min and c_max < np.iinfo(np.int8).max:\n",
    "                    df[col] = df[col].astype(np.int8)\n",
    "                elif c_min > np.iinfo(np.int16).min and c_max < np.iinfo(np.int16).max:\n",
    "                    df[col] = df[col].astype(np.int16)\n",
    "                elif c_min > np.iinfo(np.int32).min and c_max < np.iinfo(np.int32).max:\n",
    "                    df[col] = df[col].astype(np.int32)\n",
    "                elif c_min > np.iinfo(np.int64).min and c_max < np.iinfo(np.int64).max:\n",
    "                    df[col] = df[col].astype(np.int64)  \n",
    "            else:\n",
    "                if c_min > np.finfo(np.float16).min and c_max < np.finfo(np.float16).max:\n",
    "                    df[col] = df[col].astype(np.float16)\n",
    "                elif c_min > np.finfo(np.float32).min and c_max < np.finfo(np.float32).max:\n",
    "                    df[col] = df[col].astype(np.float32)\n",
    "                else:\n",
    "                    df[col] = df[col].astype(np.float64)    \n",
    "    end_mem = df.memory_usage().sum() / 1024**2\n",
    "    if verbose: print('Mem. usage decreased to {:5.2f} Mb ({:.1f}% reduction)'.format(end_mem, 100 * (start_mem - end_mem) / start_mem))\n",
    "    return df"
   ]
  },
  {
   "cell_type": "markdown",
   "metadata": {
    "_uuid": "05979744f8371569da70769e6da5f0985dce4466"
   },
   "source": [
    "## Main data exploration\n",
    "Let's have a look at data"
   ]
  },
  {
   "cell_type": "code",
   "execution_count": 135,
   "metadata": {
    "_uuid": "a9f03d9b87f0edb2645bdd0c3bbd4e47c4e51e2f",
    "scrolled": true
   },
   "outputs": [
    {
     "data": {
      "text/html": [
       "<div>\n",
       "<style scoped>\n",
       "    .dataframe tbody tr th:only-of-type {\n",
       "        vertical-align: middle;\n",
       "    }\n",
       "\n",
       "    .dataframe tbody tr th {\n",
       "        vertical-align: top;\n",
       "    }\n",
       "\n",
       "    .dataframe thead th {\n",
       "        text-align: right;\n",
       "    }\n",
       "</style>\n",
       "<table border=\"1\" class=\"dataframe\">\n",
       "  <thead>\n",
       "    <tr style=\"text-align: right;\">\n",
       "      <th></th>\n",
       "      <th>train.csv</th>\n",
       "      <th>Unnamed: 1</th>\n",
       "    </tr>\n",
       "  </thead>\n",
       "  <tbody>\n",
       "    <tr>\n",
       "      <th>0</th>\n",
       "      <td>NaN</td>\n",
       "      <td>NaN</td>\n",
       "    </tr>\n",
       "    <tr>\n",
       "      <th>1</th>\n",
       "      <td>Columns</td>\n",
       "      <td>Description</td>\n",
       "    </tr>\n",
       "    <tr>\n",
       "      <th>2</th>\n",
       "      <td>card_id</td>\n",
       "      <td>Unique card identifier</td>\n",
       "    </tr>\n",
       "    <tr>\n",
       "      <th>3</th>\n",
       "      <td>first_active_month</td>\n",
       "      <td>'YYYY-MM', month of first purchase</td>\n",
       "    </tr>\n",
       "    <tr>\n",
       "      <th>4</th>\n",
       "      <td>feature_1</td>\n",
       "      <td>Anonymized card categorical feature</td>\n",
       "    </tr>\n",
       "    <tr>\n",
       "      <th>5</th>\n",
       "      <td>feature_2</td>\n",
       "      <td>Anonymized card categorical feature</td>\n",
       "    </tr>\n",
       "    <tr>\n",
       "      <th>6</th>\n",
       "      <td>feature_3</td>\n",
       "      <td>Anonymized card categorical feature</td>\n",
       "    </tr>\n",
       "    <tr>\n",
       "      <th>7</th>\n",
       "      <td>target</td>\n",
       "      <td>Loyalty numerical score calculated 2 months after historical and evaluation period</td>\n",
       "    </tr>\n",
       "  </tbody>\n",
       "</table>\n",
       "</div>"
      ],
      "text/plain": [
       "            train.csv  \\\n",
       "0                 NaN   \n",
       "1             Columns   \n",
       "2             card_id   \n",
       "3  first_active_month   \n",
       "4           feature_1   \n",
       "5           feature_2   \n",
       "6           feature_3   \n",
       "7              target   \n",
       "\n",
       "                                                                           Unnamed: 1  \n",
       "0                                                                                 NaN  \n",
       "1                                                                         Description  \n",
       "2                                                              Unique card identifier  \n",
       "3                                                  'YYYY-MM', month of first purchase  \n",
       "4                                                 Anonymized card categorical feature  \n",
       "5                                                 Anonymized card categorical feature  \n",
       "6                                                 Anonymized card categorical feature  \n",
       "7  Loyalty numerical score calculated 2 months after historical and evaluation period  "
      ]
     },
     "execution_count": 135,
     "metadata": {},
     "output_type": "execute_result"
    }
   ],
   "source": [
    "e = pd.read_excel(path_data + '/Data_Dictionary.xlsx', sheet_name='train')\n",
    "e"
   ]
  },
  {
   "cell_type": "code",
   "execution_count": 136,
   "metadata": {
    "_kg_hide-input": true,
    "_uuid": "ffc8c37bd610a93a06bb410d9e9112cd742d83ce"
   },
   "outputs": [
    {
     "data": {
      "text/html": [
       "<div>\n",
       "<style scoped>\n",
       "    .dataframe tbody tr th:only-of-type {\n",
       "        vertical-align: middle;\n",
       "    }\n",
       "\n",
       "    .dataframe tbody tr th {\n",
       "        vertical-align: top;\n",
       "    }\n",
       "\n",
       "    .dataframe thead th {\n",
       "        text-align: right;\n",
       "    }\n",
       "</style>\n",
       "<table border=\"1\" class=\"dataframe\">\n",
       "  <thead>\n",
       "    <tr style=\"text-align: right;\">\n",
       "      <th></th>\n",
       "      <th>first_active_month</th>\n",
       "      <th>card_id</th>\n",
       "      <th>feature_1</th>\n",
       "      <th>feature_2</th>\n",
       "      <th>feature_3</th>\n",
       "      <th>target</th>\n",
       "    </tr>\n",
       "  </thead>\n",
       "  <tbody>\n",
       "    <tr>\n",
       "      <th>0</th>\n",
       "      <td>2017-06-01</td>\n",
       "      <td>C_ID_92a2005557</td>\n",
       "      <td>5</td>\n",
       "      <td>2</td>\n",
       "      <td>1</td>\n",
       "      <td>-0.820283</td>\n",
       "    </tr>\n",
       "    <tr>\n",
       "      <th>1</th>\n",
       "      <td>2017-01-01</td>\n",
       "      <td>C_ID_3d0044924f</td>\n",
       "      <td>4</td>\n",
       "      <td>1</td>\n",
       "      <td>0</td>\n",
       "      <td>0.392913</td>\n",
       "    </tr>\n",
       "    <tr>\n",
       "      <th>2</th>\n",
       "      <td>2016-08-01</td>\n",
       "      <td>C_ID_d639edf6cd</td>\n",
       "      <td>2</td>\n",
       "      <td>2</td>\n",
       "      <td>0</td>\n",
       "      <td>0.688056</td>\n",
       "    </tr>\n",
       "    <tr>\n",
       "      <th>3</th>\n",
       "      <td>2017-09-01</td>\n",
       "      <td>C_ID_186d6a6901</td>\n",
       "      <td>4</td>\n",
       "      <td>3</td>\n",
       "      <td>0</td>\n",
       "      <td>0.142495</td>\n",
       "    </tr>\n",
       "    <tr>\n",
       "      <th>4</th>\n",
       "      <td>2017-11-01</td>\n",
       "      <td>C_ID_cdbd2c0db2</td>\n",
       "      <td>1</td>\n",
       "      <td>3</td>\n",
       "      <td>0</td>\n",
       "      <td>-0.159749</td>\n",
       "    </tr>\n",
       "  </tbody>\n",
       "</table>\n",
       "</div>"
      ],
      "text/plain": [
       "  first_active_month          card_id feature_1 feature_2 feature_3    target\n",
       "0         2017-06-01  C_ID_92a2005557         5         2         1 -0.820283\n",
       "1         2017-01-01  C_ID_3d0044924f         4         1         0  0.392913\n",
       "2         2016-08-01  C_ID_d639edf6cd         2         2         0  0.688056\n",
       "3         2017-09-01  C_ID_186d6a6901         4         3         0  0.142495\n",
       "4         2017-11-01  C_ID_cdbd2c0db2         1         3         0 -0.159749"
      ]
     },
     "execution_count": 136,
     "metadata": {},
     "output_type": "execute_result"
    }
   ],
   "source": [
    "train['feature_1'] = train['feature_1'].astype('category')\n",
    "train['feature_2'] = train['feature_2'].astype('category')\n",
    "train['feature_3'] = train['feature_3'].astype('category')\n",
    "train.head()"
   ]
  },
  {
   "cell_type": "code",
   "execution_count": 137,
   "metadata": {
    "_uuid": "8d58b745566c34c38564a458c5c51dd61c7f5ce7"
   },
   "outputs": [
    {
     "name": "stdout",
     "output_type": "stream",
     "text": [
      "<class 'pandas.core.frame.DataFrame'>\n",
      "RangeIndex: 201917 entries, 0 to 201916\n",
      "Data columns (total 6 columns):\n",
      "first_active_month    201917 non-null datetime64[ns]\n",
      "card_id               201917 non-null object\n",
      "feature_1             201917 non-null category\n",
      "feature_2             201917 non-null category\n",
      "feature_3             201917 non-null category\n",
      "target                201917 non-null float64\n",
      "dtypes: category(3), datetime64[ns](1), float64(1), object(1)\n",
      "memory usage: 5.2+ MB\n"
     ]
    }
   ],
   "source": [
    "train.info()"
   ]
  },
  {
   "cell_type": "markdown",
   "metadata": {
    "_uuid": "31b986f0a87cd0518f681206a0696d53d1c1d03d"
   },
   "source": [
    "We have a date column, three anonymized categorical columns and target."
   ]
  },
  {
   "cell_type": "markdown",
   "metadata": {
    "_uuid": "6cb855bcdd6538fc96570712c7cb8496c135419a"
   },
   "source": [
    "### Features 1, 2, 3"
   ]
  },
  {
   "cell_type": "code",
   "execution_count": 138,
   "metadata": {
    "_kg_hide-input": true,
    "_uuid": "7daf55733e99f9a2490cb0325d6c54f73a0e1fe2"
   },
   "outputs": [
    {
     "data": {
      "image/png": "[encoded data removed]",
      "text/plain": [
       "<Figure size 1152x432 with 3 Axes>"
      ]
     },
     "metadata": {},
     "output_type": "display_data"
    }
   ],
   "source": [
    "fig, ax = plt.subplots(1, 3, figsize = (16, 6))\n",
    "plt.suptitle('Violineplots for features and target');\n",
    "sns.violinplot(x=\"feature_1\", y=\"target\", data=train, ax=ax[0], title='feature_1');\n",
    "sns.violinplot(x=\"feature_2\", y=\"target\", data=train, ax=ax[1], title='feature_2');\n",
    "sns.violinplot(x=\"feature_3\", y=\"target\", data=train, ax=ax[2], title='feature_3');"
   ]
  },
  {
   "cell_type": "code",
   "execution_count": 139,
   "metadata": {
    "_uuid": "a0c7d8cedffdc82ee4dbe8265a47cbe85c30a3d9"
   },
   "outputs": [
    {
     "data": {
      "image/png": "[encoded data removed]",
      "text/plain": [
       "<Figure size 1152x432 with 3 Axes>"
      ]
     },
     "metadata": {},
     "output_type": "display_data"
    }
   ],
   "source": [
    "fig, ax = plt.subplots(1, 3, figsize = (16, 6));\n",
    "train['feature_1'].value_counts().sort_index().plot(kind='bar', ax=ax[0], color='teal', title='feature_1');\n",
    "train['feature_2'].value_counts().sort_index().plot(kind='bar', ax=ax[1], color='brown', title='feature_2');\n",
    "train['feature_3'].value_counts().sort_index().plot(kind='bar', ax=ax[2], color='gold', title='feature_3');\n",
    "plt.suptitle('Counts of categiories for features');"
   ]
  },
  {
   "cell_type": "markdown",
   "metadata": {
    "_uuid": "682502fc8974ec4f093bd93d705c67bc5bdc8c21"
   },
   "source": [
    "These two plots show an important idea: while different categories of these features could have various counts, the distribution of target is almost the same. This could mean, that these features aren't really good at predicting target - we'll need other features and feature engineering.\n",
    "Also it is worth noticing that mean target values of each catogory of these features is near zero. This could mean that data was sampled from normal distribution."
   ]
  },
  {
   "cell_type": "code",
   "execution_count": 140,
   "metadata": {
    "_kg_hide-input": true,
    "_uuid": "44a80af3c1b1f1a601b5364fe0007921646f4069"
   },
   "outputs": [],
   "source": [
    "test['feature_1'] = test['feature_1'].astype('category')\n",
    "test['feature_2'] = test['feature_2'].astype('category')\n",
    "test['feature_3'] = test['feature_3'].astype('category')"
   ]
  },
  {
   "cell_type": "markdown",
   "metadata": {
    "_uuid": "d61aa307d06944cb99dbcc392242f6e3572f358c"
   },
   "source": [
    "### date"
   ]
  },
  {
   "cell_type": "code",
   "execution_count": 141,
   "metadata": {
    "_kg_hide-input": true,
    "_uuid": "64597710f9babb917b974cf44b0a105bb9419029"
   },
   "outputs": [
    {
     "data": {
      "application/vnd.plotly.v1+json": {
       "config": {
        "linkText": "Export to plot.ly",
        "plotlyServerURL": "https://plot.ly",
        "showLink": true
       },
       "data": [
        {
         "name": "train",
         "type": "scatter",
         "uid": "06297525-5a22-492f-a392-3faaa37f9067",
         "x": [
          "2011-11-01",
          "2011-12-01",
          "2012-02-01",
          "2012-03-01",
          "2012-04-01",
          "2012-05-01",
          "2012-06-01",
          "2012-07-01",
          "2012-08-01",
          "2012-09-01",
          "2012-10-01",
          "2012-11-01",
          "2012-12-01",
          "2013-01-01",
          "2013-02-01",
          "2013-03-01",
          "2013-04-01",
          "2013-05-01",
          "2013-06-01",
          "2013-07-01",
          "2013-08-01",
          "2013-09-01",
          "2013-10-01",
          "2013-11-01",
          "2013-12-01",
          "2014-01-01",
          "2014-02-01",
          "2014-03-01",
          "2014-04-01",
          "2014-05-01",
          "2014-06-01",
          "2014-07-01",
          "2014-08-01",
          "2014-09-01",
          "2014-10-01",
          "2014-11-01",
          "2014-12-01",
          "2015-01-01",
          "2015-02-01",
          "2015-03-01",
          "2015-04-01",
          "2015-05-01",
          "2015-06-01",
          "2015-07-01",
          "2015-08-01",
          "2015-09-01",
          "2015-10-01",
          "2015-11-01",
          "2015-12-01",
          "2016-01-01",
          "2016-02-01",
          "2016-03-01",
          "2016-04-01",
          "2016-05-01",
          "2016-06-01",
          "2016-07-01",
          "2016-08-01",
          "2016-09-01",
          "2016-10-01",
          "2016-11-01",
          "2016-12-01",
          "2017-01-01",
          "2017-02-01",
          "2017-03-01",
          "2017-04-01",
          "2017-05-01",
          "2017-06-01",
          "2017-07-01",
          "2017-08-01",
          "2017-09-01",
          "2017-10-01",
          "2017-11-01",
          "2017-12-01",
          "2018-01-01",
          "2018-02-01"
         ],
         "y": [
          8,
          2,
          7,
          10,
          18,
          28,
          19,
          29,
          36,
          38,
          31,
          48,
          18,
          23,
          37,
          58,
          58,
          94,
          79,
          110,
          126,
          121,
          126,
          132,
          165,
          144,
          198,
          242,
          352,
          431,
          345,
          407,
          399,
          431,
          476,
          481,
          617,
          533,
          526,
          608,
          733,
          918,
          1104,
          1393,
          1376,
          1494,
          1532,
          1582,
          2343,
          1711,
          1636,
          2005,
          2938,
          3314,
          4102,
          4188,
          4977,
          4410,
          5371,
          7222,
          9403,
          9605,
          8110,
          8271,
          8761,
          9168,
          9930,
          12363,
          13638,
          13878,
          13695,
          12930,
          10170,
          34,
          1
         ]
        },
        {
         "name": "test",
         "type": "scatter",
         "uid": "6d1a8204-ffe4-40a1-a608-0055b2075620",
         "x": [
          "2011-11-01",
          "2011-12-01",
          "2012-01-01",
          "2012-02-01",
          "2012-03-01",
          "2012-04-01",
          "2012-05-01",
          "2012-06-01",
          "2012-07-01",
          "2012-08-01",
          "2012-09-01",
          "2012-10-01",
          "2012-11-01",
          "2012-12-01",
          "2013-01-01",
          "2013-02-01",
          "2013-03-01",
          "2013-04-01",
          "2013-05-01",
          "2013-06-01",
          "2013-07-01",
          "2013-08-01",
          "2013-09-01",
          "2013-10-01",
          "2013-11-01",
          "2013-12-01",
          "2014-01-01",
          "2014-02-01",
          "2014-03-01",
          "2014-04-01",
          "2014-05-01",
          "2014-06-01",
          "2014-07-01",
          "2014-08-01",
          "2014-09-01",
          "2014-10-01",
          "2014-11-01",
          "2014-12-01",
          "2015-01-01",
          "2015-02-01",
          "2015-03-01",
          "2015-04-01",
          "2015-05-01",
          "2015-06-01",
          "2015-07-01",
          "2015-08-01",
          "2015-09-01",
          "2015-10-01",
          "2015-11-01",
          "2015-12-01",
          "2016-01-01",
          "2016-02-01",
          "2016-03-01",
          "2016-04-01",
          "2016-05-01",
          "2016-06-01",
          "2016-07-01",
          "2016-08-01",
          "2016-09-01",
          "2016-10-01",
          "2016-11-01",
          "2016-12-01",
          "2017-01-01",
          "2017-02-01",
          "2017-03-01",
          "2017-04-01",
          "2017-05-01",
          "2017-06-01",
          "2017-07-01",
          "2017-08-01",
          "2017-09-01",
          "2017-10-01",
          "2017-11-01",
          "2017-12-01",
          "2018-01-01"
         ],
         "y": [
          3,
          2,
          1,
          4,
          10,
          11,
          12,
          14,
          15,
          21,
          18,
          13,
          18,
          16,
          14,
          28,
          34,
          40,
          44,
          56,
          72,
          73,
          75,
          80,
          80,
          95,
          90,
          97,
          141,
          209,
          263,
          220,
          236,
          265,
          257,
          291,
          296,
          390,
          279,
          335,
          397,
          433,
          604,
          711,
          862,
          882,
          818,
          936,
          955,
          1393,
          996,
          987,
          1258,
          1740,
          2096,
          2407,
          2610,
          3108,
          2663,
          3335,
          4444,
          5751,
          5974,
          4903,
          5058,
          5371,
          5598,
          6147,
          7344,
          8299,
          8805,
          8451,
          7807,
          6233,
          28
         ]
        }
       ],
       "layout": {
        "legend": {
         "orientation": "v"
        },
        "title": "Counts of first active",
        "xaxis": {
         "title": "Month"
        },
        "yaxis": {
         "title": "Count"
        }
       }
      },
      "text/html": [
       "<div id=\"6dcac1f3-1ebf-4d1a-a459-ec1511e9f85e\" style=\"height: 525px; width: 100%;\" class=\"plotly-graph-div\"></div><script type=\"text/javascript\">require([\"plotly\"], function(Plotly) { window.PLOTLYENV=window.PLOTLYENV || {};window.PLOTLYENV.BASE_URL=\"https://plot.ly\";Plotly.newPlot(\"6dcac1f3-1ebf-4d1a-a459-ec1511e9f85e\", [{\"name\": \"train\", \"x\": [\"2011-11-01\", \"2011-12-01\", \"2012-02-01\", \"2012-03-01\", \"2012-04-01\", \"2012-05-01\", \"2012-06-01\", \"2012-07-01\", \"2012-08-01\", \"2012-09-01\", \"2012-10-01\", \"2012-11-01\", \"2012-12-01\", \"2013-01-01\", \"2013-02-01\", \"2013-03-01\", \"2013-04-01\", \"2013-05-01\", \"2013-06-01\", \"2013-07-01\", \"2013-08-01\", \"2013-09-01\", \"2013-10-01\", \"2013-11-01\", \"2013-12-01\", \"2014-01-01\", \"2014-02-01\", \"2014-03-01\", \"2014-04-01\", \"2014-05-01\", \"2014-06-01\", \"2014-07-01\", \"2014-08-01\", \"2014-09-01\", \"2014-10-01\", \"2014-11-01\", \"2014-12-01\", \"2015-01-01\", \"2015-02-01\", \"2015-03-01\", \"2015-04-01\", \"2015-05-01\", \"2015-06-01\", \"2015-07-01\", \"2015-08-01\", \"2015-09-01\", \"2015-10-01\", \"2015-11-01\", \"2015-12-01\", \"2016-01-01\", \"2016-02-01\", \"2016-03-01\", \"2016-04-01\", \"2016-05-01\", \"2016-06-01\", \"2016-07-01\", \"2016-08-01\", \"2016-09-01\", \"2016-10-01\", \"2016-11-01\", \"2016-12-01\", \"2017-01-01\", \"2017-02-01\", \"2017-03-01\", \"2017-04-01\", \"2017-05-01\", \"2017-06-01\", \"2017-07-01\", \"2017-08-01\", \"2017-09-01\", \"2017-10-01\", \"2017-11-01\", \"2017-12-01\", \"2018-01-01\", \"2018-02-01\"], \"y\": [8, 2, 7, 10, 18, 28, 19, 29, 36, 38, 31, 48, 18, 23, 37, 58, 58, 94, 79, 110, 126, 121, 126, 132, 165, 144, 198, 242, 352, 431, 345, 407, 399, 431, 476, 481, 617, 533, 526, 608, 733, 918, 1104, 1393, 1376, 1494, 1532, 1582, 2343, 1711, 1636, 2005, 2938, 3314, 4102, 4188, 4977, 4410, 5371, 7222, 9403, 9605, 8110, 8271, 8761, 9168, 9930, 12363, 13638, 13878, 13695, 12930, 10170, 34, 1], \"type\": \"scatter\", \"uid\": \"2b745502-7363-4ebd-9c2e-cda804e1cf89\"}, {\"name\": \"test\", \"x\": [\"2011-11-01\", \"2011-12-01\", \"2012-01-01\", \"2012-02-01\", \"2012-03-01\", \"2012-04-01\", \"2012-05-01\", \"2012-06-01\", \"2012-07-01\", \"2012-08-01\", \"2012-09-01\", \"2012-10-01\", \"2012-11-01\", \"2012-12-01\", \"2013-01-01\", \"2013-02-01\", \"2013-03-01\", \"2013-04-01\", \"2013-05-01\", \"2013-06-01\", \"2013-07-01\", \"2013-08-01\", \"2013-09-01\", \"2013-10-01\", \"2013-11-01\", \"2013-12-01\", \"2014-01-01\", \"2014-02-01\", \"2014-03-01\", \"2014-04-01\", \"2014-05-01\", \"2014-06-01\", \"2014-07-01\", \"2014-08-01\", \"2014-09-01\", \"2014-10-01\", \"2014-11-01\", \"2014-12-01\", \"2015-01-01\", \"2015-02-01\", \"2015-03-01\", \"2015-04-01\", \"2015-05-01\", \"2015-06-01\", \"2015-07-01\", \"2015-08-01\", \"2015-09-01\", \"2015-10-01\", \"2015-11-01\", \"2015-12-01\", \"2016-01-01\", \"2016-02-01\", \"2016-03-01\", \"2016-04-01\", \"2016-05-01\", \"2016-06-01\", \"2016-07-01\", \"2016-08-01\", \"2016-09-01\", \"2016-10-01\", \"2016-11-01\", \"2016-12-01\", \"2017-01-01\", \"2017-02-01\", \"2017-03-01\", \"2017-04-01\", \"2017-05-01\", \"2017-06-01\", \"2017-07-01\", \"2017-08-01\", \"2017-09-01\", \"2017-10-01\", \"2017-11-01\", \"2017-12-01\", \"2018-01-01\"], \"y\": [3, 2, 1, 4, 10, 11, 12, 14, 15, 21, 18, 13, 18, 16, 14, 28, 34, 40, 44, 56, 72, 73, 75, 80, 80, 95, 90, 97, 141, 209, 263, 220, 236, 265, 257, 291, 296, 390, 279, 335, 397, 433, 604, 711, 862, 882, 818, 936, 955, 1393, 996, 987, 1258, 1740, 2096, 2407, 2610, 3108, 2663, 3335, 4444, 5751, 5974, 4903, 5058, 5371, 5598, 6147, 7344, 8299, 8805, 8451, 7807, 6233, 28], \"type\": \"scatter\", \"uid\": \"c80a8cb6-564e-42b3-b9d7-e219278748b2\"}], {\"legend\": {\"orientation\": \"v\"}, \"title\": \"Counts of first active\", \"xaxis\": {\"title\": \"Month\"}, \"yaxis\": {\"title\": \"Count\"}}, {\"showLink\": true, \"linkText\": \"Export to plot.ly\", \"plotlyServerURL\": \"https://plot.ly\"})});</script><script type=\"text/javascript\">window.addEventListener(\"resize\", function(){window._Plotly.Plots.resize(document.getElementById(\"6dcac1f3-1ebf-4d1a-a459-ec1511e9f85e\"));});</script>"
      ],
      "text/vnd.plotly.v1+html": [
       "<div id=\"6dcac1f3-1ebf-4d1a-a459-ec1511e9f85e\" style=\"height: 525px; width: 100%;\" class=\"plotly-graph-div\"></div><script type=\"text/javascript\">require([\"plotly\"], function(Plotly) { window.PLOTLYENV=window.PLOTLYENV || {};window.PLOTLYENV.BASE_URL=\"https://plot.ly\";Plotly.newPlot(\"6dcac1f3-1ebf-4d1a-a459-ec1511e9f85e\", [{\"name\": \"train\", \"x\": [\"2011-11-01\", \"2011-12-01\", \"2012-02-01\", \"2012-03-01\", \"2012-04-01\", \"2012-05-01\", \"2012-06-01\", \"2012-07-01\", \"2012-08-01\", \"2012-09-01\", \"2012-10-01\", \"2012-11-01\", \"2012-12-01\", \"2013-01-01\", \"2013-02-01\", \"2013-03-01\", \"2013-04-01\", \"2013-05-01\", \"2013-06-01\", \"2013-07-01\", \"2013-08-01\", \"2013-09-01\", \"2013-10-01\", \"2013-11-01\", \"2013-12-01\", \"2014-01-01\", \"2014-02-01\", \"2014-03-01\", \"2014-04-01\", \"2014-05-01\", \"2014-06-01\", \"2014-07-01\", \"2014-08-01\", \"2014-09-01\", \"2014-10-01\", \"2014-11-01\", \"2014-12-01\", \"2015-01-01\", \"2015-02-01\", \"2015-03-01\", \"2015-04-01\", \"2015-05-01\", \"2015-06-01\", \"2015-07-01\", \"2015-08-01\", \"2015-09-01\", \"2015-10-01\", \"2015-11-01\", \"2015-12-01\", \"2016-01-01\", \"2016-02-01\", \"2016-03-01\", \"2016-04-01\", \"2016-05-01\", \"2016-06-01\", \"2016-07-01\", \"2016-08-01\", \"2016-09-01\", \"2016-10-01\", \"2016-11-01\", \"2016-12-01\", \"2017-01-01\", \"2017-02-01\", \"2017-03-01\", \"2017-04-01\", \"2017-05-01\", \"2017-06-01\", \"2017-07-01\", \"2017-08-01\", \"2017-09-01\", \"2017-10-01\", \"2017-11-01\", \"2017-12-01\", \"2018-01-01\", \"2018-02-01\"], \"y\": [8, 2, 7, 10, 18, 28, 19, 29, 36, 38, 31, 48, 18, 23, 37, 58, 58, 94, 79, 110, 126, 121, 126, 132, 165, 144, 198, 242, 352, 431, 345, 407, 399, 431, 476, 481, 617, 533, 526, 608, 733, 918, 1104, 1393, 1376, 1494, 1532, 1582, 2343, 1711, 1636, 2005, 2938, 3314, 4102, 4188, 4977, 4410, 5371, 7222, 9403, 9605, 8110, 8271, 8761, 9168, 9930, 12363, 13638, 13878, 13695, 12930, 10170, 34, 1], \"type\": \"scatter\", \"uid\": \"2b745502-7363-4ebd-9c2e-cda804e1cf89\"}, {\"name\": \"test\", \"x\": [\"2011-11-01\", \"2011-12-01\", \"2012-01-01\", \"2012-02-01\", \"2012-03-01\", \"2012-04-01\", \"2012-05-01\", \"2012-06-01\", \"2012-07-01\", \"2012-08-01\", \"2012-09-01\", \"2012-10-01\", \"2012-11-01\", \"2012-12-01\", \"2013-01-01\", \"2013-02-01\", \"2013-03-01\", \"2013-04-01\", \"2013-05-01\", \"2013-06-01\", \"2013-07-01\", \"2013-08-01\", \"2013-09-01\", \"2013-10-01\", \"2013-11-01\", \"2013-12-01\", \"2014-01-01\", \"2014-02-01\", \"2014-03-01\", \"2014-04-01\", \"2014-05-01\", \"2014-06-01\", \"2014-07-01\", \"2014-08-01\", \"2014-09-01\", \"2014-10-01\", \"2014-11-01\", \"2014-12-01\", \"2015-01-01\", \"2015-02-01\", \"2015-03-01\", \"2015-04-01\", \"2015-05-01\", \"2015-06-01\", \"2015-07-01\", \"2015-08-01\", \"2015-09-01\", \"2015-10-01\", \"2015-11-01\", \"2015-12-01\", \"2016-01-01\", \"2016-02-01\", \"2016-03-01\", \"2016-04-01\", \"2016-05-01\", \"2016-06-01\", \"2016-07-01\", \"2016-08-01\", \"2016-09-01\", \"2016-10-01\", \"2016-11-01\", \"2016-12-01\", \"2017-01-01\", \"2017-02-01\", \"2017-03-01\", \"2017-04-01\", \"2017-05-01\", \"2017-06-01\", \"2017-07-01\", \"2017-08-01\", \"2017-09-01\", \"2017-10-01\", \"2017-11-01\", \"2017-12-01\", \"2018-01-01\"], \"y\": [3, 2, 1, 4, 10, 11, 12, 14, 15, 21, 18, 13, 18, 16, 14, 28, 34, 40, 44, 56, 72, 73, 75, 80, 80, 95, 90, 97, 141, 209, 263, 220, 236, 265, 257, 291, 296, 390, 279, 335, 397, 433, 604, 711, 862, 882, 818, 936, 955, 1393, 996, 987, 1258, 1740, 2096, 2407, 2610, 3108, 2663, 3335, 4444, 5751, 5974, 4903, 5058, 5371, 5598, 6147, 7344, 8299, 8805, 8451, 7807, 6233, 28], \"type\": \"scatter\", \"uid\": \"c80a8cb6-564e-42b3-b9d7-e219278748b2\"}], {\"legend\": {\"orientation\": \"v\"}, \"title\": \"Counts of first active\", \"xaxis\": {\"title\": \"Month\"}, \"yaxis\": {\"title\": \"Count\"}}, {\"showLink\": true, \"linkText\": \"Export to plot.ly\", \"plotlyServerURL\": \"https://plot.ly\"})});</script><script type=\"text/javascript\">window.addEventListener(\"resize\", function(){window._Plotly.Plots.resize(document.getElementById(\"6dcac1f3-1ebf-4d1a-a459-ec1511e9f85e\"));});</script>"
      ]
     },
     "metadata": {},
     "output_type": "display_data"
    }
   ],
   "source": [
    "d1 = train['first_active_month'].value_counts().sort_index()\n",
    "d2 = test['first_active_month'].value_counts().sort_index()\n",
    "data = [go.Scatter(x=d1.index, y=d1.values, name='train'), go.Scatter(x=d2.index, y=d2.values, name='test')]\n",
    "layout = go.Layout(dict(title = \"Counts of first active\",\n",
    "                  xaxis = dict(title = 'Month'),\n",
    "                  yaxis = dict(title = 'Count'),\n",
    "                  ),legend=dict(\n",
    "                orientation=\"v\"))\n",
    "py.iplot(dict(data=data, layout=layout))"
   ]
  },
  {
   "cell_type": "markdown",
   "metadata": {
    "_uuid": "83d3cd04490e0c01954364925f294320594db825"
   },
   "source": [
    "Trends of counts for train and test data are similar, and this is great.\n",
    "Why there is such a sharp decline at the end of the period? I think it was on purpose. Or maybe new cards are taken into account only after fulfilling some conditions. "
   ]
  },
  {
   "cell_type": "markdown",
   "metadata": {
    "_uuid": "5c9104e4bfe927de597a5d4ae8386601497444ee"
   },
   "source": [
    "Also there is one line with a missing data in test. I'll fill in with the first data, having the same values of features."
   ]
  },
  {
   "cell_type": "code",
   "execution_count": 142,
   "metadata": {
    "_kg_hide-input": true,
    "_uuid": "7de538f601aeb343699378407bbd2f5bc5d8599b"
   },
   "outputs": [],
   "source": [
    "test.loc[test['first_active_month'].isna(), 'first_active_month'] = test.loc[(test['feature_1'] == 5) & (test['feature_2'] == 2) & (test['feature_3'] == 1), 'first_active_month'].min()"
   ]
  },
  {
   "cell_type": "markdown",
   "metadata": {
    "_uuid": "2b122c20d0d0ea655c870bd680c6a1b8d667ac00"
   },
   "source": [
    "### target"
   ]
  },
  {
   "cell_type": "code",
   "execution_count": 143,
   "metadata": {
    "_uuid": "8518aa54cd20681ad6523fe7594e845d9a8d5b45"
   },
   "outputs": [
    {
     "data": {
      "image/png": "[encoded data removed]",
      "text/plain": [
       "<Figure size 432x288 with 1 Axes>"
      ]
     },
     "metadata": {},
     "output_type": "display_data"
    }
   ],
   "source": [
    "plt.hist(train['target']);\n",
    "plt.title('Target distribution');"
   ]
  },
  {
   "cell_type": "code",
   "execution_count": 144,
   "metadata": {},
   "outputs": [],
   "source": [
    "# print(y.describe())\n",
    "# print(y.shape)\n",
    "# print(y.quantile(0.01))\n",
    "# train['target'].describe()\n"
   ]
  },
  {
   "cell_type": "markdown",
   "metadata": {
    "_uuid": "492d42cc2ec8fa059f500d917d9bd3d64d61529f"
   },
   "source": [
    "This looks really strange!"
   ]
  },
  {
   "cell_type": "code",
   "execution_count": 145,
   "metadata": {
    "_uuid": "d4895635e7c1d7badb4b0a44a2e3a17f11a91dbe",
    "scrolled": true
   },
   "outputs": [
    {
     "name": "stdout",
     "output_type": "stream",
     "text": [
      "There are 2207 samples with target lower than -20.\n"
     ]
    }
   ],
   "source": [
    "print('There are {0} samples with target lower than -20.'.format(train.loc[train.target < -20].shape[0]))\n",
    "\n"
   ]
  },
  {
   "cell_type": "markdown",
   "metadata": {
    "_uuid": "3eba2f232449fee34285d5ca8b34da760938c254"
   },
   "source": [
    "And they have 1 unique value: -33.21928095.\n",
    "This seems to be a special case. Maybe it would be reasonable to simply exclude these samples. We'll try later."
   ]
  },
  {
   "cell_type": "markdown",
   "metadata": {
    "_uuid": "53922f8b0bed06b45ca0cb7e86d2d7f2bb77f13c"
   },
   "source": [
    "### Feature engineering"
   ]
  },
  {
   "cell_type": "code",
   "execution_count": 146,
   "metadata": {
    "_uuid": "8860a423f8210194f87230ed8b128122951ce611"
   },
   "outputs": [],
   "source": [
    "max_date = train['first_active_month'].dt.date.max()\n",
    "def process_main(df):\n",
    "    date_parts = [\"year\", \"weekday\", \"month\"]\n",
    "    for part in date_parts:\n",
    "        part_col = 'first_active_month' + \"_\" + part\n",
    "        df[part_col] = getattr(df['first_active_month'].dt, part).astype(int)\n",
    "            \n",
    "    df['elapsed_time'] = (max_date - df['first_active_month'].dt.date).dt.days\n",
    "    \n",
    "    return df"
   ]
  },
  {
   "cell_type": "code",
   "execution_count": 147,
   "metadata": {
    "_uuid": "dbb2fe24f5ec2792adc71edc012635e3edc65b96"
   },
   "outputs": [],
   "source": [
    "train = process_main(train)\n",
    "test = process_main(test)"
   ]
  },
  {
   "cell_type": "markdown",
   "metadata": {
    "_uuid": "e1368ad6720235a592b02ceb134fee2081324753"
   },
   "source": [
    "## historical_transactions\n",
    "Up to 3 months' worth of historical transactions for each card_id"
   ]
  },
  {
   "cell_type": "code",
   "execution_count": 148,
   "metadata": {
    "_uuid": "b5a7d140d2ccfd4c26c6d31e45beba1bb82ec59a"
   },
   "outputs": [
    {
     "data": {
      "text/html": [
       "<div>\n",
       "<style scoped>\n",
       "    .dataframe tbody tr th:only-of-type {\n",
       "        vertical-align: middle;\n",
       "    }\n",
       "\n",
       "    .dataframe tbody tr th {\n",
       "        vertical-align: top;\n",
       "    }\n",
       "\n",
       "    .dataframe thead th {\n",
       "        text-align: right;\n",
       "    }\n",
       "</style>\n",
       "<table border=\"1\" class=\"dataframe\">\n",
       "  <thead>\n",
       "    <tr style=\"text-align: right;\">\n",
       "      <th></th>\n",
       "      <th>historical_transactions.csv</th>\n",
       "      <th>Unnamed: 1</th>\n",
       "    </tr>\n",
       "  </thead>\n",
       "  <tbody>\n",
       "    <tr>\n",
       "      <th>0</th>\n",
       "      <td>NaN</td>\n",
       "      <td>NaN</td>\n",
       "    </tr>\n",
       "    <tr>\n",
       "      <th>1</th>\n",
       "      <td>Columns</td>\n",
       "      <td>Description</td>\n",
       "    </tr>\n",
       "    <tr>\n",
       "      <th>2</th>\n",
       "      <td>card_id</td>\n",
       "      <td>Card identifier</td>\n",
       "    </tr>\n",
       "    <tr>\n",
       "      <th>3</th>\n",
       "      <td>month_lag</td>\n",
       "      <td>month lag to reference date</td>\n",
       "    </tr>\n",
       "    <tr>\n",
       "      <th>4</th>\n",
       "      <td>purchase_date</td>\n",
       "      <td>Purchase date</td>\n",
       "    </tr>\n",
       "    <tr>\n",
       "      <th>5</th>\n",
       "      <td>authorized_flag</td>\n",
       "      <td>Y' if approved, 'N' if denied</td>\n",
       "    </tr>\n",
       "    <tr>\n",
       "      <th>6</th>\n",
       "      <td>category_3</td>\n",
       "      <td>anonymized category</td>\n",
       "    </tr>\n",
       "    <tr>\n",
       "      <th>7</th>\n",
       "      <td>installments</td>\n",
       "      <td>number of installments of purchase</td>\n",
       "    </tr>\n",
       "    <tr>\n",
       "      <th>8</th>\n",
       "      <td>category_1</td>\n",
       "      <td>anonymized category</td>\n",
       "    </tr>\n",
       "    <tr>\n",
       "      <th>9</th>\n",
       "      <td>merchant_category_id</td>\n",
       "      <td>Merchant category identifier (anonymized )</td>\n",
       "    </tr>\n",
       "    <tr>\n",
       "      <th>10</th>\n",
       "      <td>subsector_id</td>\n",
       "      <td>Merchant category group identifier (anonymized )</td>\n",
       "    </tr>\n",
       "    <tr>\n",
       "      <th>11</th>\n",
       "      <td>merchant_id</td>\n",
       "      <td>Merchant identifier (anonymized)</td>\n",
       "    </tr>\n",
       "    <tr>\n",
       "      <th>12</th>\n",
       "      <td>purchase_amount</td>\n",
       "      <td>Normalized purchase amount</td>\n",
       "    </tr>\n",
       "    <tr>\n",
       "      <th>13</th>\n",
       "      <td>city_id</td>\n",
       "      <td>City identifier (anonymized )</td>\n",
       "    </tr>\n",
       "    <tr>\n",
       "      <th>14</th>\n",
       "      <td>state_id</td>\n",
       "      <td>State identifier (anonymized )</td>\n",
       "    </tr>\n",
       "    <tr>\n",
       "      <th>15</th>\n",
       "      <td>category_2</td>\n",
       "      <td>anonymized category</td>\n",
       "    </tr>\n",
       "  </tbody>\n",
       "</table>\n",
       "</div>"
      ],
      "text/plain": [
       "   historical_transactions.csv  \\\n",
       "0                          NaN   \n",
       "1                      Columns   \n",
       "2                      card_id   \n",
       "3                    month_lag   \n",
       "4                purchase_date   \n",
       "5              authorized_flag   \n",
       "6                   category_3   \n",
       "7                 installments   \n",
       "8                   category_1   \n",
       "9         merchant_category_id   \n",
       "10                subsector_id   \n",
       "11                 merchant_id   \n",
       "12             purchase_amount   \n",
       "13                     city_id   \n",
       "14                    state_id   \n",
       "15                  category_2   \n",
       "\n",
       "                                          Unnamed: 1  \n",
       "0                                                NaN  \n",
       "1                                        Description  \n",
       "2                                    Card identifier  \n",
       "3                        month lag to reference date  \n",
       "4                                      Purchase date  \n",
       "5                      Y' if approved, 'N' if denied  \n",
       "6                                anonymized category  \n",
       "7                 number of installments of purchase  \n",
       "8                                anonymized category  \n",
       "9         Merchant category identifier (anonymized )  \n",
       "10  Merchant category group identifier (anonymized )  \n",
       "11                  Merchant identifier (anonymized)  \n",
       "12                        Normalized purchase amount  \n",
       "13                     City identifier (anonymized )  \n",
       "14                    State identifier (anonymized )  \n",
       "15                               anonymized category  "
      ]
     },
     "execution_count": 148,
     "metadata": {},
     "output_type": "execute_result"
    }
   ],
   "source": [
    "historical_transactions = pd.read_csv(path_data + '/historical_transactions.csv')\n",
    "e = pd.read_excel(path_data + '/Data_Dictionary.xlsx', sheet_name='history')\n",
    "e"
   ]
  },
  {
   "cell_type": "code",
   "execution_count": 149,
   "metadata": {
    "_uuid": "ede3696d9c49284f731d61e2003b6d12901b663a"
   },
   "outputs": [
    {
     "name": "stdout",
     "output_type": "stream",
     "text": [
      "29112361 samples in data\n"
     ]
    },
    {
     "data": {
      "text/html": [
       "<div>\n",
       "<style scoped>\n",
       "    .dataframe tbody tr th:only-of-type {\n",
       "        vertical-align: middle;\n",
       "    }\n",
       "\n",
       "    .dataframe tbody tr th {\n",
       "        vertical-align: top;\n",
       "    }\n",
       "\n",
       "    .dataframe thead th {\n",
       "        text-align: right;\n",
       "    }\n",
       "</style>\n",
       "<table border=\"1\" class=\"dataframe\">\n",
       "  <thead>\n",
       "    <tr style=\"text-align: right;\">\n",
       "      <th></th>\n",
       "      <th>authorized_flag</th>\n",
       "      <th>card_id</th>\n",
       "      <th>city_id</th>\n",
       "      <th>category_1</th>\n",
       "      <th>installments</th>\n",
       "      <th>category_3</th>\n",
       "      <th>merchant_category_id</th>\n",
       "      <th>merchant_id</th>\n",
       "      <th>month_lag</th>\n",
       "      <th>purchase_amount</th>\n",
       "      <th>purchase_date</th>\n",
       "      <th>category_2</th>\n",
       "      <th>state_id</th>\n",
       "      <th>subsector_id</th>\n",
       "    </tr>\n",
       "  </thead>\n",
       "  <tbody>\n",
       "    <tr>\n",
       "      <th>0</th>\n",
       "      <td>Y</td>\n",
       "      <td>C_ID_4e6213e9bc</td>\n",
       "      <td>88</td>\n",
       "      <td>N</td>\n",
       "      <td>0</td>\n",
       "      <td>A</td>\n",
       "      <td>80</td>\n",
       "      <td>M_ID_e020e9b302</td>\n",
       "      <td>-8</td>\n",
       "      <td>-0.703331</td>\n",
       "      <td>2017-06-25 15:33:07</td>\n",
       "      <td>1.0</td>\n",
       "      <td>16</td>\n",
       "      <td>37</td>\n",
       "    </tr>\n",
       "    <tr>\n",
       "      <th>1</th>\n",
       "      <td>Y</td>\n",
       "      <td>C_ID_4e6213e9bc</td>\n",
       "      <td>88</td>\n",
       "      <td>N</td>\n",
       "      <td>0</td>\n",
       "      <td>A</td>\n",
       "      <td>367</td>\n",
       "      <td>M_ID_86ec983688</td>\n",
       "      <td>-7</td>\n",
       "      <td>-0.733128</td>\n",
       "      <td>2017-07-15 12:10:45</td>\n",
       "      <td>1.0</td>\n",
       "      <td>16</td>\n",
       "      <td>16</td>\n",
       "    </tr>\n",
       "    <tr>\n",
       "      <th>2</th>\n",
       "      <td>Y</td>\n",
       "      <td>C_ID_4e6213e9bc</td>\n",
       "      <td>88</td>\n",
       "      <td>N</td>\n",
       "      <td>0</td>\n",
       "      <td>A</td>\n",
       "      <td>80</td>\n",
       "      <td>M_ID_979ed661fc</td>\n",
       "      <td>-6</td>\n",
       "      <td>-0.720386</td>\n",
       "      <td>2017-08-09 22:04:29</td>\n",
       "      <td>1.0</td>\n",
       "      <td>16</td>\n",
       "      <td>37</td>\n",
       "    </tr>\n",
       "    <tr>\n",
       "      <th>3</th>\n",
       "      <td>Y</td>\n",
       "      <td>C_ID_4e6213e9bc</td>\n",
       "      <td>88</td>\n",
       "      <td>N</td>\n",
       "      <td>0</td>\n",
       "      <td>A</td>\n",
       "      <td>560</td>\n",
       "      <td>M_ID_e6d5ae8ea6</td>\n",
       "      <td>-5</td>\n",
       "      <td>-0.735352</td>\n",
       "      <td>2017-09-02 10:06:26</td>\n",
       "      <td>1.0</td>\n",
       "      <td>16</td>\n",
       "      <td>34</td>\n",
       "    </tr>\n",
       "    <tr>\n",
       "      <th>4</th>\n",
       "      <td>Y</td>\n",
       "      <td>C_ID_4e6213e9bc</td>\n",
       "      <td>88</td>\n",
       "      <td>N</td>\n",
       "      <td>0</td>\n",
       "      <td>A</td>\n",
       "      <td>80</td>\n",
       "      <td>M_ID_e020e9b302</td>\n",
       "      <td>-11</td>\n",
       "      <td>-0.722865</td>\n",
       "      <td>2017-03-10 01:14:19</td>\n",
       "      <td>1.0</td>\n",
       "      <td>16</td>\n",
       "      <td>37</td>\n",
       "    </tr>\n",
       "  </tbody>\n",
       "</table>\n",
       "</div>"
      ],
      "text/plain": [
       "  authorized_flag          card_id  city_id category_1  installments  \\\n",
       "0               Y  C_ID_4e6213e9bc       88          N             0   \n",
       "1               Y  C_ID_4e6213e9bc       88          N             0   \n",
       "2               Y  C_ID_4e6213e9bc       88          N             0   \n",
       "3               Y  C_ID_4e6213e9bc       88          N             0   \n",
       "4               Y  C_ID_4e6213e9bc       88          N             0   \n",
       "\n",
       "  category_3  merchant_category_id      merchant_id  month_lag  \\\n",
       "0          A                    80  M_ID_e020e9b302         -8   \n",
       "1          A                   367  M_ID_86ec983688         -7   \n",
       "2          A                    80  M_ID_979ed661fc         -6   \n",
       "3          A                   560  M_ID_e6d5ae8ea6         -5   \n",
       "4          A                    80  M_ID_e020e9b302        -11   \n",
       "\n",
       "   purchase_amount        purchase_date  category_2  state_id  subsector_id  \n",
       "0        -0.703331  2017-06-25 15:33:07         1.0        16            37  \n",
       "1        -0.733128  2017-07-15 12:10:45         1.0        16            16  \n",
       "2        -0.720386  2017-08-09 22:04:29         1.0        16            37  \n",
       "3        -0.735352  2017-09-02 10:06:26         1.0        16            34  \n",
       "4        -0.722865  2017-03-10 01:14:19         1.0        16            37  "
      ]
     },
     "execution_count": 149,
     "metadata": {},
     "output_type": "execute_result"
    }
   ],
   "source": [
    "print('%d samples in data'%historical_transactions.shape[0])\n",
    "historical_transactions.head()"
   ]
  },
  {
   "cell_type": "code",
   "execution_count": 150,
   "metadata": {
    "_uuid": "78bf7fa2ff4b117c618e57c89550f21fae394acf"
   },
   "outputs": [],
   "source": [
    "# let's convert the authorized_flag to a binary value.\n",
    "historical_transactions['authorized_flag'] = historical_transactions['authorized_flag'].apply(lambda x: 1 if x == 'Y' else 0)"
   ]
  },
  {
   "cell_type": "code",
   "execution_count": 151,
   "metadata": {
    "_uuid": "dd6854d829cd47af5ca1f64ead34302162e3591d"
   },
   "outputs": [
    {
     "name": "stdout",
     "output_type": "stream",
     "text": [
      "At average 91.3545% transactions are authorized\n"
     ]
    },
    {
     "data": {
      "image/png": "[encoded data removed]",
      "text/plain": [
       "<Figure size 432x288 with 1 Axes>"
      ]
     },
     "metadata": {},
     "output_type": "display_data"
    }
   ],
   "source": [
    "print(\"At average %.4f%% transactions are authorized\"%(historical_transactions['authorized_flag'].mean() * 100))\n",
    "historical_transactions['authorized_flag'].value_counts().plot(kind='barh', title='authorized_flag value counts');"
   ]
  },
  {
   "cell_type": "markdown",
   "metadata": {
    "_uuid": "77d0bc7516192a093596aada62144b396398f058"
   },
   "source": [
    "#### Cards with lowest and highest percentage of authorized transactions"
   ]
  },
  {
   "cell_type": "code",
   "execution_count": 152,
   "metadata": {
    "_uuid": "b71bcd401b4676e68e9d63a10b35261823bf0c47"
   },
   "outputs": [
    {
     "data": {
      "text/plain": [
       "card_id\n",
       "C_ID_744d26ea32    0.030488\n",
       "C_ID_bb8dd137c9    0.037037\n",
       "C_ID_e56202cd39    0.042105\n",
       "C_ID_4feacff118    0.050000\n",
       "C_ID_c27b4f80f7    0.054545\n",
       "Name: authorized_flag, dtype: float64"
      ]
     },
     "execution_count": 152,
     "metadata": {},
     "output_type": "execute_result"
    }
   ],
   "source": [
    "autorized_card_rate = historical_transactions.groupby(['card_id'])['authorized_flag'].mean().sort_values()\n",
    "autorized_card_rate.head()"
   ]
  },
  {
   "cell_type": "code",
   "execution_count": 153,
   "metadata": {
    "_uuid": "5f3f174445643cb89217bbb50643a6ab3d7daa88"
   },
   "outputs": [
    {
     "data": {
      "text/plain": [
       "card_id\n",
       "C_ID_d048b7cc60    1.0\n",
       "C_ID_4e45fcdb43    1.0\n",
       "C_ID_9f3ee1305e    1.0\n",
       "C_ID_1b52a3e21b    1.0\n",
       "C_ID_d3c3d988d5    1.0\n",
       "Name: authorized_flag, dtype: float64"
      ]
     },
     "execution_count": 153,
     "metadata": {},
     "output_type": "execute_result"
    }
   ],
   "source": [
    "autorized_card_rate.tail()"
   ]
  },
  {
   "cell_type": "code",
   "execution_count": 154,
   "metadata": {},
   "outputs": [
    {
     "name": "stdout",
     "output_type": "stream",
     "text": [
      "147\n",
      "147\n"
     ]
    }
   ],
   "source": [
    "count=0\n",
    "for a in autorized_card_rate:\n",
    "    if (a<0.2):\n",
    "        count=count+1\n",
    "print(count)\n",
    "\n",
    "\n",
    "x=autorized_card_rate.index[0:count]\n",
    "z=submission['card_id'][:]\n",
    "h=[]\n",
    "\n",
    "for a in x:\n",
    "    h.append(a)\n",
    "print(len(h))"
   ]
  },
  {
   "cell_type": "code",
   "execution_count": 155,
   "metadata": {},
   "outputs": [],
   "source": [
    "historical_transactions=historical_transactions[~historical_transactions.card_id.isin(h)]\n",
    "\n",
    "#historical_transactions=historical_transactions.drop(historical_transactions[historical_transactions['card_id'] ==x].index)\n",
    "\n"
   ]
  },
  {
   "cell_type": "markdown",
   "metadata": {
    "_uuid": "3b51dca37359a83b61de319f3e21b1747374f550"
   },
   "source": [
    "It seems that there are some cards, for which most of transactions were declined. Were this fraud transactions?"
   ]
  },
  {
   "cell_type": "markdown",
   "metadata": {
    "_uuid": "9b1557084710171b4f1678beddac984278db62de"
   },
   "source": [
    "### installments"
   ]
  },
  {
   "cell_type": "code",
   "execution_count": 156,
   "metadata": {
    "_uuid": "77c6435989bcfcb0a2ea4ce799f6c5084489fba2"
   },
   "outputs": [
    {
     "data": {
      "text/plain": [
       " 0      15410522\n",
       " 1      11661725\n",
       " 2        666138\n",
       " 3        537864\n",
       " 4        179254\n",
       "-1        178134\n",
       " 6        132339\n",
       " 10       118526\n",
       " 5        115840\n",
       " 12        54837\n",
       " 8         20402\n",
       " 7         10867\n",
       " 9          5756\n",
       " 11          821\n",
       " 999         188\n",
       "Name: installments, dtype: int64"
      ]
     },
     "execution_count": 156,
     "metadata": {},
     "output_type": "execute_result"
    }
   ],
   "source": [
    "historical_transactions['installments'].value_counts()"
   ]
  },
  {
   "cell_type": "markdown",
   "metadata": {},
   "source": [
    "historical_transactions['authorized_flag'].isna().values.any()\n",
    "\n",
    "#historical_transactions=historical_transactions[historical_transactions['card_id'] !='C_ID_bb8dd137c9']\n",
    "\n",
    "historical_transactions.query('card_id != C_ID_e56202cd39  ')"
   ]
  },
  {
   "cell_type": "markdown",
   "metadata": {
    "_uuid": "6b80ea624d98fc9a623ca503ce65f9279038abd4"
   },
   "source": [
    "Interesting. Most common number of installments are 0 and 1 which is expected. But -1 and 999 are strange. I think that these values were used to fill in missing values."
   ]
  },
  {
   "cell_type": "code",
   "execution_count": 157,
   "metadata": {
    "_uuid": "e7c5b683028e4eb0e5f8630eddd969a3394f4c85"
   },
   "outputs": [
    {
     "data": {
      "text/plain": [
       "installments\n",
       "-1      0.885710\n",
       " 0      0.928080\n",
       " 1      0.908098\n",
       " 2      0.884228\n",
       " 3      0.862614\n",
       " 4      0.820813\n",
       " 5      0.810463\n",
       " 6      0.781161\n",
       " 7      0.695592\n",
       " 8      0.694589\n",
       " 9      0.665219\n",
       " 10     0.703424\n",
       " 11     0.667479\n",
       " 12     0.655670\n",
       " 999    0.031915\n",
       "Name: authorized_flag, dtype: float64"
      ]
     },
     "execution_count": 157,
     "metadata": {},
     "output_type": "execute_result"
    }
   ],
   "source": [
    "historical_transactions.groupby(['installments'])['authorized_flag'].mean()"
   ]
  },
  {
   "cell_type": "code",
   "execution_count": 158,
   "metadata": {},
   "outputs": [
    {
     "data": {
      "text/plain": [
       "1    26592781\n",
       "0     2500432\n",
       "Name: authorized_flag, dtype: int64"
      ]
     },
     "execution_count": 158,
     "metadata": {},
     "output_type": "execute_result"
    }
   ],
   "source": [
    "historical_transactions['authorized_flag'].value_counts()"
   ]
  },
  {
   "cell_type": "markdown",
   "metadata": {
    "_uuid": "287ed174beb856d10ed027964f723178c5806c91"
   },
   "source": [
    "On the other hand it seems that `999` could mean fraud transactions, considering only 3% of these transactions were approved. One more interesting thing is that the higher the number of installments is, the lower is the approval rate."
   ]
  },
  {
   "cell_type": "code",
   "execution_count": 159,
   "metadata": {
    "_uuid": "3a86d52e2adf506ddf1aa5f0896b4d1c92bdb11d"
   },
   "outputs": [],
   "source": [
    "historical_transactions['installments'] = historical_transactions['installments'].astype('category')"
   ]
  },
  {
   "cell_type": "code",
   "execution_count": 160,
   "metadata": {
    "_uuid": "d6214bc2c3ab55023afd30b741d2b58cee926fb5"
   },
   "outputs": [],
   "source": [
    "historical_transactions['purchase_date'] = pd.to_datetime(historical_transactions['purchase_date'])\n",
    "\n",
    "\n",
    "historical_transactions=historical_transactions.drop(historical_transactions[historical_transactions['installments'] ==999].index)\n",
    "#historical_transactions=historical_transactions.drop(historical_transactions[historical_transactions['installments'] ==-1].index)\n"
   ]
  },
  {
   "cell_type": "markdown",
   "metadata": {
    "_uuid": "54656298ce661b953b7f44b0ff95270810779626"
   },
   "source": [
    "### purchase_amount\n",
    "Sadly purchase_amount is normalized. Let's have a look at it nevertheless."
   ]
  },
  {
   "cell_type": "code",
   "execution_count": 161,
   "metadata": {
    "_uuid": "9c7bf0f10585eaeb90b6c0b461f369b943e17440"
   },
   "outputs": [
    {
     "data": {
      "image/png": "[encoded data removed]",
      "text/plain": [
       "<Figure size 432x288 with 1 Axes>"
      ]
     },
     "metadata": {},
     "output_type": "display_data"
    }
   ],
   "source": [
    "plt.title('Purchase amount distribution.');\n",
    "historical_transactions['purchase_amount'].plot(kind='hist');"
   ]
  },
  {
   "cell_type": "code",
   "execution_count": 162,
   "metadata": {
    "_uuid": "17f5e16a06e78bfdebfe753aeffd096580413a09"
   },
   "outputs": [
    {
     "name": "stdout",
     "output_type": "stream",
     "text": [
      "There are 0 transactions with purchase_amount less than -1.\n",
      "There are 28018346 transactions with purchase_amount less than 0.\n",
      "There are 1074669 transactions with purchase_amount more than 0.\n",
      "There are 47550 transactions with purchase_amount more than 5.\n",
      "There are 26341 transactions with purchase_amount more than 7.\n",
      "There are 21715 transactions with purchase_amount more than 8.\n",
      "There are 17741 transactions with purchase_amount more than 9.\n",
      "There are 14908 transactions with purchase_amount more than 10.\n",
      "There are 1183 transactions with purchase_amount more than 100.\n"
     ]
    }
   ],
   "source": [
    "for i in [-1, 0]:\n",
    "    n = historical_transactions.loc[historical_transactions['purchase_amount'] < i].shape[0]\n",
    "    print(\"There are %d transactions with purchase_amount less than %d.\"%(n, i))\n",
    "for i in [0, 5,7,8,9,10,100]:\n",
    "    n = historical_transactions.loc[historical_transactions['purchase_amount'] > i].shape[0]\n",
    "    print(\"There are %d transactions with purchase_amount more than %d.\"%(n, i))"
   ]
  },
  {
   "cell_type": "code",
   "execution_count": 163,
   "metadata": {
    "_uuid": "ec7d52ea0e15977fb913904d9c2ca494b7c40e48"
   },
   "outputs": [
    {
     "data": {
      "image/png": "[encoded data removed]",
      "text/plain": [
       "<Figure size 432x288 with 1 Axes>"
      ]
     },
     "metadata": {},
     "output_type": "display_data"
    }
   ],
   "source": [
    "plt.title('Purchase amount distribution for negative values.');\n",
    "historical_transactions.loc[historical_transactions['purchase_amount'] < 0, 'purchase_amount'].plot(kind='hist');"
   ]
  },
  {
   "cell_type": "code",
   "execution_count": 164,
   "metadata": {},
   "outputs": [],
   "source": [
    "historical_transactions=historical_transactions.drop(historical_transactions[historical_transactions['purchase_amount'] >9].index)\n"
   ]
  },
  {
   "cell_type": "markdown",
   "metadata": {
    "_uuid": "ccd8ca9632bef1b30f474528283c7ef1612ecc34"
   },
   "source": [
    "It seems that almost all transactions have purchase amount in range (-1, 0). Quite a strong normalization and high outliers, which will need to be processed."
   ]
  },
  {
   "cell_type": "markdown",
   "metadata": {
    "_uuid": "93c68d7121a83006230a277e0501fc1d9f610b30"
   },
   "source": [
    "### Categories"
   ]
  },
  {
   "cell_type": "code",
   "execution_count": 165,
   "metadata": {
    "_uuid": "f1cb7f38250f3023103fa99410f0ade779dc54ec"
   },
   "outputs": [
    {
     "data": {
      "text/html": [
       "<div>\n",
       "<style scoped>\n",
       "    .dataframe tbody tr th:only-of-type {\n",
       "        vertical-align: middle;\n",
       "    }\n",
       "\n",
       "    .dataframe tbody tr th {\n",
       "        vertical-align: top;\n",
       "    }\n",
       "\n",
       "    .dataframe thead tr th {\n",
       "        text-align: left;\n",
       "    }\n",
       "\n",
       "    .dataframe thead tr:last-of-type th {\n",
       "        text-align: right;\n",
       "    }\n",
       "</style>\n",
       "<table border=\"1\" class=\"dataframe\">\n",
       "  <thead>\n",
       "    <tr>\n",
       "      <th></th>\n",
       "      <th colspan=\"3\" halign=\"left\">purchase_amount</th>\n",
       "      <th colspan=\"2\" halign=\"left\">authorized_flag</th>\n",
       "    </tr>\n",
       "    <tr>\n",
       "      <th></th>\n",
       "      <th>mean</th>\n",
       "      <th>std</th>\n",
       "      <th>count</th>\n",
       "      <th>mean</th>\n",
       "      <th>std</th>\n",
       "    </tr>\n",
       "    <tr>\n",
       "      <th>category_1</th>\n",
       "      <th></th>\n",
       "      <th></th>\n",
       "      <th></th>\n",
       "      <th></th>\n",
       "      <th></th>\n",
       "    </tr>\n",
       "  </thead>\n",
       "  <tbody>\n",
       "    <tr>\n",
       "      <th>0</th>\n",
       "      <td>-0.475557</td>\n",
       "      <td>0.715978</td>\n",
       "      <td>2064955</td>\n",
       "      <td>0.753717</td>\n",
       "      <td>0.430846</td>\n",
       "    </tr>\n",
       "    <tr>\n",
       "      <th>1</th>\n",
       "      <td>-0.593769</td>\n",
       "      <td>0.388937</td>\n",
       "      <td>27010329</td>\n",
       "      <td>0.926516</td>\n",
       "      <td>0.260929</td>\n",
       "    </tr>\n",
       "  </tbody>\n",
       "</table>\n",
       "</div>"
      ],
      "text/plain": [
       "           purchase_amount                     authorized_flag          \n",
       "                      mean       std     count            mean       std\n",
       "category_1                                                              \n",
       "0                -0.475557  0.715978   2064955        0.753717  0.430846\n",
       "1                -0.593769  0.388937  27010329        0.926516  0.260929"
      ]
     },
     "execution_count": 165,
     "metadata": {},
     "output_type": "execute_result"
    }
   ],
   "source": [
    "map_dict = {'Y': 0, 'N': 1}\n",
    "historical_transactions['category_1'] = historical_transactions['category_1'].apply(lambda x: map_dict[x])\n",
    "historical_transactions.groupby(['category_1']).agg({'purchase_amount': ['mean', 'std', 'count'], 'authorized_flag': ['mean', 'std']})"
   ]
  },
  {
   "cell_type": "code",
   "execution_count": 166,
   "metadata": {
    "_uuid": "4cc2120b43e44b47a821b6e6ae23be1d0236256e"
   },
   "outputs": [
    {
     "data": {
      "text/html": [
       "<div>\n",
       "<style scoped>\n",
       "    .dataframe tbody tr th:only-of-type {\n",
       "        vertical-align: middle;\n",
       "    }\n",
       "\n",
       "    .dataframe tbody tr th {\n",
       "        vertical-align: top;\n",
       "    }\n",
       "\n",
       "    .dataframe thead tr th {\n",
       "        text-align: left;\n",
       "    }\n",
       "\n",
       "    .dataframe thead tr:last-of-type th {\n",
       "        text-align: right;\n",
       "    }\n",
       "</style>\n",
       "<table border=\"1\" class=\"dataframe\">\n",
       "  <thead>\n",
       "    <tr>\n",
       "      <th></th>\n",
       "      <th colspan=\"3\" halign=\"left\">purchase_amount</th>\n",
       "      <th colspan=\"2\" halign=\"left\">authorized_flag</th>\n",
       "    </tr>\n",
       "    <tr>\n",
       "      <th></th>\n",
       "      <th>mean</th>\n",
       "      <th>std</th>\n",
       "      <th>count</th>\n",
       "      <th>mean</th>\n",
       "      <th>std</th>\n",
       "    </tr>\n",
       "    <tr>\n",
       "      <th>category_2</th>\n",
       "      <th></th>\n",
       "      <th></th>\n",
       "      <th></th>\n",
       "      <th></th>\n",
       "      <th></th>\n",
       "    </tr>\n",
       "  </thead>\n",
       "  <tbody>\n",
       "    <tr>\n",
       "      <th>1.0</th>\n",
       "      <td>-0.603130</td>\n",
       "      <td>0.367042</td>\n",
       "      <td>15168320</td>\n",
       "      <td>0.927743</td>\n",
       "      <td>0.258913</td>\n",
       "    </tr>\n",
       "    <tr>\n",
       "      <th>2.0</th>\n",
       "      <td>-0.577850</td>\n",
       "      <td>0.420830</td>\n",
       "      <td>1025904</td>\n",
       "      <td>0.906455</td>\n",
       "      <td>0.291195</td>\n",
       "    </tr>\n",
       "    <tr>\n",
       "      <th>3.0</th>\n",
       "      <td>-0.569528</td>\n",
       "      <td>0.447244</td>\n",
       "      <td>3909018</td>\n",
       "      <td>0.919088</td>\n",
       "      <td>0.272700</td>\n",
       "    </tr>\n",
       "    <tr>\n",
       "      <th>4.0</th>\n",
       "      <td>-0.592458</td>\n",
       "      <td>0.400513</td>\n",
       "      <td>2616007</td>\n",
       "      <td>0.927890</td>\n",
       "      <td>0.258670</td>\n",
       "    </tr>\n",
       "    <tr>\n",
       "      <th>5.0</th>\n",
       "      <td>-0.588382</td>\n",
       "      <td>0.387311</td>\n",
       "      <td>3722581</td>\n",
       "      <td>0.934593</td>\n",
       "      <td>0.247242</td>\n",
       "    </tr>\n",
       "  </tbody>\n",
       "</table>\n",
       "</div>"
      ],
      "text/plain": [
       "           purchase_amount                     authorized_flag          \n",
       "                      mean       std     count            mean       std\n",
       "category_2                                                              \n",
       "1.0              -0.603130  0.367042  15168320        0.927743  0.258913\n",
       "2.0              -0.577850  0.420830   1025904        0.906455  0.291195\n",
       "3.0              -0.569528  0.447244   3909018        0.919088  0.272700\n",
       "4.0              -0.592458  0.400513   2616007        0.927890  0.258670\n",
       "5.0              -0.588382  0.387311   3722581        0.934593  0.247242"
      ]
     },
     "execution_count": 166,
     "metadata": {},
     "output_type": "execute_result"
    }
   ],
   "source": [
    "historical_transactions.groupby(['category_2']).agg({'purchase_amount': ['mean', 'std', 'count'], 'authorized_flag': ['mean', 'std']})"
   ]
  },
  {
   "cell_type": "code",
   "execution_count": 167,
   "metadata": {
    "_uuid": "2775dc98625d93000dd0f9e432800d3f68e4c1ca"
   },
   "outputs": [
    {
     "data": {
      "text/html": [
       "<div>\n",
       "<style scoped>\n",
       "    .dataframe tbody tr th:only-of-type {\n",
       "        vertical-align: middle;\n",
       "    }\n",
       "\n",
       "    .dataframe tbody tr th {\n",
       "        vertical-align: top;\n",
       "    }\n",
       "\n",
       "    .dataframe thead tr th {\n",
       "        text-align: left;\n",
       "    }\n",
       "\n",
       "    .dataframe thead tr:last-of-type th {\n",
       "        text-align: right;\n",
       "    }\n",
       "</style>\n",
       "<table border=\"1\" class=\"dataframe\">\n",
       "  <thead>\n",
       "    <tr>\n",
       "      <th></th>\n",
       "      <th colspan=\"3\" halign=\"left\">purchase_amount</th>\n",
       "      <th colspan=\"2\" halign=\"left\">authorized_flag</th>\n",
       "    </tr>\n",
       "    <tr>\n",
       "      <th></th>\n",
       "      <th>mean</th>\n",
       "      <th>std</th>\n",
       "      <th>count</th>\n",
       "      <th>mean</th>\n",
       "      <th>std</th>\n",
       "    </tr>\n",
       "    <tr>\n",
       "      <th>category_3</th>\n",
       "      <th></th>\n",
       "      <th></th>\n",
       "      <th></th>\n",
       "      <th></th>\n",
       "      <th></th>\n",
       "    </tr>\n",
       "  </thead>\n",
       "  <tbody>\n",
       "    <tr>\n",
       "      <th>0</th>\n",
       "      <td>-0.638618</td>\n",
       "      <td>0.261842</td>\n",
       "      <td>15408622</td>\n",
       "      <td>0.928156</td>\n",
       "      <td>0.258229</td>\n",
       "    </tr>\n",
       "    <tr>\n",
       "      <th>1</th>\n",
       "      <td>-0.611920</td>\n",
       "      <td>0.324611</td>\n",
       "      <td>11656619</td>\n",
       "      <td>0.908205</td>\n",
       "      <td>0.288736</td>\n",
       "    </tr>\n",
       "    <tr>\n",
       "      <th>2</th>\n",
       "      <td>-0.021897</td>\n",
       "      <td>1.047040</td>\n",
       "      <td>1832855</td>\n",
       "      <td>0.838345</td>\n",
       "      <td>0.368134</td>\n",
       "    </tr>\n",
       "    <tr>\n",
       "      <th>3</th>\n",
       "      <td>-0.037405</td>\n",
       "      <td>1.035944</td>\n",
       "      <td>177188</td>\n",
       "      <td>0.886764</td>\n",
       "      <td>0.316882</td>\n",
       "    </tr>\n",
       "  </tbody>\n",
       "</table>\n",
       "</div>"
      ],
      "text/plain": [
       "           purchase_amount                     authorized_flag          \n",
       "                      mean       std     count            mean       std\n",
       "category_3                                                              \n",
       "0                -0.638618  0.261842  15408622        0.928156  0.258229\n",
       "1                -0.611920  0.324611  11656619        0.908205  0.288736\n",
       "2                -0.021897  1.047040   1832855        0.838345  0.368134\n",
       "3                -0.037405  1.035944    177188        0.886764  0.316882"
      ]
     },
     "execution_count": 167,
     "metadata": {},
     "output_type": "execute_result"
    }
   ],
   "source": [
    "map_dict = {'A': 0, 'B': 1, 'C': 2, 'nan': 3}\n",
    "historical_transactions['category_3'] = historical_transactions['category_3'].apply(lambda x: map_dict[str(x)])\n",
    "historical_transactions.groupby(['category_3']).agg({'purchase_amount': ['mean', 'std', 'count'], 'authorized_flag': ['mean', 'std']})"
   ]
  },
  {
   "cell_type": "markdown",
   "metadata": {
    "_uuid": "267b58ab48bce9022961fd083f469aa867e0ece6"
   },
   "source": [
    "All categories are quite different"
   ]
  },
  {
   "cell_type": "code",
   "execution_count": 168,
   "metadata": {
    "_uuid": "040874127f458f2fe9473fa6eecce5da209b6d29",
    "scrolled": true
   },
   "outputs": [
    {
     "name": "stdout",
     "output_type": "stream",
     "text": [
      "There are 308 unique values in city_id.\n",
      "There are 326 unique values in merchant_category_id.\n",
      "There are 326089 unique values in merchant_id.\n",
      "There are 25 unique values in state_id.\n",
      "There are 41 unique values in subsector_id.\n"
     ]
    }
   ],
   "source": [
    "for col in ['city_id', 'merchant_category_id', 'merchant_id', 'state_id', 'subsector_id']:\n",
    "    print(f\"There are {historical_transactions[col].nunique()} unique values in {col}.\")"
   ]
  },
  {
   "cell_type": "markdown",
   "metadata": {
    "_uuid": "53922f8b0bed06b45ca0cb7e86d2d7f2bb77f13c"
   },
   "source": [
    "### Feature engineering"
   ]
  },
  {
   "cell_type": "code",
   "execution_count": 170,
   "metadata": {},
   "outputs": [],
   "source": [
    "# historical_transactions2 = historical_transactions.copy()\n",
    "# trans.loc[:, 'purchase_date'] = pd.DatetimeIndex(trans['purchase_date']).astype(np.int64) * 1e-9\n",
    "# trans"
   ]
  },
  {
   "cell_type": "code",
   "execution_count": 171,
   "metadata": {
    "_uuid": "8ec706c5dd0bc14fb05afd2ae613f344d4cf3b56"
   },
   "outputs": [],
   "source": [
    "def aggregate_historical_transactions(trans, prefix):\n",
    "    trans['purchase_month'] = trans['purchase_date'].dt.month\n",
    "#     trans.loc[:, 'purchase_date'] = pd.DatetimeIndex(trans['purchase_date']). \\\n",
    "#                                         astype(np.int64) * 1e-9\n",
    "    trans['installments'] = trans['installments'].astype(int)\n",
    "    trans['month_diff'] = ((datetime.datetime.today() - trans['purchase_date']).dt.days)//30\n",
    "    trans['month_diff'] += trans['month_lag']\n",
    "    trans = pd.get_dummies(trans, columns=['category_2', 'category_3'])\n",
    "    agg_func = {\n",
    "        'authorized_flag': ['sum', 'mean'],\n",
    "        'category_1': ['sum', 'mean'],\n",
    "        'category_2_1.0': ['mean', 'sum'],\n",
    "        'category_2_2.0': ['mean', 'sum'],\n",
    "        'category_2_3.0': ['mean', 'sum'],\n",
    "        'category_2_4.0': ['mean', 'sum'],\n",
    "        'category_2_5.0': ['mean', 'sum'],\n",
    "        'category_3_1': ['sum', 'mean'],\n",
    "        'category_3_2': ['sum', 'mean'],\n",
    "        'category_3_3': ['sum', 'mean'],\n",
    "        'merchant_id': ['nunique'],\n",
    "        'purchase_amount': ['sum', 'mean', 'max', 'min', 'std'],\n",
    "        'installments': ['sum', 'mean', 'max', 'min', 'std'],\n",
    "        'purchase_month': ['mean', 'max', 'min', 'std'],\n",
    "        'purchase_date': [np.ptp, 'max', 'min'],\n",
    "        'month_lag': ['min', 'max'],\n",
    "        'merchant_category_id': ['nunique'],\n",
    "        'state_id': ['nunique'],\n",
    "        'subsector_id': ['nunique'],\n",
    "        'city_id': ['nunique'],\n",
    "    }\n",
    "    agg_trans = trans.groupby(['card_id']).agg(agg_func)\n",
    "    agg_trans.columns = [prefix + '_'.join(col).strip() for col in agg_trans.columns.values]\n",
    "    agg_trans.reset_index(inplace=True)\n",
    "\n",
    "    df = (trans.groupby('card_id')\n",
    "          .size()\n",
    "          .reset_index(name='{}transactions_count'.format(prefix)))\n",
    "\n",
    "    agg_trans = pd.merge(df, agg_trans, on='card_id', how='left')\n",
    "\n",
    "    return agg_trans"
   ]
  },
  {
   "cell_type": "code",
   "execution_count": 172,
   "metadata": {
    "_uuid": "f8ef0a80328da5b89c1604e573801e88b0b94768"
   },
   "outputs": [],
   "source": [
    "def aggregate_per_month(history):\n",
    "    grouped = history.groupby(['card_id', 'month_lag'])\n",
    "    history['installments'] = history['installments'].astype(int)\n",
    "    agg_func = {\n",
    "            'purchase_amount': ['count', 'sum', 'mean', 'min', 'max', 'std'],\n",
    "            'installments': ['count', 'sum', 'mean', 'min', 'max', 'std'],\n",
    "            }\n",
    "\n",
    "    intermediate_group = grouped.agg(agg_func)\n",
    "    intermediate_group.columns = ['_'.join(col).strip() for col in intermediate_group.columns.values]\n",
    "    intermediate_group.reset_index(inplace=True)\n",
    "\n",
    "    final_group = intermediate_group.groupby('card_id').agg(['mean', 'std'])\n",
    "    final_group.columns = ['_'.join(col).strip() for col in final_group.columns.values]\n",
    "    final_group.reset_index(inplace=True)\n",
    "    \n",
    "    return final_group\n",
    "\n",
    "final_group = aggregate_per_month(historical_transactions) "
   ]
  },
  {
   "cell_type": "code",
   "execution_count": 173,
   "metadata": {
    "_uuid": "6ba4bd3e8e698428e9e0fd7527b9e50132553783",
    "scrolled": true
   },
   "outputs": [
    {
     "name": "stdout",
     "output_type": "stream",
     "text": [
      "Mem. usage decreased to 2583.23 Mb (43.9% reduction)\n",
      "CPU times: user 1min 52s, sys: 16.4 s, total: 2min 9s\n",
      "Wall time: 2min 9s\n"
     ]
    }
   ],
   "source": [
    "%%time\n",
    "del d1, d2, autorized_card_rate\n",
    "gc.collect()\n",
    "historical_transactions = reduce_mem_usage(historical_transactions)\n",
    "history = aggregate_historical_transactions(historical_transactions, prefix='hist_')\n",
    "gc.collect()\n",
    "train = pd.merge(train, history, on='card_id', how='left')\n",
    "test = pd.merge(test, history, on='card_id', how='left')\n",
    "del history"
   ]
  },
  {
   "cell_type": "code",
   "execution_count": 174,
   "metadata": {
    "_uuid": "d7d1a5d0969fe9f51b12bd3b0368e4e6563aa464"
   },
   "outputs": [
    {
     "data": {
      "text/plain": [
       "79"
      ]
     },
     "execution_count": 174,
     "metadata": {},
     "output_type": "execute_result"
    }
   ],
   "source": [
    "del historical_transactions\n",
    "gc.collect()"
   ]
  },
  {
   "cell_type": "markdown",
   "metadata": {
    "_uuid": "89325dfaad592bafb4f8f018f840886276851693"
   },
   "source": [
    "## new_merchant_transactions \n",
    "Two months' worth of data for each card_id containing ALL purchases that card_id made at merchant_ids that were not visited in the historical data."
   ]
  },
  {
   "cell_type": "code",
   "execution_count": 176,
   "metadata": {
    "_uuid": "28236873ca4589e3a329c0981bb850db4d821cef"
   },
   "outputs": [
    {
     "data": {
      "text/html": [
       "<div>\n",
       "<style scoped>\n",
       "    .dataframe tbody tr th:only-of-type {\n",
       "        vertical-align: middle;\n",
       "    }\n",
       "\n",
       "    .dataframe tbody tr th {\n",
       "        vertical-align: top;\n",
       "    }\n",
       "\n",
       "    .dataframe thead th {\n",
       "        text-align: right;\n",
       "    }\n",
       "</style>\n",
       "<table border=\"1\" class=\"dataframe\">\n",
       "  <thead>\n",
       "    <tr style=\"text-align: right;\">\n",
       "      <th></th>\n",
       "      <th>new_merchant_period.csv</th>\n",
       "      <th>Unnamed: 1</th>\n",
       "    </tr>\n",
       "  </thead>\n",
       "  <tbody>\n",
       "    <tr>\n",
       "      <th>0</th>\n",
       "      <td>NaN</td>\n",
       "      <td>NaN</td>\n",
       "    </tr>\n",
       "    <tr>\n",
       "      <th>1</th>\n",
       "      <td>Columns</td>\n",
       "      <td>Description</td>\n",
       "    </tr>\n",
       "    <tr>\n",
       "      <th>2</th>\n",
       "      <td>card_id</td>\n",
       "      <td>Card identifier</td>\n",
       "    </tr>\n",
       "    <tr>\n",
       "      <th>3</th>\n",
       "      <td>month_lag</td>\n",
       "      <td>month lag to reference date</td>\n",
       "    </tr>\n",
       "    <tr>\n",
       "      <th>4</th>\n",
       "      <td>purchase_date</td>\n",
       "      <td>Purchase date</td>\n",
       "    </tr>\n",
       "    <tr>\n",
       "      <th>5</th>\n",
       "      <td>authorized_flag</td>\n",
       "      <td>Y' if approved, 'N' if denied</td>\n",
       "    </tr>\n",
       "    <tr>\n",
       "      <th>6</th>\n",
       "      <td>category_3</td>\n",
       "      <td>anonymized category</td>\n",
       "    </tr>\n",
       "    <tr>\n",
       "      <th>7</th>\n",
       "      <td>installments</td>\n",
       "      <td>number of installments of purchase</td>\n",
       "    </tr>\n",
       "    <tr>\n",
       "      <th>8</th>\n",
       "      <td>category_1</td>\n",
       "      <td>anonymized category</td>\n",
       "    </tr>\n",
       "    <tr>\n",
       "      <th>9</th>\n",
       "      <td>merchant_category_id</td>\n",
       "      <td>Merchant category identifier (anonymized )</td>\n",
       "    </tr>\n",
       "    <tr>\n",
       "      <th>10</th>\n",
       "      <td>subsector_id</td>\n",
       "      <td>Merchant category group identifier (anonymized )</td>\n",
       "    </tr>\n",
       "    <tr>\n",
       "      <th>11</th>\n",
       "      <td>merchant_id</td>\n",
       "      <td>Merchant identifier (anonymized)</td>\n",
       "    </tr>\n",
       "    <tr>\n",
       "      <th>12</th>\n",
       "      <td>purchase_amount</td>\n",
       "      <td>Normalized purchase amount</td>\n",
       "    </tr>\n",
       "    <tr>\n",
       "      <th>13</th>\n",
       "      <td>city_id</td>\n",
       "      <td>City identifier (anonymized )</td>\n",
       "    </tr>\n",
       "    <tr>\n",
       "      <th>14</th>\n",
       "      <td>state_id</td>\n",
       "      <td>State identifier (anonymized )</td>\n",
       "    </tr>\n",
       "    <tr>\n",
       "      <th>15</th>\n",
       "      <td>category_2</td>\n",
       "      <td>anonymized category</td>\n",
       "    </tr>\n",
       "  </tbody>\n",
       "</table>\n",
       "</div>"
      ],
      "text/plain": [
       "   new_merchant_period.csv                                        Unnamed: 1\n",
       "0                      NaN                                               NaN\n",
       "1                  Columns                                       Description\n",
       "2                  card_id                                   Card identifier\n",
       "3                month_lag                       month lag to reference date\n",
       "4            purchase_date                                     Purchase date\n",
       "5          authorized_flag                     Y' if approved, 'N' if denied\n",
       "6               category_3                               anonymized category\n",
       "7             installments                number of installments of purchase\n",
       "8               category_1                               anonymized category\n",
       "9     merchant_category_id        Merchant category identifier (anonymized )\n",
       "10            subsector_id  Merchant category group identifier (anonymized )\n",
       "11             merchant_id                  Merchant identifier (anonymized)\n",
       "12         purchase_amount                        Normalized purchase amount\n",
       "13                 city_id                     City identifier (anonymized )\n",
       "14                state_id                    State identifier (anonymized )\n",
       "15              category_2                               anonymized category"
      ]
     },
     "execution_count": 176,
     "metadata": {},
     "output_type": "execute_result"
    }
   ],
   "source": [
    "new_merchant_transactions = pd.read_csv(path_data + '/new_merchant_transactions.csv')\n",
    "e = pd.read_excel(path_data + '/Data_Dictionary.xlsx', sheet_name='new_merchant_period')\n",
    "e"
   ]
  },
  {
   "cell_type": "code",
   "execution_count": 177,
   "metadata": {
    "_uuid": "5ecf310953907e236a92677bdc5a1e39f8e4e15c"
   },
   "outputs": [
    {
     "name": "stdout",
     "output_type": "stream",
     "text": [
      "1963031 samples in data\n"
     ]
    },
    {
     "data": {
      "text/html": [
       "<div>\n",
       "<style scoped>\n",
       "    .dataframe tbody tr th:only-of-type {\n",
       "        vertical-align: middle;\n",
       "    }\n",
       "\n",
       "    .dataframe tbody tr th {\n",
       "        vertical-align: top;\n",
       "    }\n",
       "\n",
       "    .dataframe thead th {\n",
       "        text-align: right;\n",
       "    }\n",
       "</style>\n",
       "<table border=\"1\" class=\"dataframe\">\n",
       "  <thead>\n",
       "    <tr style=\"text-align: right;\">\n",
       "      <th></th>\n",
       "      <th>authorized_flag</th>\n",
       "      <th>card_id</th>\n",
       "      <th>city_id</th>\n",
       "      <th>category_1</th>\n",
       "      <th>installments</th>\n",
       "      <th>category_3</th>\n",
       "      <th>merchant_category_id</th>\n",
       "      <th>merchant_id</th>\n",
       "      <th>month_lag</th>\n",
       "      <th>purchase_amount</th>\n",
       "      <th>purchase_date</th>\n",
       "      <th>category_2</th>\n",
       "      <th>state_id</th>\n",
       "      <th>subsector_id</th>\n",
       "    </tr>\n",
       "  </thead>\n",
       "  <tbody>\n",
       "    <tr>\n",
       "      <th>0</th>\n",
       "      <td>Y</td>\n",
       "      <td>C_ID_415bb3a509</td>\n",
       "      <td>107</td>\n",
       "      <td>N</td>\n",
       "      <td>1</td>\n",
       "      <td>B</td>\n",
       "      <td>307</td>\n",
       "      <td>M_ID_b0c793002c</td>\n",
       "      <td>1</td>\n",
       "      <td>-0.557574</td>\n",
       "      <td>2018-03-11 14:57:36</td>\n",
       "      <td>1.0</td>\n",
       "      <td>9</td>\n",
       "      <td>19</td>\n",
       "    </tr>\n",
       "    <tr>\n",
       "      <th>1</th>\n",
       "      <td>Y</td>\n",
       "      <td>C_ID_415bb3a509</td>\n",
       "      <td>140</td>\n",
       "      <td>N</td>\n",
       "      <td>1</td>\n",
       "      <td>B</td>\n",
       "      <td>307</td>\n",
       "      <td>M_ID_88920c89e8</td>\n",
       "      <td>1</td>\n",
       "      <td>-0.569580</td>\n",
       "      <td>2018-03-19 18:53:37</td>\n",
       "      <td>1.0</td>\n",
       "      <td>9</td>\n",
       "      <td>19</td>\n",
       "    </tr>\n",
       "    <tr>\n",
       "      <th>2</th>\n",
       "      <td>Y</td>\n",
       "      <td>C_ID_415bb3a509</td>\n",
       "      <td>330</td>\n",
       "      <td>N</td>\n",
       "      <td>1</td>\n",
       "      <td>B</td>\n",
       "      <td>507</td>\n",
       "      <td>M_ID_ad5237ef6b</td>\n",
       "      <td>2</td>\n",
       "      <td>-0.551037</td>\n",
       "      <td>2018-04-26 14:08:44</td>\n",
       "      <td>1.0</td>\n",
       "      <td>9</td>\n",
       "      <td>14</td>\n",
       "    </tr>\n",
       "    <tr>\n",
       "      <th>3</th>\n",
       "      <td>Y</td>\n",
       "      <td>C_ID_415bb3a509</td>\n",
       "      <td>-1</td>\n",
       "      <td>Y</td>\n",
       "      <td>1</td>\n",
       "      <td>B</td>\n",
       "      <td>661</td>\n",
       "      <td>M_ID_9e84cda3b1</td>\n",
       "      <td>1</td>\n",
       "      <td>-0.671925</td>\n",
       "      <td>2018-03-07 09:43:21</td>\n",
       "      <td>NaN</td>\n",
       "      <td>-1</td>\n",
       "      <td>8</td>\n",
       "    </tr>\n",
       "    <tr>\n",
       "      <th>4</th>\n",
       "      <td>Y</td>\n",
       "      <td>C_ID_ef55cf8d4b</td>\n",
       "      <td>-1</td>\n",
       "      <td>Y</td>\n",
       "      <td>1</td>\n",
       "      <td>B</td>\n",
       "      <td>166</td>\n",
       "      <td>M_ID_3c86fa3831</td>\n",
       "      <td>1</td>\n",
       "      <td>-0.659904</td>\n",
       "      <td>2018-03-22 21:07:53</td>\n",
       "      <td>NaN</td>\n",
       "      <td>-1</td>\n",
       "      <td>29</td>\n",
       "    </tr>\n",
       "  </tbody>\n",
       "</table>\n",
       "</div>"
      ],
      "text/plain": [
       "  authorized_flag          card_id  city_id category_1  installments  \\\n",
       "0               Y  C_ID_415bb3a509      107          N             1   \n",
       "1               Y  C_ID_415bb3a509      140          N             1   \n",
       "2               Y  C_ID_415bb3a509      330          N             1   \n",
       "3               Y  C_ID_415bb3a509       -1          Y             1   \n",
       "4               Y  C_ID_ef55cf8d4b       -1          Y             1   \n",
       "\n",
       "  category_3  merchant_category_id      merchant_id  month_lag  \\\n",
       "0          B                   307  M_ID_b0c793002c          1   \n",
       "1          B                   307  M_ID_88920c89e8          1   \n",
       "2          B                   507  M_ID_ad5237ef6b          2   \n",
       "3          B                   661  M_ID_9e84cda3b1          1   \n",
       "4          B                   166  M_ID_3c86fa3831          1   \n",
       "\n",
       "   purchase_amount        purchase_date  category_2  state_id  subsector_id  \n",
       "0        -0.557574  2018-03-11 14:57:36         1.0         9            19  \n",
       "1        -0.569580  2018-03-19 18:53:37         1.0         9            19  \n",
       "2        -0.551037  2018-04-26 14:08:44         1.0         9            14  \n",
       "3        -0.671925  2018-03-07 09:43:21         NaN        -1             8  \n",
       "4        -0.659904  2018-03-22 21:07:53         NaN        -1            29  "
      ]
     },
     "execution_count": 177,
     "metadata": {},
     "output_type": "execute_result"
    }
   ],
   "source": [
    "print('%d samples in data'%new_merchant_transactions.shape[0])\n",
    "new_merchant_transactions.head()"
   ]
  },
  {
   "cell_type": "code",
   "execution_count": 178,
   "metadata": {
    "_uuid": "6e9ae820b5a8f2ad342ed20344c64f558a7f1cbb"
   },
   "outputs": [],
   "source": [
    "# let's convert the authorized_flag to a binary value.\n",
    "new_merchant_transactions['authorized_flag'] = new_merchant_transactions['authorized_flag'].apply(lambda x: 1 if x == 'Y' else 0)"
   ]
  },
  {
   "cell_type": "code",
   "execution_count": 179,
   "metadata": {
    "_uuid": "2b7be1ffd229013a448d85a83626b9f19dee5f79"
   },
   "outputs": [
    {
     "name": "stdout",
     "output_type": "stream",
     "text": [
      "At average 100.0000% transactions are authorized\n"
     ]
    },
    {
     "data": {
      "image/png": "[encoded data removed]",
      "text/plain": [
       "<Figure size 432x288 with 1 Axes>"
      ]
     },
     "metadata": {},
     "output_type": "display_data"
    }
   ],
   "source": [
    "print(\"At average %.4f%% transactions are authorized\"%(new_merchant_transactions['authorized_flag'].mean() * 100))\n",
    "new_merchant_transactions['authorized_flag'].value_counts().plot(kind='barh', title='authorized_flag value counts');"
   ]
  },
  {
   "cell_type": "markdown",
   "metadata": {
    "_uuid": "498e32a8e927d8c9934f259a0991d34f6c6c65cd"
   },
   "source": [
    "In contrast with historical data, **all** transactions here were authorized!"
   ]
  },
  {
   "cell_type": "markdown",
   "metadata": {
    "_uuid": "c72ee258b00d5348639011bf77ca3c911825c64b"
   },
   "source": [
    "#### Cards with lowest and highest total purchase amount"
   ]
  },
  {
   "cell_type": "code",
   "execution_count": 180,
   "metadata": {
    "_uuid": "39b846232cbe9c7bc25389ffa3a181920bb84170"
   },
   "outputs": [
    {
     "data": {
      "text/plain": [
       "card_id\n",
       "C_ID_b7ebee6539   -70.813489\n",
       "C_ID_8946508722   -63.907274\n",
       "C_ID_c729288535   -61.042650\n",
       "C_ID_6cef1dba4b   -60.780407\n",
       "C_ID_0e4f6af077   -60.017000\n",
       "Name: purchase_amount, dtype: float64"
      ]
     },
     "execution_count": 180,
     "metadata": {},
     "output_type": "execute_result"
    }
   ],
   "source": [
    "card_total_purchase = new_merchant_transactions.groupby(['card_id'])['purchase_amount'].sum().sort_values()\n",
    "card_total_purchase.head()"
   ]
  },
  {
   "cell_type": "code",
   "execution_count": 181,
   "metadata": {
    "_uuid": "ebfcab6cca0e861dc6822277929cb7d64cb1417b"
   },
   "outputs": [
    {
     "data": {
      "text/plain": [
       "card_id\n",
       "C_ID_72613043cf    109.086210\n",
       "C_ID_01314ceccf    113.317420\n",
       "C_ID_a9435eee72    145.168997\n",
       "C_ID_a289e7edd4    172.182653\n",
       "C_ID_ca850ecf25    263.157498\n",
       "Name: purchase_amount, dtype: float64"
      ]
     },
     "execution_count": 181,
     "metadata": {},
     "output_type": "execute_result"
    }
   ],
   "source": [
    "card_total_purchase.tail()"
   ]
  },
  {
   "cell_type": "markdown",
   "metadata": {
    "_uuid": "631fb04ce15cf91b1ec6c0264b1bdc9f3cca2d2e"
   },
   "source": [
    "It seems that there are some cards, for which most of transactions were declined. Were this fraud transactions?"
   ]
  },
  {
   "cell_type": "markdown",
   "metadata": {
    "_uuid": "cdc52298c2cad176eb422f21f178bb56f6020648"
   },
   "source": [
    "### installments"
   ]
  },
  {
   "cell_type": "code",
   "execution_count": 182,
   "metadata": {
    "_uuid": "9b225610081a11c98cf9893e215c71c5840db388"
   },
   "outputs": [
    {
     "data": {
      "text/plain": [
       " 0      922244\n",
       " 1      836178\n",
       "-1       55922\n",
       " 2       54729\n",
       " 3       44750\n",
       " 4       14815\n",
       " 6       10389\n",
       " 5        9296\n",
       " 10       8899\n",
       " 12       2850\n",
       " 8        1555\n",
       " 7         863\n",
       " 9         478\n",
       " 11         61\n",
       " 999         2\n",
       "Name: installments, dtype: int64"
      ]
     },
     "execution_count": 182,
     "metadata": {},
     "output_type": "execute_result"
    }
   ],
   "source": [
    "new_merchant_transactions['installments'].value_counts()"
   ]
  },
  {
   "cell_type": "markdown",
   "metadata": {
    "_uuid": "83f28e296027ab97dfd0938dc05f86ead1448e9b"
   },
   "source": [
    "Interesting. Most common number of installments are 0 and 1 which is expected. But -1 and 999 are strange. I think that these values were used to fill in missing values."
   ]
  },
  {
   "cell_type": "code",
   "execution_count": 183,
   "metadata": {
    "_uuid": "333c1b2ebe3547182da31dc409835d9ff7fbf28e"
   },
   "outputs": [
    {
     "data": {
      "text/plain": [
       "installments\n",
       "-1        1903.176718\n",
       " 0     -581948.746520\n",
       " 1     -507130.345871\n",
       " 2      -21592.186709\n",
       " 3       -6669.938153\n",
       " 4        3212.909351\n",
       " 5        2641.835005\n",
       " 6        6994.802878\n",
       " 7         522.470989\n",
       " 8        1927.359352\n",
       " 9         958.387496\n",
       " 10      13864.551233\n",
       " 11        117.734959\n",
       " 12       3627.758765\n",
       " 999         1.005048\n",
       "Name: purchase_amount, dtype: float64"
      ]
     },
     "execution_count": 183,
     "metadata": {},
     "output_type": "execute_result"
    }
   ],
   "source": [
    "new_merchant_transactions.groupby(['installments'])['purchase_amount'].sum()"
   ]
  },
  {
   "cell_type": "code",
   "execution_count": 184,
   "metadata": {
    "_uuid": "299b284f105aeb99ab580a3ea289a7334b663302"
   },
   "outputs": [],
   "source": [
    "new_merchant_transactions['installments'] = new_merchant_transactions['installments'].astype('category')\n",
    "\n",
    "\n",
    "\n",
    "\n",
    "new_merchant_transactions=new_merchant_transactions.drop(new_merchant_transactions[new_merchant_transactions['installments']==999].index)\n",
    "#new_merchant_transactions=new_merchant_transactions.drop(new_merchant_transactions[new_merchant_transactions['installments']==-1].index)\n",
    "\n",
    "\n",
    "\n"
   ]
  },
  {
   "cell_type": "markdown",
   "metadata": {
    "_uuid": "93f5d61f4ad4a927844f1fcd88153bd5cb9e53ae"
   },
   "source": [
    "### purchase_amount\n",
    "Sadly purchase_amount is normalized. Let's have a look at it nevertheless."
   ]
  },
  {
   "cell_type": "code",
   "execution_count": 185,
   "metadata": {
    "_uuid": "41996818fbc3a212506becdb337b2b760df630ac"
   },
   "outputs": [
    {
     "data": {
      "image/png": "[encoded data removed]",
      "text/plain": [
       "<Figure size 432x288 with 1 Axes>"
      ]
     },
     "metadata": {},
     "output_type": "display_data"
    }
   ],
   "source": [
    "plt.title('Purchase amount distribution.');\n",
    "new_merchant_transactions['purchase_amount'].plot(kind='hist');"
   ]
  },
  {
   "cell_type": "code",
   "execution_count": 186,
   "metadata": {
    "_uuid": "eb768f16cd8b83b022dc9865618091ab4fb14013"
   },
   "outputs": [
    {
     "name": "stdout",
     "output_type": "stream",
     "text": [
      "There are 0 transactions with purchase_amount less than -1.\n",
      "There are 1877356 transactions with purchase_amount less than 0.\n",
      "There are 85673 transactions with purchase_amount more than 0.\n",
      "There are 3458 transactions with purchase_amount more than 5.\n",
      "There are 1885 transactions with purchase_amount more than 7.\n",
      "There are 1509 transactions with purchase_amount more than 8.\n",
      "There are 1209 transactions with purchase_amount more than 9.\n",
      "There are 996 transactions with purchase_amount more than 10.\n",
      "There are 2 transactions with purchase_amount more than 100.\n"
     ]
    }
   ],
   "source": [
    "for i in [-1, 0]:\n",
    "    n = new_merchant_transactions.loc[new_merchant_transactions['purchase_amount'] < i].shape[0]\n",
    "    print(f\"There are {n} transactions with purchase_amount less than {i}.\")\n",
    "for i in [0,  5,7,8,9,10,100]:\n",
    "    n = new_merchant_transactions.loc[new_merchant_transactions['purchase_amount'] > i].shape[0]\n",
    "    print(f\"There are {n} transactions with purchase_amount more than {i}.\")"
   ]
  },
  {
   "cell_type": "code",
   "execution_count": 187,
   "metadata": {
    "_uuid": "e24506613dee2c985fe0e017e4591626886b570a"
   },
   "outputs": [
    {
     "data": {
      "image/png": "[encoded data removed]",
      "text/plain": [
       "<Figure size 432x288 with 1 Axes>"
      ]
     },
     "metadata": {},
     "output_type": "display_data"
    }
   ],
   "source": [
    "plt.title('Purchase amount distribution for negative values.');\n",
    "new_merchant_transactions.loc[new_merchant_transactions['purchase_amount'] < 0, 'purchase_amount'].plot(kind='hist');"
   ]
  },
  {
   "cell_type": "markdown",
   "metadata": {
    "_uuid": "db375aa01bf1a9a9e63e080ae44f1f745778da12"
   },
   "source": [
    "It seems that almost all transactions have purchase amount in range (-1, 0). Quite a strong normalization and high outliers, which will need to be processed."
   ]
  },
  {
   "cell_type": "code",
   "execution_count": 188,
   "metadata": {},
   "outputs": [],
   "source": [
    "new_merchant_transactions=new_merchant_transactions.drop(new_merchant_transactions[new_merchant_transactions['purchase_amount'] >9].index)\n",
    "\n"
   ]
  },
  {
   "cell_type": "markdown",
   "metadata": {
    "_uuid": "961bff74a12d9cae466c9968faa08749bffe2725"
   },
   "source": [
    "### Categories"
   ]
  },
  {
   "cell_type": "code",
   "execution_count": 189,
   "metadata": {
    "_uuid": "02e778126719327d12225ed5852bd5cf2e1513c6"
   },
   "outputs": [
    {
     "data": {
      "text/html": [
       "<div>\n",
       "<style scoped>\n",
       "    .dataframe tbody tr th:only-of-type {\n",
       "        vertical-align: middle;\n",
       "    }\n",
       "\n",
       "    .dataframe tbody tr th {\n",
       "        vertical-align: top;\n",
       "    }\n",
       "\n",
       "    .dataframe thead tr th {\n",
       "        text-align: left;\n",
       "    }\n",
       "\n",
       "    .dataframe thead tr:last-of-type th {\n",
       "        text-align: right;\n",
       "    }\n",
       "</style>\n",
       "<table border=\"1\" class=\"dataframe\">\n",
       "  <thead>\n",
       "    <tr>\n",
       "      <th></th>\n",
       "      <th colspan=\"3\" halign=\"left\">purchase_amount</th>\n",
       "    </tr>\n",
       "    <tr>\n",
       "      <th></th>\n",
       "      <th>mean</th>\n",
       "      <th>std</th>\n",
       "      <th>count</th>\n",
       "    </tr>\n",
       "    <tr>\n",
       "      <th>category_1</th>\n",
       "      <th></th>\n",
       "      <th></th>\n",
       "      <th></th>\n",
       "    </tr>\n",
       "  </thead>\n",
       "  <tbody>\n",
       "    <tr>\n",
       "      <th>0</th>\n",
       "      <td>-0.273718</td>\n",
       "      <td>0.946061</td>\n",
       "      <td>62879</td>\n",
       "    </tr>\n",
       "    <tr>\n",
       "      <th>1</th>\n",
       "      <td>-0.571031</td>\n",
       "      <td>0.423553</td>\n",
       "      <td>1898941</td>\n",
       "    </tr>\n",
       "  </tbody>\n",
       "</table>\n",
       "</div>"
      ],
      "text/plain": [
       "           purchase_amount                   \n",
       "                      mean       std    count\n",
       "category_1                                   \n",
       "0                -0.273718  0.946061    62879\n",
       "1                -0.571031  0.423553  1898941"
      ]
     },
     "execution_count": 189,
     "metadata": {},
     "output_type": "execute_result"
    }
   ],
   "source": [
    "map_dict = {'Y': 0, 'N': 1}\n",
    "new_merchant_transactions['category_1'] = new_merchant_transactions['category_1'].apply(lambda x: map_dict[x])\n",
    "new_merchant_transactions.groupby(['category_1']).agg({'purchase_amount': ['mean', 'std', 'count']})"
   ]
  },
  {
   "cell_type": "code",
   "execution_count": 190,
   "metadata": {
    "_uuid": "1e4e01fa0cdc2b5905258d493d5345344cf958e0"
   },
   "outputs": [
    {
     "data": {
      "text/html": [
       "<div>\n",
       "<style scoped>\n",
       "    .dataframe tbody tr th:only-of-type {\n",
       "        vertical-align: middle;\n",
       "    }\n",
       "\n",
       "    .dataframe tbody tr th {\n",
       "        vertical-align: top;\n",
       "    }\n",
       "\n",
       "    .dataframe thead tr th {\n",
       "        text-align: left;\n",
       "    }\n",
       "\n",
       "    .dataframe thead tr:last-of-type th {\n",
       "        text-align: right;\n",
       "    }\n",
       "</style>\n",
       "<table border=\"1\" class=\"dataframe\">\n",
       "  <thead>\n",
       "    <tr>\n",
       "      <th></th>\n",
       "      <th colspan=\"3\" halign=\"left\">purchase_amount</th>\n",
       "    </tr>\n",
       "    <tr>\n",
       "      <th></th>\n",
       "      <th>mean</th>\n",
       "      <th>std</th>\n",
       "      <th>count</th>\n",
       "    </tr>\n",
       "    <tr>\n",
       "      <th>category_2</th>\n",
       "      <th></th>\n",
       "      <th></th>\n",
       "      <th></th>\n",
       "    </tr>\n",
       "  </thead>\n",
       "  <tbody>\n",
       "    <tr>\n",
       "      <th>1.0</th>\n",
       "      <td>-0.578543</td>\n",
       "      <td>0.411952</td>\n",
       "      <td>1057691</td>\n",
       "    </tr>\n",
       "    <tr>\n",
       "      <th>2.0</th>\n",
       "      <td>-0.561596</td>\n",
       "      <td>0.430791</td>\n",
       "      <td>65638</td>\n",
       "    </tr>\n",
       "    <tr>\n",
       "      <th>3.0</th>\n",
       "      <td>-0.558816</td>\n",
       "      <td>0.443229</td>\n",
       "      <td>289388</td>\n",
       "    </tr>\n",
       "    <tr>\n",
       "      <th>4.0</th>\n",
       "      <td>-0.566142</td>\n",
       "      <td>0.430729</td>\n",
       "      <td>178493</td>\n",
       "    </tr>\n",
       "    <tr>\n",
       "      <th>5.0</th>\n",
       "      <td>-0.559813</td>\n",
       "      <td>0.440935</td>\n",
       "      <td>259098</td>\n",
       "    </tr>\n",
       "  </tbody>\n",
       "</table>\n",
       "</div>"
      ],
      "text/plain": [
       "           purchase_amount                   \n",
       "                      mean       std    count\n",
       "category_2                                   \n",
       "1.0              -0.578543  0.411952  1057691\n",
       "2.0              -0.561596  0.430791    65638\n",
       "3.0              -0.558816  0.443229   289388\n",
       "4.0              -0.566142  0.430729   178493\n",
       "5.0              -0.559813  0.440935   259098"
      ]
     },
     "execution_count": 190,
     "metadata": {},
     "output_type": "execute_result"
    }
   ],
   "source": [
    "new_merchant_transactions.groupby(['category_2']).agg({'purchase_amount': ['mean', 'std', 'count']})"
   ]
  },
  {
   "cell_type": "code",
   "execution_count": 191,
   "metadata": {
    "_uuid": "5d0605ddaacac9202959b07e049ae885fef0a5ba"
   },
   "outputs": [
    {
     "data": {
      "text/html": [
       "<div>\n",
       "<style scoped>\n",
       "    .dataframe tbody tr th:only-of-type {\n",
       "        vertical-align: middle;\n",
       "    }\n",
       "\n",
       "    .dataframe tbody tr th {\n",
       "        vertical-align: top;\n",
       "    }\n",
       "\n",
       "    .dataframe thead tr th {\n",
       "        text-align: left;\n",
       "    }\n",
       "\n",
       "    .dataframe thead tr:last-of-type th {\n",
       "        text-align: right;\n",
       "    }\n",
       "</style>\n",
       "<table border=\"1\" class=\"dataframe\">\n",
       "  <thead>\n",
       "    <tr>\n",
       "      <th></th>\n",
       "      <th colspan=\"3\" halign=\"left\">purchase_amount</th>\n",
       "    </tr>\n",
       "    <tr>\n",
       "      <th></th>\n",
       "      <th>mean</th>\n",
       "      <th>std</th>\n",
       "      <th>count</th>\n",
       "    </tr>\n",
       "    <tr>\n",
       "      <th>category_3</th>\n",
       "      <th></th>\n",
       "      <th></th>\n",
       "      <th></th>\n",
       "    </tr>\n",
       "  </thead>\n",
       "  <tbody>\n",
       "    <tr>\n",
       "      <th>0</th>\n",
       "      <td>-0.631461</td>\n",
       "      <td>0.257906</td>\n",
       "      <td>922209</td>\n",
       "    </tr>\n",
       "    <tr>\n",
       "      <th>1</th>\n",
       "      <td>-0.610806</td>\n",
       "      <td>0.291422</td>\n",
       "      <td>835987</td>\n",
       "    </tr>\n",
       "    <tr>\n",
       "      <th>2</th>\n",
       "      <td>-0.040030</td>\n",
       "      <td>1.017107</td>\n",
       "      <td>147988</td>\n",
       "    </tr>\n",
       "    <tr>\n",
       "      <th>3</th>\n",
       "      <td>-0.048121</td>\n",
       "      <td>0.998228</td>\n",
       "      <td>55636</td>\n",
       "    </tr>\n",
       "  </tbody>\n",
       "</table>\n",
       "</div>"
      ],
      "text/plain": [
       "           purchase_amount                  \n",
       "                      mean       std   count\n",
       "category_3                                  \n",
       "0                -0.631461  0.257906  922209\n",
       "1                -0.610806  0.291422  835987\n",
       "2                -0.040030  1.017107  147988\n",
       "3                -0.048121  0.998228   55636"
      ]
     },
     "execution_count": 191,
     "metadata": {},
     "output_type": "execute_result"
    }
   ],
   "source": [
    "map_dict = {'A': 0, 'B': 1, 'C': 2, 'nan': 3}\n",
    "new_merchant_transactions['category_3'] = new_merchant_transactions['category_3'].apply(lambda x: map_dict[str(x)])\n",
    "new_merchant_transactions.groupby(['category_3']).agg({'purchase_amount': ['mean', 'std', 'count']})"
   ]
  },
  {
   "cell_type": "markdown",
   "metadata": {
    "_uuid": "91f33d95c6528d677fc600b0afe9d69d4b2afb99"
   },
   "source": [
    "All categories are quite different"
   ]
  },
  {
   "cell_type": "code",
   "execution_count": 192,
   "metadata": {
    "_uuid": "e93269923c149e5d51162e28614b0ce22e50a869"
   },
   "outputs": [
    {
     "name": "stdout",
     "output_type": "stream",
     "text": [
      "There are 308 unique values in city_id.\n",
      "There are 314 unique values in merchant_category_id.\n",
      "There are 225979 unique values in merchant_id.\n",
      "There are 25 unique values in state_id.\n",
      "There are 41 unique values in subsector_id.\n"
     ]
    }
   ],
   "source": [
    "for col in ['city_id', 'merchant_category_id', 'merchant_id', 'state_id', 'subsector_id']:\n",
    "    print(f\"There are {new_merchant_transactions[col].nunique()} unique values in {col}.\")"
   ]
  },
  {
   "cell_type": "code",
   "execution_count": 193,
   "metadata": {
    "_uuid": "7164e3d6c4f035f05dcb616f43247a0ac60c236b"
   },
   "outputs": [],
   "source": [
    "new_merchant_transactions['purchase_date'] = pd.to_datetime(new_merchant_transactions['purchase_date'])"
   ]
  },
  {
   "cell_type": "markdown",
   "metadata": {
    "_uuid": "fec4f0ea374bda3e9a6ec174de160b9f0311d653"
   },
   "source": [
    "### Feature engineering"
   ]
  },
  {
   "cell_type": "code",
   "execution_count": 195,
   "metadata": {
    "_uuid": "a6256580f0fa2e297506991619c6b4e00cf6c742"
   },
   "outputs": [],
   "source": [
    "def aggregate_historical_transactions(trans, prefix):\n",
    "    trans['purchase_month'] = trans['purchase_date'].dt.month\n",
    "#     trans.loc[:, 'purchase_date'] = pd.DatetimeIndex(trans['purchase_date']).astype(np.int64) * 1e-9\n",
    "    trans['installments'] = trans['installments'].astype(int)\n",
    "    trans['month_diff'] = ((datetime.datetime.today() - trans['purchase_date']).dt.days)//30\n",
    "    trans['month_diff'] += trans['month_lag']\n",
    "    trans = pd.get_dummies(trans, columns=['category_2', 'category_3'])\n",
    "    agg_func = {\n",
    "        'category_1': ['sum', 'mean'],\n",
    "        'category_2_1.0': ['mean', 'sum'],\n",
    "        'category_2_2.0': ['mean', 'sum'],\n",
    "        'category_2_3.0': ['mean', 'sum'],\n",
    "        'category_2_4.0': ['mean', 'sum'],\n",
    "        'category_2_5.0': ['mean', 'sum'],\n",
    "        'category_3_1': ['sum', 'mean'],\n",
    "        'category_3_2': ['sum', 'mean'],\n",
    "        'category_3_3': ['sum', 'mean'],\n",
    "        'merchant_id': ['nunique'],\n",
    "        'purchase_amount': ['sum', 'mean', 'max', 'min', 'std'],\n",
    "        'installments': ['sum', 'mean', 'max', 'min', 'std'],\n",
    "        'purchase_month': ['mean', 'max', 'min', 'std'],\n",
    "        'purchase_date': [np.ptp, 'max', 'min'],\n",
    "        'month_lag': ['min', 'max'],\n",
    "        'merchant_category_id': ['nunique'],\n",
    "        'state_id': ['nunique'],\n",
    "        'subsector_id': ['nunique'],\n",
    "        'city_id': ['nunique'],\n",
    "    }\n",
    "    agg_trans = trans.groupby(['card_id']).agg(agg_func)\n",
    "    agg_trans.columns = [prefix + '_'.join(col).strip() for col in agg_trans.columns.values]\n",
    "    agg_trans.reset_index(inplace=True)\n",
    "\n",
    "    df = (trans.groupby('card_id')\n",
    "          .size()\n",
    "          .reset_index(name='{}transactions_count'.format(prefix)))\n",
    "\n",
    "    agg_trans = pd.merge(df, agg_trans, on='card_id', how='left')\n",
    "\n",
    "    return agg_trans"
   ]
  },
  {
   "cell_type": "code",
   "execution_count": 196,
   "metadata": {
    "_uuid": "61c4fd628b03892f0cd2be3736c768ef2a466b47"
   },
   "outputs": [
    {
     "name": "stdout",
     "output_type": "stream",
     "text": [
      "Mem. usage decreased to 167.93 Mb (42.4% reduction)\n",
      "CPU times: user 53.5 s, sys: 2.35 s, total: 55.9 s\n",
      "Wall time: 55.5 s\n"
     ]
    }
   ],
   "source": [
    "%%time\n",
    "gc.collect()\n",
    "new_transactions = reduce_mem_usage(new_merchant_transactions)\n",
    "history = aggregate_historical_transactions(new_merchant_transactions, prefix='new')\n",
    "del new_merchant_transactions\n",
    "gc.collect()\n",
    "train = pd.merge(train, history, on='card_id', how='left')\n",
    "test = pd.merge(test, history, on='card_id', how='left')\n",
    "del history\n",
    "gc.collect()"
   ]
  },
  {
   "cell_type": "code",
   "execution_count": 197,
   "metadata": {
    "_uuid": "3d86723eb2978f9d52ed2598c99d28cea598ae0a"
   },
   "outputs": [],
   "source": [
    "train = pd.merge(train, final_group, on='card_id', how='left')\n",
    "test = pd.merge(test, final_group, on='card_id', how='left')\n",
    "gc.collect()\n",
    "del final_group"
   ]
  },
  {
   "cell_type": "code",
   "execution_count": 198,
   "metadata": {},
   "outputs": [
    {
     "data": {
      "text/plain": [
       "(123623, 123)"
      ]
     },
     "execution_count": 198,
     "metadata": {},
     "output_type": "execute_result"
    }
   ],
   "source": [
    "test.shape"
   ]
  },
  {
   "cell_type": "markdown",
   "metadata": {
    "_uuid": "7b2b364313b419321256f2b248341ef24a2fb93f"
   },
   "source": [
    "## merchants\n",
    "Aggregate information for each merchant_id"
   ]
  },
  {
   "cell_type": "code",
   "execution_count": 199,
   "metadata": {
    "_uuid": "291f812055cebee3cb727ee816e0fff28898f6ad"
   },
   "outputs": [
    {
     "data": {
      "text/html": [
       "<div>\n",
       "<style scoped>\n",
       "    .dataframe tbody tr th:only-of-type {\n",
       "        vertical-align: middle;\n",
       "    }\n",
       "\n",
       "    .dataframe tbody tr th {\n",
       "        vertical-align: top;\n",
       "    }\n",
       "\n",
       "    .dataframe thead th {\n",
       "        text-align: right;\n",
       "    }\n",
       "</style>\n",
       "<table border=\"1\" class=\"dataframe\">\n",
       "  <thead>\n",
       "    <tr style=\"text-align: right;\">\n",
       "      <th></th>\n",
       "      <th>merchants.csv</th>\n",
       "      <th>Unnamed: 1</th>\n",
       "    </tr>\n",
       "  </thead>\n",
       "  <tbody>\n",
       "    <tr>\n",
       "      <th>0</th>\n",
       "      <td>NaN</td>\n",
       "      <td>NaN</td>\n",
       "    </tr>\n",
       "    <tr>\n",
       "      <th>1</th>\n",
       "      <td>Columns</td>\n",
       "      <td>Description</td>\n",
       "    </tr>\n",
       "    <tr>\n",
       "      <th>2</th>\n",
       "      <td>merchant_id</td>\n",
       "      <td>Unique merchant identifier</td>\n",
       "    </tr>\n",
       "    <tr>\n",
       "      <th>3</th>\n",
       "      <td>merchant_group_id</td>\n",
       "      <td>Merchant group (anonymized )</td>\n",
       "    </tr>\n",
       "    <tr>\n",
       "      <th>4</th>\n",
       "      <td>merchant_category_id</td>\n",
       "      <td>Unique identifier for merchant category (anonymized )</td>\n",
       "    </tr>\n",
       "    <tr>\n",
       "      <th>5</th>\n",
       "      <td>subsector_id</td>\n",
       "      <td>Merchant category group (anonymized )</td>\n",
       "    </tr>\n",
       "    <tr>\n",
       "      <th>6</th>\n",
       "      <td>numerical_1</td>\n",
       "      <td>anonymized measure</td>\n",
       "    </tr>\n",
       "    <tr>\n",
       "      <th>7</th>\n",
       "      <td>numerical_2</td>\n",
       "      <td>anonymized measure</td>\n",
       "    </tr>\n",
       "    <tr>\n",
       "      <th>8</th>\n",
       "      <td>category_1</td>\n",
       "      <td>anonymized category</td>\n",
       "    </tr>\n",
       "    <tr>\n",
       "      <th>9</th>\n",
       "      <td>most_recent_sales_range</td>\n",
       "      <td>Range of revenue (monetary units) in last active month --&gt; A &gt; B &gt; C &gt; D &gt; E</td>\n",
       "    </tr>\n",
       "    <tr>\n",
       "      <th>10</th>\n",
       "      <td>most_recent_purchases_range</td>\n",
       "      <td>Range of quantity of transactions in last active month --&gt; A &gt; B &gt; C &gt; D &gt; E</td>\n",
       "    </tr>\n",
       "    <tr>\n",
       "      <th>11</th>\n",
       "      <td>avg_sales_lag3</td>\n",
       "      <td>Monthly average of revenue in last 3 months divided by revenue in last active month</td>\n",
       "    </tr>\n",
       "    <tr>\n",
       "      <th>12</th>\n",
       "      <td>avg_purchases_lag3</td>\n",
       "      <td>Monthly average of transactions in last 3 months divided by transactions in last active month</td>\n",
       "    </tr>\n",
       "    <tr>\n",
       "      <th>13</th>\n",
       "      <td>active_months_lag3</td>\n",
       "      <td>Quantity of active months within last 3 months</td>\n",
       "    </tr>\n",
       "    <tr>\n",
       "      <th>14</th>\n",
       "      <td>avg_sales_lag6</td>\n",
       "      <td>Monthly average of revenue in last 6 months divided by revenue in last active month</td>\n",
       "    </tr>\n",
       "    <tr>\n",
       "      <th>15</th>\n",
       "      <td>avg_purchases_lag6</td>\n",
       "      <td>Monthly average of transactions in last 6 months divided by transactions in last active month</td>\n",
       "    </tr>\n",
       "    <tr>\n",
       "      <th>16</th>\n",
       "      <td>active_months_lag6</td>\n",
       "      <td>Quantity of active months within last 6 months</td>\n",
       "    </tr>\n",
       "    <tr>\n",
       "      <th>17</th>\n",
       "      <td>avg_sales_lag12</td>\n",
       "      <td>Monthly average of revenue in last 12 months divided by revenue in last active month</td>\n",
       "    </tr>\n",
       "    <tr>\n",
       "      <th>18</th>\n",
       "      <td>avg_purchases_lag12</td>\n",
       "      <td>Monthly average of transactions in last 12 months divided by transactions in last active month</td>\n",
       "    </tr>\n",
       "    <tr>\n",
       "      <th>19</th>\n",
       "      <td>active_months_lag12</td>\n",
       "      <td>Quantity of active months within last 12 months</td>\n",
       "    </tr>\n",
       "    <tr>\n",
       "      <th>20</th>\n",
       "      <td>category_4</td>\n",
       "      <td>anonymized category</td>\n",
       "    </tr>\n",
       "    <tr>\n",
       "      <th>21</th>\n",
       "      <td>city_id</td>\n",
       "      <td>City identifier (anonymized )</td>\n",
       "    </tr>\n",
       "    <tr>\n",
       "      <th>22</th>\n",
       "      <td>state_id</td>\n",
       "      <td>State identifier (anonymized )</td>\n",
       "    </tr>\n",
       "    <tr>\n",
       "      <th>23</th>\n",
       "      <td>category_2</td>\n",
       "      <td>anonymized category</td>\n",
       "    </tr>\n",
       "  </tbody>\n",
       "</table>\n",
       "</div>"
      ],
      "text/plain": [
       "                  merchants.csv  \\\n",
       "0                           NaN   \n",
       "1                       Columns   \n",
       "2                   merchant_id   \n",
       "3             merchant_group_id   \n",
       "4          merchant_category_id   \n",
       "5                  subsector_id   \n",
       "6                   numerical_1   \n",
       "7                   numerical_2   \n",
       "8                    category_1   \n",
       "9       most_recent_sales_range   \n",
       "10  most_recent_purchases_range   \n",
       "11               avg_sales_lag3   \n",
       "12           avg_purchases_lag3   \n",
       "13           active_months_lag3   \n",
       "14               avg_sales_lag6   \n",
       "15           avg_purchases_lag6   \n",
       "16           active_months_lag6   \n",
       "17              avg_sales_lag12   \n",
       "18          avg_purchases_lag12   \n",
       "19          active_months_lag12   \n",
       "20                   category_4   \n",
       "21                      city_id   \n",
       "22                     state_id   \n",
       "23                   category_2   \n",
       "\n",
       "                                                                                        Unnamed: 1  \n",
       "0                                                                                              NaN  \n",
       "1                                                                                      Description  \n",
       "2                                                                       Unique merchant identifier  \n",
       "3                                                                     Merchant group (anonymized )  \n",
       "4                                            Unique identifier for merchant category (anonymized )  \n",
       "5                                                            Merchant category group (anonymized )  \n",
       "6                                                                               anonymized measure  \n",
       "7                                                                               anonymized measure  \n",
       "8                                                                              anonymized category  \n",
       "9                     Range of revenue (monetary units) in last active month --> A > B > C > D > E  \n",
       "10                    Range of quantity of transactions in last active month --> A > B > C > D > E  \n",
       "11             Monthly average of revenue in last 3 months divided by revenue in last active month  \n",
       "12   Monthly average of transactions in last 3 months divided by transactions in last active month  \n",
       "13                                                  Quantity of active months within last 3 months  \n",
       "14             Monthly average of revenue in last 6 months divided by revenue in last active month  \n",
       "15   Monthly average of transactions in last 6 months divided by transactions in last active month  \n",
       "16                                                  Quantity of active months within last 6 months  \n",
       "17            Monthly average of revenue in last 12 months divided by revenue in last active month  \n",
       "18  Monthly average of transactions in last 12 months divided by transactions in last active month  \n",
       "19                                                 Quantity of active months within last 12 months  \n",
       "20                                                                             anonymized category  \n",
       "21                                                                   City identifier (anonymized )  \n",
       "22                                                                  State identifier (anonymized )  \n",
       "23                                                                             anonymized category  "
      ]
     },
     "execution_count": 199,
     "metadata": {},
     "output_type": "execute_result"
    }
   ],
   "source": [
    "merchants = pd.read_csv(path_data + '/merchants.csv')\n",
    "e = pd.read_excel(path_data + '/Data_Dictionary.xlsx', sheet_name='merchant')\n",
    "e"
   ]
  },
  {
   "cell_type": "code",
   "execution_count": 200,
   "metadata": {
    "_uuid": "a4a1749fe64677f4fcb735ecd7abf177303d4e3b"
   },
   "outputs": [
    {
     "name": "stdout",
     "output_type": "stream",
     "text": [
      "334696 merchants in data\n"
     ]
    },
    {
     "data": {
      "text/html": [
       "<div>\n",
       "<style scoped>\n",
       "    .dataframe tbody tr th:only-of-type {\n",
       "        vertical-align: middle;\n",
       "    }\n",
       "\n",
       "    .dataframe tbody tr th {\n",
       "        vertical-align: top;\n",
       "    }\n",
       "\n",
       "    .dataframe thead th {\n",
       "        text-align: right;\n",
       "    }\n",
       "</style>\n",
       "<table border=\"1\" class=\"dataframe\">\n",
       "  <thead>\n",
       "    <tr style=\"text-align: right;\">\n",
       "      <th></th>\n",
       "      <th>merchant_id</th>\n",
       "      <th>merchant_group_id</th>\n",
       "      <th>merchant_category_id</th>\n",
       "      <th>subsector_id</th>\n",
       "      <th>numerical_1</th>\n",
       "      <th>numerical_2</th>\n",
       "      <th>category_1</th>\n",
       "      <th>most_recent_sales_range</th>\n",
       "      <th>most_recent_purchases_range</th>\n",
       "      <th>avg_sales_lag3</th>\n",
       "      <th>avg_purchases_lag3</th>\n",
       "      <th>active_months_lag3</th>\n",
       "      <th>avg_sales_lag6</th>\n",
       "      <th>avg_purchases_lag6</th>\n",
       "      <th>active_months_lag6</th>\n",
       "      <th>avg_sales_lag12</th>\n",
       "      <th>avg_purchases_lag12</th>\n",
       "      <th>active_months_lag12</th>\n",
       "      <th>category_4</th>\n",
       "      <th>city_id</th>\n",
       "      <th>state_id</th>\n",
       "      <th>category_2</th>\n",
       "    </tr>\n",
       "  </thead>\n",
       "  <tbody>\n",
       "    <tr>\n",
       "      <th>0</th>\n",
       "      <td>M_ID_838061e48c</td>\n",
       "      <td>8353</td>\n",
       "      <td>792</td>\n",
       "      <td>9</td>\n",
       "      <td>-0.057471</td>\n",
       "      <td>-0.057471</td>\n",
       "      <td>N</td>\n",
       "      <td>E</td>\n",
       "      <td>E</td>\n",
       "      <td>-0.40</td>\n",
       "      <td>9.666667</td>\n",
       "      <td>3</td>\n",
       "      <td>-2.25</td>\n",
       "      <td>18.666667</td>\n",
       "      <td>6</td>\n",
       "      <td>-2.32</td>\n",
       "      <td>13.916667</td>\n",
       "      <td>12</td>\n",
       "      <td>N</td>\n",
       "      <td>242</td>\n",
       "      <td>9</td>\n",
       "      <td>1.0</td>\n",
       "    </tr>\n",
       "    <tr>\n",
       "      <th>1</th>\n",
       "      <td>M_ID_9339d880ad</td>\n",
       "      <td>3184</td>\n",
       "      <td>840</td>\n",
       "      <td>20</td>\n",
       "      <td>-0.057471</td>\n",
       "      <td>-0.057471</td>\n",
       "      <td>N</td>\n",
       "      <td>E</td>\n",
       "      <td>E</td>\n",
       "      <td>-0.72</td>\n",
       "      <td>1.750000</td>\n",
       "      <td>3</td>\n",
       "      <td>-0.74</td>\n",
       "      <td>1.291667</td>\n",
       "      <td>6</td>\n",
       "      <td>-0.57</td>\n",
       "      <td>1.687500</td>\n",
       "      <td>12</td>\n",
       "      <td>N</td>\n",
       "      <td>22</td>\n",
       "      <td>16</td>\n",
       "      <td>1.0</td>\n",
       "    </tr>\n",
       "    <tr>\n",
       "      <th>2</th>\n",
       "      <td>M_ID_e726bbae1e</td>\n",
       "      <td>447</td>\n",
       "      <td>690</td>\n",
       "      <td>1</td>\n",
       "      <td>-0.057471</td>\n",
       "      <td>-0.057471</td>\n",
       "      <td>N</td>\n",
       "      <td>E</td>\n",
       "      <td>E</td>\n",
       "      <td>-82.13</td>\n",
       "      <td>260.000000</td>\n",
       "      <td>2</td>\n",
       "      <td>-82.13</td>\n",
       "      <td>260.000000</td>\n",
       "      <td>2</td>\n",
       "      <td>-82.13</td>\n",
       "      <td>260.000000</td>\n",
       "      <td>2</td>\n",
       "      <td>N</td>\n",
       "      <td>-1</td>\n",
       "      <td>5</td>\n",
       "      <td>5.0</td>\n",
       "    </tr>\n",
       "    <tr>\n",
       "      <th>3</th>\n",
       "      <td>M_ID_a70e9c5f81</td>\n",
       "      <td>5026</td>\n",
       "      <td>792</td>\n",
       "      <td>9</td>\n",
       "      <td>-0.057471</td>\n",
       "      <td>-0.057471</td>\n",
       "      <td>Y</td>\n",
       "      <td>E</td>\n",
       "      <td>E</td>\n",
       "      <td>NaN</td>\n",
       "      <td>1.666667</td>\n",
       "      <td>3</td>\n",
       "      <td>NaN</td>\n",
       "      <td>4.666667</td>\n",
       "      <td>6</td>\n",
       "      <td>NaN</td>\n",
       "      <td>3.833333</td>\n",
       "      <td>12</td>\n",
       "      <td>Y</td>\n",
       "      <td>-1</td>\n",
       "      <td>-1</td>\n",
       "      <td>NaN</td>\n",
       "    </tr>\n",
       "    <tr>\n",
       "      <th>4</th>\n",
       "      <td>M_ID_64456c37ce</td>\n",
       "      <td>2228</td>\n",
       "      <td>222</td>\n",
       "      <td>21</td>\n",
       "      <td>-0.057471</td>\n",
       "      <td>-0.057471</td>\n",
       "      <td>Y</td>\n",
       "      <td>E</td>\n",
       "      <td>E</td>\n",
       "      <td>NaN</td>\n",
       "      <td>0.500000</td>\n",
       "      <td>3</td>\n",
       "      <td>NaN</td>\n",
       "      <td>0.361111</td>\n",
       "      <td>6</td>\n",
       "      <td>NaN</td>\n",
       "      <td>0.347222</td>\n",
       "      <td>12</td>\n",
       "      <td>Y</td>\n",
       "      <td>-1</td>\n",
       "      <td>-1</td>\n",
       "      <td>NaN</td>\n",
       "    </tr>\n",
       "  </tbody>\n",
       "</table>\n",
       "</div>"
      ],
      "text/plain": [
       "       merchant_id  merchant_group_id  merchant_category_id  subsector_id  \\\n",
       "0  M_ID_838061e48c               8353                   792             9   \n",
       "1  M_ID_9339d880ad               3184                   840            20   \n",
       "2  M_ID_e726bbae1e                447                   690             1   \n",
       "3  M_ID_a70e9c5f81               5026                   792             9   \n",
       "4  M_ID_64456c37ce               2228                   222            21   \n",
       "\n",
       "   numerical_1  numerical_2 category_1 most_recent_sales_range  \\\n",
       "0    -0.057471    -0.057471          N                       E   \n",
       "1    -0.057471    -0.057471          N                       E   \n",
       "2    -0.057471    -0.057471          N                       E   \n",
       "3    -0.057471    -0.057471          Y                       E   \n",
       "4    -0.057471    -0.057471          Y                       E   \n",
       "\n",
       "  most_recent_purchases_range  avg_sales_lag3  avg_purchases_lag3  \\\n",
       "0                           E           -0.40            9.666667   \n",
       "1                           E           -0.72            1.750000   \n",
       "2                           E          -82.13          260.000000   \n",
       "3                           E             NaN            1.666667   \n",
       "4                           E             NaN            0.500000   \n",
       "\n",
       "   active_months_lag3  avg_sales_lag6  avg_purchases_lag6  active_months_lag6  \\\n",
       "0                   3           -2.25           18.666667                   6   \n",
       "1                   3           -0.74            1.291667                   6   \n",
       "2                   2          -82.13          260.000000                   2   \n",
       "3                   3             NaN            4.666667                   6   \n",
       "4                   3             NaN            0.361111                   6   \n",
       "\n",
       "   avg_sales_lag12  avg_purchases_lag12  active_months_lag12 category_4  \\\n",
       "0            -2.32            13.916667                   12          N   \n",
       "1            -0.57             1.687500                   12          N   \n",
       "2           -82.13           260.000000                    2          N   \n",
       "3              NaN             3.833333                   12          Y   \n",
       "4              NaN             0.347222                   12          Y   \n",
       "\n",
       "   city_id  state_id  category_2  \n",
       "0      242         9         1.0  \n",
       "1       22        16         1.0  \n",
       "2       -1         5         5.0  \n",
       "3       -1        -1         NaN  \n",
       "4       -1        -1         NaN  "
      ]
     },
     "execution_count": 200,
     "metadata": {},
     "output_type": "execute_result"
    }
   ],
   "source": [
    "print('%d merchants in data'%merchants.shape[0])\n",
    "merchants.head()"
   ]
  },
  {
   "cell_type": "code",
   "execution_count": 201,
   "metadata": {
    "_uuid": "66426cd1a0ac67b80b2eb5c6b5d347458fdf21fd"
   },
   "outputs": [],
   "source": [
    "# encoding categories.\n",
    "map_dict = {'Y': 0, 'N': 1}\n",
    "merchants['category_1'] = merchants['category_1'].apply(lambda x: map_dict[x])\n",
    "merchants.loc[merchants['category_2'].isnull(), 'category_2'] = 0\n",
    "merchants['category_4'] = merchants['category_4'].apply(lambda x: map_dict[x])"
   ]
  },
  {
   "cell_type": "code",
   "execution_count": 202,
   "metadata": {
    "_uuid": "3c0b4350b6cc7485dee92b06ef82895a72f0fa80"
   },
   "outputs": [
    {
     "data": {
      "text/plain": [
       "(324, 109391)"
      ]
     },
     "execution_count": 202,
     "metadata": {},
     "output_type": "execute_result"
    }
   ],
   "source": [
    "merchants['merchant_category_id'].nunique(), merchants['merchant_group_id'].nunique()"
   ]
  },
  {
   "cell_type": "markdown",
   "metadata": {
    "_uuid": "27a79091a1d4a8b7ce47b6ccd56c1b723230bc11"
   },
   "source": [
    "### numerical_1"
   ]
  },
  {
   "cell_type": "code",
   "execution_count": 203,
   "metadata": {
    "_uuid": "ddb7ce69db6c052e21b3b5c6d64c73ae8d685438"
   },
   "outputs": [
    {
     "data": {
      "image/png": "[encoded data removed]",
      "text/plain": [
       "<Figure size 432x288 with 1 Axes>"
      ]
     },
     "metadata": {},
     "output_type": "display_data"
    }
   ],
   "source": [
    "plt.hist(merchants['numerical_1']);\n",
    "plt.title('Distribution of numerical_1');"
   ]
  },
  {
   "cell_type": "code",
   "execution_count": 204,
   "metadata": {
    "_uuid": "94aab73543b32634afb1f4cf90cabf6ae16cdd75"
   },
   "outputs": [
    {
     "data": {
      "text/plain": [
       "0.09125291"
      ]
     },
     "execution_count": 204,
     "metadata": {},
     "output_type": "execute_result"
    }
   ],
   "source": [
    "np.percentile(merchants['numerical_1'], 95)"
   ]
  },
  {
   "cell_type": "markdown",
   "metadata": {
    "_uuid": "f8c40112a928328a4196b891e06d252cd70b61b6"
   },
   "source": [
    "Well, 95% of values are less than 0.1, we'll need to deal with outliers."
   ]
  },
  {
   "cell_type": "code",
   "execution_count": 205,
   "metadata": {
    "_uuid": "214672a19d3d27a129bb439e43ee1e83caad3e32"
   },
   "outputs": [
    {
     "data": {
      "image/png": "[encoded data removed]",
      "text/plain": [
       "<Figure size 432x288 with 1 Axes>"
      ]
     },
     "metadata": {},
     "output_type": "display_data"
    }
   ],
   "source": [
    "plt.hist(merchants.loc[merchants['numerical_1'] < 0.1, 'numerical_1']);\n",
    "plt.title('Distribution of numerical_1 less than 0.1');"
   ]
  },
  {
   "cell_type": "code",
   "execution_count": 206,
   "metadata": {
    "_uuid": "18bade042e02c9efef60fec3a185e026a60e89f1"
   },
   "outputs": [
    {
     "name": "stdout",
     "output_type": "stream",
     "text": [
      "68.3570% of values in numerical_1 are equal to -0.05747065\n"
     ]
    }
   ],
   "source": [
    "min_n1 = merchants['numerical_1'].min()\n",
    "_ = sum(merchants['numerical_1'] == min_n1) / merchants['numerical_1'].shape[0]\n",
    "print(f'{_ * 100:.4f}% of values in numerical_1 are equal to {min_n1}')"
   ]
  },
  {
   "cell_type": "markdown",
   "metadata": {
    "_uuid": "4dedb20eabf065ccdeab7b3ee3e1aab4db91e7fb"
   },
   "source": [
    "In fact more than a half values are equal to minimum value. A very skewered distribution."
   ]
  },
  {
   "cell_type": "markdown",
   "metadata": {
    "_uuid": "af3eac6377e29b43e409f3482ba5da79be7ad20b"
   },
   "source": [
    "### Numerical_2"
   ]
  },
  {
   "cell_type": "code",
   "execution_count": 207,
   "metadata": {
    "_uuid": "d0b4912cf04e05aae8af47957ab1963433f0c268"
   },
   "outputs": [
    {
     "data": {
      "image/png": "[encoded data removed]",
      "text/plain": [
       "<Figure size 432x288 with 1 Axes>"
      ]
     },
     "metadata": {},
     "output_type": "display_data"
    }
   ],
   "source": [
    "plt.hist(merchants['numerical_2']);\n",
    "plt.title('Distribution of numerical_2');"
   ]
  },
  {
   "cell_type": "code",
   "execution_count": 208,
   "metadata": {
    "_uuid": "9925c1c39789ffe907236dac2e5e6575d370f244"
   },
   "outputs": [
    {
     "name": "stdout",
     "output_type": "stream",
     "text": [
      "68.3570% of values in numerical_1 are equal to -0.05747065\n"
     ]
    },
    {
     "data": {
      "image/png": "[encoded data removed]",
      "text/plain": [
       "<Figure size 432x288 with 1 Axes>"
      ]
     },
     "metadata": {},
     "output_type": "display_data"
    }
   ],
   "source": [
    "plt.hist(merchants.loc[merchants['numerical_2'] < 0.1, 'numerical_2']);\n",
    "plt.title('Distribution of numerical_2 less than 0.1');\n",
    "min_n1 = merchants['numerical_1'].min()\n",
    "_ = sum(merchants['numerical_1'] == min_n1) / merchants['numerical_1'].shape[0]\n",
    "print(f'{_ * 100:.4f}% of values in numerical_1 are equal to {min_n1}')"
   ]
  },
  {
   "cell_type": "code",
   "execution_count": 209,
   "metadata": {
    "_uuid": "604f40e5b93e654a26f95b7a8ef4e38fa76ce7ec"
   },
   "outputs": [
    {
     "data": {
      "text/plain": [
       "0.10056289886942181"
      ]
     },
     "execution_count": 209,
     "metadata": {},
     "output_type": "execute_result"
    }
   ],
   "source": [
    "(merchants['numerical_1'] != merchants['numerical_2']).sum() / merchants.shape[0]"
   ]
  },
  {
   "cell_type": "markdown",
   "metadata": {
    "_uuid": "644e77327dc8c80baaf1ce0f3956436e5c8d0a40"
   },
   "source": [
    "These two variables are very similar. In fact for 90% merchants they are the same."
   ]
  },
  {
   "cell_type": "markdown",
   "metadata": {
    "_uuid": "3a2cf5b550671e025c86ce6268268a24e041df20"
   },
   "source": [
    "> most_recent_sales_range \tmost_recent_purchases_range \tavg_sales_lag3 \tavg_purchases_lag3 \tactive_months_lag3 \tavg_sales_lag6 \tavg_purchases_lag6 \tactive_months_lag6 \tavg_sales_lag12 \tavg_purchases_lag12 \tactive_months_lag12"
   ]
  },
  {
   "cell_type": "markdown",
   "metadata": {
    "_uuid": "c3f1138340c6d205a94843652f08802957efa61d"
   },
   "source": [
    "### most_recent_sales_range"
   ]
  },
  {
   "cell_type": "code",
   "execution_count": 210,
   "metadata": {
    "_uuid": "f21d5d6679909ff02f3cf12a912db760c1da5692"
   },
   "outputs": [
    {
     "data": {
      "image/png": "[encoded data removed]",
      "text/plain": [
       "<Figure size 432x288 with 1 Axes>"
      ]
     },
     "metadata": {},
     "output_type": "display_data"
    }
   ],
   "source": [
    "merchants['most_recent_sales_range'].value_counts().plot('bar');"
   ]
  },
  {
   "cell_type": "code",
   "execution_count": 211,
   "metadata": {
    "_kg_hide-input": true,
    "_uuid": "7a8c6874fa42d125d2905fa89508e3249507803d"
   },
   "outputs": [
    {
     "data": {
      "application/vnd.plotly.v1+json": {
       "config": {
        "linkText": "Export to plot.ly",
        "plotlyServerURL": "https://plot.ly",
        "showLink": true
       },
       "data": [
        {
         "name": "counts",
         "type": "bar",
         "uid": "b80ee0dd-6e17-4e7a-9d88-37955fdeacd1",
         "x": [
          "A",
          "B",
          "C",
          "D",
          "E"
         ],
         "y": [
          1005,
          5037,
          34075,
          117475,
          177104
         ]
        },
        {
         "name": "mean numerical_1",
         "type": "scatter",
         "uid": "2f8b060a-9fc4-427b-be98-957419fb8f26",
         "x": [
          "A",
          "B",
          "C",
          "D",
          "E"
         ],
         "y": [
          0.10479029298398836,
          -0.0001798100400573836,
          -0.039051173269590886,
          -0.04723984384923806,
          -0.05117932493828943
         ],
         "yaxis": "y2"
        }
       ],
       "layout": {
        "legend": {
         "orientation": "v"
        },
        "title": "Counts of values in categories of most_recent_sales_range",
        "xaxis": {
         "title": "most_recent_sales_range"
        },
        "yaxis": {
         "title": "Counts"
        },
        "yaxis2": {
         "overlaying": "y",
         "side": "right",
         "title": "mean numerical_1"
        }
       }
      },
      "text/html": [
       "<div id=\"426d3bfd-de4e-4957-b8e6-c1fdd2486ad4\" style=\"height: 525px; width: 100%;\" class=\"plotly-graph-div\"></div><script type=\"text/javascript\">require([\"plotly\"], function(Plotly) { window.PLOTLYENV=window.PLOTLYENV || {};window.PLOTLYENV.BASE_URL=\"https://plot.ly\";Plotly.newPlot(\"426d3bfd-de4e-4957-b8e6-c1fdd2486ad4\", [{\"name\": \"counts\", \"x\": [\"A\", \"B\", \"C\", \"D\", \"E\"], \"y\": [1005, 5037, 34075, 117475, 177104], \"type\": \"bar\", \"uid\": \"503e9e88-6ad4-436f-a71a-14957b168fe0\"}, {\"name\": \"mean numerical_1\", \"x\": [\"A\", \"B\", \"C\", \"D\", \"E\"], \"y\": [0.10479029298398836, -0.0001798100400573836, -0.039051173269590886, -0.04723984384923806, -0.05117932493828943], \"yaxis\": \"y2\", \"type\": \"scatter\", \"uid\": \"9ab6a5ae-1ec7-4500-934c-324351733bdd\"}], {\"legend\": {\"orientation\": \"v\"}, \"title\": \"Counts of values in categories of most_recent_sales_range\", \"xaxis\": {\"title\": \"most_recent_sales_range\"}, \"yaxis\": {\"title\": \"Counts\"}, \"yaxis2\": {\"overlaying\": \"y\", \"side\": \"right\", \"title\": \"mean numerical_1\"}}, {\"showLink\": true, \"linkText\": \"Export to plot.ly\", \"plotlyServerURL\": \"https://plot.ly\"})});</script><script type=\"text/javascript\">window.addEventListener(\"resize\", function(){window._Plotly.Plots.resize(document.getElementById(\"426d3bfd-de4e-4957-b8e6-c1fdd2486ad4\"));});</script>"
      ],
      "text/vnd.plotly.v1+html": [
       "<div id=\"426d3bfd-de4e-4957-b8e6-c1fdd2486ad4\" style=\"height: 525px; width: 100%;\" class=\"plotly-graph-div\"></div><script type=\"text/javascript\">require([\"plotly\"], function(Plotly) { window.PLOTLYENV=window.PLOTLYENV || {};window.PLOTLYENV.BASE_URL=\"https://plot.ly\";Plotly.newPlot(\"426d3bfd-de4e-4957-b8e6-c1fdd2486ad4\", [{\"name\": \"counts\", \"x\": [\"A\", \"B\", \"C\", \"D\", \"E\"], \"y\": [1005, 5037, 34075, 117475, 177104], \"type\": \"bar\", \"uid\": \"503e9e88-6ad4-436f-a71a-14957b168fe0\"}, {\"name\": \"mean numerical_1\", \"x\": [\"A\", \"B\", \"C\", \"D\", \"E\"], \"y\": [0.10479029298398836, -0.0001798100400573836, -0.039051173269590886, -0.04723984384923806, -0.05117932493828943], \"yaxis\": \"y2\", \"type\": \"scatter\", \"uid\": \"9ab6a5ae-1ec7-4500-934c-324351733bdd\"}], {\"legend\": {\"orientation\": \"v\"}, \"title\": \"Counts of values in categories of most_recent_sales_range\", \"xaxis\": {\"title\": \"most_recent_sales_range\"}, \"yaxis\": {\"title\": \"Counts\"}, \"yaxis2\": {\"overlaying\": \"y\", \"side\": \"right\", \"title\": \"mean numerical_1\"}}, {\"showLink\": true, \"linkText\": \"Export to plot.ly\", \"plotlyServerURL\": \"https://plot.ly\"})});</script><script type=\"text/javascript\">window.addEventListener(\"resize\", function(){window._Plotly.Plots.resize(document.getElementById(\"426d3bfd-de4e-4957-b8e6-c1fdd2486ad4\"));});</script>"
      ]
     },
     "metadata": {},
     "output_type": "display_data"
    }
   ],
   "source": [
    "d = merchants['most_recent_sales_range'].value_counts().sort_index()\n",
    "e = merchants.loc[merchants['numerical_2'] < 0.1].groupby('most_recent_sales_range')['numerical_1'].mean()\n",
    "data = [go.Bar(x=d.index, y=d.values, name='counts'), go.Scatter(x=e.index, y=e.values, name='mean numerical_1', yaxis='y2')]\n",
    "layout = go.Layout(dict(title = \"Counts of values in categories of most_recent_sales_range\",\n",
    "                        xaxis = dict(title = 'most_recent_sales_range'),\n",
    "                        yaxis = dict(title = 'Counts'),\n",
    "                        yaxis2=dict(title='mean numerical_1', overlaying='y', side='right')),\n",
    "                   legend=dict(orientation=\"v\"))\n",
    "py.iplot(dict(data=data, layout=layout))"
   ]
  },
  {
   "cell_type": "markdown",
   "metadata": {
    "_uuid": "3951b516781fab96bf86edf667cde14a5fce8dfd"
   },
   "source": [
    "We can see that these ranges have different counts and different mean value of numerical_1 even after removing outliers."
   ]
  },
  {
   "cell_type": "markdown",
   "metadata": {
    "_uuid": "db1a98b50b33b9bbff2b95f65e64cc6642a5752a"
   },
   "source": [
    "### most_recent_purchases_range"
   ]
  },
  {
   "cell_type": "code",
   "execution_count": 212,
   "metadata": {
    "_uuid": "41899f368e90d8588e6041556f1a9b07a8d90d30"
   },
   "outputs": [
    {
     "data": {
      "application/vnd.plotly.v1+json": {
       "config": {
        "linkText": "Export to plot.ly",
        "plotlyServerURL": "https://plot.ly",
        "showLink": true
       },
       "data": [
        {
         "name": "counts",
         "type": "bar",
         "uid": "2c3fb2e3-8495-46fe-9c65-7f349b40b852",
         "x": [
          "A",
          "B",
          "C",
          "D",
          "E"
         ],
         "y": [
          1010,
          5046,
          34144,
          119187,
          175309
         ]
        },
        {
         "name": "mean numerical_1",
         "type": "scatter",
         "uid": "c4a4477a-2b4a-4ddf-b3fd-903671c5a45c",
         "x": [
          "A",
          "B",
          "C",
          "D",
          "E"
         ],
         "y": [
          0.14732742041095895,
          -0.004291256158499916,
          -0.0422496233684207,
          -0.0470960366668142,
          -0.05073033874219551
         ],
         "yaxis": "y2"
        }
       ],
       "layout": {
        "legend": {
         "orientation": "v"
        },
        "title": "Counts of values in categories of most_recent_purchases_range",
        "xaxis": {
         "title": "most_recent_purchases_range"
        },
        "yaxis": {
         "title": "Counts"
        },
        "yaxis2": {
         "overlaying": "y",
         "side": "right",
         "title": "mean numerical_1"
        }
       }
      },
      "text/html": [
       "<div id=\"6344de43-d359-49aa-8c81-ac2ea56d2364\" style=\"height: 525px; width: 100%;\" class=\"plotly-graph-div\"></div><script type=\"text/javascript\">require([\"plotly\"], function(Plotly) { window.PLOTLYENV=window.PLOTLYENV || {};window.PLOTLYENV.BASE_URL=\"https://plot.ly\";Plotly.newPlot(\"6344de43-d359-49aa-8c81-ac2ea56d2364\", [{\"name\": \"counts\", \"x\": [\"A\", \"B\", \"C\", \"D\", \"E\"], \"y\": [1010, 5046, 34144, 119187, 175309], \"type\": \"bar\", \"uid\": \"9087bc68-bbe6-4a34-9fbc-13ffc93ee611\"}, {\"name\": \"mean numerical_1\", \"x\": [\"A\", \"B\", \"C\", \"D\", \"E\"], \"y\": [0.14732742041095895, -0.004291256158499916, -0.0422496233684207, -0.0470960366668142, -0.05073033874219551], \"yaxis\": \"y2\", \"type\": \"scatter\", \"uid\": \"f494aa41-ca9f-45dc-874a-0ebacc4c1032\"}], {\"legend\": {\"orientation\": \"v\"}, \"title\": \"Counts of values in categories of most_recent_purchases_range\", \"xaxis\": {\"title\": \"most_recent_purchases_range\"}, \"yaxis\": {\"title\": \"Counts\"}, \"yaxis2\": {\"overlaying\": \"y\", \"side\": \"right\", \"title\": \"mean numerical_1\"}}, {\"showLink\": true, \"linkText\": \"Export to plot.ly\", \"plotlyServerURL\": \"https://plot.ly\"})});</script><script type=\"text/javascript\">window.addEventListener(\"resize\", function(){window._Plotly.Plots.resize(document.getElementById(\"6344de43-d359-49aa-8c81-ac2ea56d2364\"));});</script>"
      ],
      "text/vnd.plotly.v1+html": [
       "<div id=\"6344de43-d359-49aa-8c81-ac2ea56d2364\" style=\"height: 525px; width: 100%;\" class=\"plotly-graph-div\"></div><script type=\"text/javascript\">require([\"plotly\"], function(Plotly) { window.PLOTLYENV=window.PLOTLYENV || {};window.PLOTLYENV.BASE_URL=\"https://plot.ly\";Plotly.newPlot(\"6344de43-d359-49aa-8c81-ac2ea56d2364\", [{\"name\": \"counts\", \"x\": [\"A\", \"B\", \"C\", \"D\", \"E\"], \"y\": [1010, 5046, 34144, 119187, 175309], \"type\": \"bar\", \"uid\": \"9087bc68-bbe6-4a34-9fbc-13ffc93ee611\"}, {\"name\": \"mean numerical_1\", \"x\": [\"A\", \"B\", \"C\", \"D\", \"E\"], \"y\": [0.14732742041095895, -0.004291256158499916, -0.0422496233684207, -0.0470960366668142, -0.05073033874219551], \"yaxis\": \"y2\", \"type\": \"scatter\", \"uid\": \"f494aa41-ca9f-45dc-874a-0ebacc4c1032\"}], {\"legend\": {\"orientation\": \"v\"}, \"title\": \"Counts of values in categories of most_recent_purchases_range\", \"xaxis\": {\"title\": \"most_recent_purchases_range\"}, \"yaxis\": {\"title\": \"Counts\"}, \"yaxis2\": {\"overlaying\": \"y\", \"side\": \"right\", \"title\": \"mean numerical_1\"}}, {\"showLink\": true, \"linkText\": \"Export to plot.ly\", \"plotlyServerURL\": \"https://plot.ly\"})});</script><script type=\"text/javascript\">window.addEventListener(\"resize\", function(){window._Plotly.Plots.resize(document.getElementById(\"6344de43-d359-49aa-8c81-ac2ea56d2364\"));});</script>"
      ]
     },
     "metadata": {},
     "output_type": "display_data"
    }
   ],
   "source": [
    "d = merchants['most_recent_purchases_range'].value_counts().sort_index()\n",
    "e = merchants.loc[merchants['numerical_2'] < 0.1].groupby('most_recent_purchases_range')['numerical_1'].mean()\n",
    "data = [go.Bar(x=d.index, y=d.values, name='counts'), go.Scatter(x=e.index, y=e.values, name='mean numerical_1', yaxis='y2')]\n",
    "layout = go.Layout(dict(title = \"Counts of values in categories of most_recent_purchases_range\",\n",
    "                        xaxis = dict(title = 'most_recent_purchases_range'),\n",
    "                        yaxis = dict(title = 'Counts'),\n",
    "                        yaxis2=dict(title='mean numerical_1', overlaying='y', side='right')),\n",
    "                   legend=dict(orientation=\"v\"))\n",
    "py.iplot(dict(data=data, layout=layout))"
   ]
  },
  {
   "cell_type": "markdown",
   "metadata": {
    "_uuid": "621e0b6df1dcf73a95d3709bbbbfce0a60b5489c"
   },
   "source": [
    "These two variables seem to be quite similar."
   ]
  },
  {
   "cell_type": "markdown",
   "metadata": {
    "_uuid": "8f6c94741e8c8a8af5fac95ae4452fc238aea33b"
   },
   "source": [
    "### avg_sales_lag"
   ]
  },
  {
   "cell_type": "code",
   "execution_count": 213,
   "metadata": {
    "_uuid": "0ea8ea95e2105c11f04b4c3e8f46d2e2261d8594",
    "scrolled": true
   },
   "outputs": [
    {
     "data": {
      "image/png": "[encoded data removed]",
      "text/plain": [
       "<Figure size 432x288 with 1 Axes>"
      ]
     },
     "metadata": {},
     "output_type": "display_data"
    }
   ],
   "source": [
    "plt.hist(merchants['avg_sales_lag3'].fillna(0));\n",
    "plt.hist(merchants['avg_sales_lag6'].fillna(0));\n",
    "plt.hist(merchants['avg_sales_lag12'].fillna(0));"
   ]
  },
  {
   "cell_type": "code",
   "execution_count": 214,
   "metadata": {
    "_uuid": "5baa99bfe3dba4906b376966dae3ebf19e4ff550"
   },
   "outputs": [
    {
     "name": "stdout",
     "output_type": "stream",
     "text": [
      "Max value of avg_sales_lag3 is 851844.64\n",
      "Min value of avg_sales_lag3 is -82.13\n",
      "Max value of avg_sales_lag6 is 1513959.0\n",
      "Min value of avg_sales_lag6 is -82.13\n",
      "Max value of avg_sales_lag12 is 2567408.0\n",
      "Min value of avg_sales_lag12 is -82.13\n"
     ]
    }
   ],
   "source": [
    "for col in ['avg_sales_lag3', 'avg_sales_lag6', 'avg_sales_lag12']:\n",
    "    print(f'Max value of {col} is {merchants[col].max()}')\n",
    "    print(f'Min value of {col} is {merchants[col].min()}')"
   ]
  },
  {
   "cell_type": "code",
   "execution_count": 215,
   "metadata": {
    "_uuid": "b034ab4c4a1dea6b394c4fd1790bfb8a5e880774"
   },
   "outputs": [
    {
     "data": {
      "image/png": "[encoded data removed]",
      "text/plain": [
       "<Figure size 432x288 with 1 Axes>"
      ]
     },
     "metadata": {},
     "output_type": "display_data"
    }
   ],
   "source": [
    "plt.hist(merchants.loc[(merchants['avg_sales_lag12'] < 3) & (merchants['avg_sales_lag12'] > -10), 'avg_sales_lag12'].fillna(0), label='avg_sales_lag12');\n",
    "plt.hist(merchants.loc[(merchants['avg_sales_lag6'] < 3) & (merchants['avg_sales_lag6'] > -10), 'avg_sales_lag6'].fillna(0), label='avg_sales_lag6');\n",
    "plt.hist(merchants.loc[(merchants['avg_sales_lag3'] < 3) & (merchants['avg_sales_lag3'] > -10), 'avg_sales_lag3'].fillna(0), label='avg_sales_lag3');\n",
    "plt.legend();"
   ]
  },
  {
   "cell_type": "markdown",
   "metadata": {
    "_uuid": "1a52c39bdb6a2d09a4136edc8ddf782463b8c40f"
   },
   "source": [
    "Distribution of these values is quite similar and most values are between 0 and 2."
   ]
  },
  {
   "cell_type": "markdown",
   "metadata": {
    "_uuid": "c9d7fb7d16a85714832312000808e59ff4567491"
   },
   "source": [
    "### avg_purchases_lag"
   ]
  },
  {
   "cell_type": "code",
   "execution_count": 216,
   "metadata": {
    "_uuid": "68a431b3e60a8d7b02e2b70d18c61eee4324039e"
   },
   "outputs": [
    {
     "data": {
      "text/plain": [
       "10                inf\n",
       "11                inf\n",
       "12                inf\n",
       "235      6.185133e+04\n",
       "13168    1.730000e+03\n",
       "Name: avg_purchases_lag3, dtype: float64"
      ]
     },
     "execution_count": 216,
     "metadata": {},
     "output_type": "execute_result"
    }
   ],
   "source": [
    "merchants['avg_purchases_lag3'].nlargest()"
   ]
  },
  {
   "cell_type": "markdown",
   "metadata": {
    "_uuid": "f45820fd9663e50553fcb583e379e740628ffc1d"
   },
   "source": [
    "We even have infinite values..."
   ]
  },
  {
   "cell_type": "code",
   "execution_count": 217,
   "metadata": {
    "_uuid": "d296b90a7f39025dba29d3cf8a2583e42939ed34"
   },
   "outputs": [],
   "source": [
    "merchants.loc[merchants['avg_purchases_lag3'] == np.inf, 'avg_purchases_lag3'] = 6000\n",
    "merchants.loc[merchants['avg_purchases_lag6'] == np.inf, 'avg_purchases_lag6'] = 6000\n",
    "merchants.loc[merchants['avg_purchases_lag12'] == np.inf, 'avg_purchases_lag12'] = 6000"
   ]
  },
  {
   "cell_type": "code",
   "execution_count": 218,
   "metadata": {
    "_uuid": "18394735ef9c94306faabdc31a039d0bb1e97586",
    "scrolled": true
   },
   "outputs": [
    {
     "data": {
      "image/png": "[encoded data removed]",
      "text/plain": [
       "<Figure size 432x288 with 1 Axes>"
      ]
     },
     "metadata": {},
     "output_type": "display_data"
    }
   ],
   "source": [
    "plt.hist(merchants['avg_purchases_lag3'].fillna(0));\n",
    "plt.hist(merchants['avg_purchases_lag6'].fillna(0));\n",
    "plt.hist(merchants['avg_purchases_lag12'].fillna(0));"
   ]
  },
  {
   "cell_type": "code",
   "execution_count": 219,
   "metadata": {
    "_uuid": "05b9a9296e65a54e4d1d81359581d7964216b939"
   },
   "outputs": [
    {
     "data": {
      "image/png": "[encoded data removed]",
      "text/plain": [
       "<Figure size 432x288 with 1 Axes>"
      ]
     },
     "metadata": {},
     "output_type": "display_data"
    }
   ],
   "source": [
    "plt.hist(merchants.loc[(merchants['avg_purchases_lag12'] < 4), 'avg_purchases_lag12'].fillna(0), label='avg_purchases_lag12');\n",
    "plt.hist(merchants.loc[(merchants['avg_purchases_lag6'] < 4), 'avg_purchases_lag6'].fillna(0), label='avg_purchases_lag6');\n",
    "plt.hist(merchants.loc[(merchants['avg_purchases_lag3'] < 4), 'avg_purchases_lag3'].fillna(0), label='avg_purchases_lag3');\n",
    "plt.legend();"
   ]
  },
  {
   "cell_type": "code",
   "execution_count": 220,
   "metadata": {},
   "outputs": [
    {
     "data": {
      "text/html": [
       "<div>\n",
       "<style scoped>\n",
       "    .dataframe tbody tr th:only-of-type {\n",
       "        vertical-align: middle;\n",
       "    }\n",
       "\n",
       "    .dataframe tbody tr th {\n",
       "        vertical-align: top;\n",
       "    }\n",
       "\n",
       "    .dataframe thead th {\n",
       "        text-align: right;\n",
       "    }\n",
       "</style>\n",
       "<table border=\"1\" class=\"dataframe\">\n",
       "  <thead>\n",
       "    <tr style=\"text-align: right;\">\n",
       "      <th></th>\n",
       "      <th>merchant_id</th>\n",
       "      <th>merchant_group_id</th>\n",
       "      <th>merchant_category_id</th>\n",
       "      <th>subsector_id</th>\n",
       "      <th>numerical_1</th>\n",
       "      <th>numerical_2</th>\n",
       "      <th>category_1</th>\n",
       "      <th>most_recent_sales_range</th>\n",
       "      <th>most_recent_purchases_range</th>\n",
       "      <th>avg_sales_lag3</th>\n",
       "      <th>avg_purchases_lag3</th>\n",
       "      <th>active_months_lag3</th>\n",
       "      <th>avg_sales_lag6</th>\n",
       "      <th>avg_purchases_lag6</th>\n",
       "      <th>active_months_lag6</th>\n",
       "      <th>avg_sales_lag12</th>\n",
       "      <th>avg_purchases_lag12</th>\n",
       "      <th>active_months_lag12</th>\n",
       "      <th>category_4</th>\n",
       "      <th>city_id</th>\n",
       "      <th>state_id</th>\n",
       "      <th>category_2</th>\n",
       "    </tr>\n",
       "  </thead>\n",
       "  <tbody>\n",
       "    <tr>\n",
       "      <th>0</th>\n",
       "      <td>M_ID_838061e48c</td>\n",
       "      <td>8353</td>\n",
       "      <td>792</td>\n",
       "      <td>9</td>\n",
       "      <td>-0.057471</td>\n",
       "      <td>-0.057471</td>\n",
       "      <td>1</td>\n",
       "      <td>E</td>\n",
       "      <td>E</td>\n",
       "      <td>-0.40</td>\n",
       "      <td>9.666667</td>\n",
       "      <td>3</td>\n",
       "      <td>-2.25</td>\n",
       "      <td>18.666667</td>\n",
       "      <td>6</td>\n",
       "      <td>-2.32</td>\n",
       "      <td>13.916667</td>\n",
       "      <td>12</td>\n",
       "      <td>1</td>\n",
       "      <td>242</td>\n",
       "      <td>9</td>\n",
       "      <td>1.0</td>\n",
       "    </tr>\n",
       "    <tr>\n",
       "      <th>1</th>\n",
       "      <td>M_ID_9339d880ad</td>\n",
       "      <td>3184</td>\n",
       "      <td>840</td>\n",
       "      <td>20</td>\n",
       "      <td>-0.057471</td>\n",
       "      <td>-0.057471</td>\n",
       "      <td>1</td>\n",
       "      <td>E</td>\n",
       "      <td>E</td>\n",
       "      <td>-0.72</td>\n",
       "      <td>1.750000</td>\n",
       "      <td>3</td>\n",
       "      <td>-0.74</td>\n",
       "      <td>1.291667</td>\n",
       "      <td>6</td>\n",
       "      <td>-0.57</td>\n",
       "      <td>1.687500</td>\n",
       "      <td>12</td>\n",
       "      <td>1</td>\n",
       "      <td>22</td>\n",
       "      <td>16</td>\n",
       "      <td>1.0</td>\n",
       "    </tr>\n",
       "    <tr>\n",
       "      <th>2</th>\n",
       "      <td>M_ID_e726bbae1e</td>\n",
       "      <td>447</td>\n",
       "      <td>690</td>\n",
       "      <td>1</td>\n",
       "      <td>-0.057471</td>\n",
       "      <td>-0.057471</td>\n",
       "      <td>1</td>\n",
       "      <td>E</td>\n",
       "      <td>E</td>\n",
       "      <td>-82.13</td>\n",
       "      <td>260.000000</td>\n",
       "      <td>2</td>\n",
       "      <td>-82.13</td>\n",
       "      <td>260.000000</td>\n",
       "      <td>2</td>\n",
       "      <td>-82.13</td>\n",
       "      <td>260.000000</td>\n",
       "      <td>2</td>\n",
       "      <td>1</td>\n",
       "      <td>-1</td>\n",
       "      <td>5</td>\n",
       "      <td>5.0</td>\n",
       "    </tr>\n",
       "    <tr>\n",
       "      <th>3</th>\n",
       "      <td>M_ID_a70e9c5f81</td>\n",
       "      <td>5026</td>\n",
       "      <td>792</td>\n",
       "      <td>9</td>\n",
       "      <td>-0.057471</td>\n",
       "      <td>-0.057471</td>\n",
       "      <td>0</td>\n",
       "      <td>E</td>\n",
       "      <td>E</td>\n",
       "      <td>NaN</td>\n",
       "      <td>1.666667</td>\n",
       "      <td>3</td>\n",
       "      <td>NaN</td>\n",
       "      <td>4.666667</td>\n",
       "      <td>6</td>\n",
       "      <td>NaN</td>\n",
       "      <td>3.833333</td>\n",
       "      <td>12</td>\n",
       "      <td>0</td>\n",
       "      <td>-1</td>\n",
       "      <td>-1</td>\n",
       "      <td>0.0</td>\n",
       "    </tr>\n",
       "    <tr>\n",
       "      <th>4</th>\n",
       "      <td>M_ID_64456c37ce</td>\n",
       "      <td>2228</td>\n",
       "      <td>222</td>\n",
       "      <td>21</td>\n",
       "      <td>-0.057471</td>\n",
       "      <td>-0.057471</td>\n",
       "      <td>0</td>\n",
       "      <td>E</td>\n",
       "      <td>E</td>\n",
       "      <td>NaN</td>\n",
       "      <td>0.500000</td>\n",
       "      <td>3</td>\n",
       "      <td>NaN</td>\n",
       "      <td>0.361111</td>\n",
       "      <td>6</td>\n",
       "      <td>NaN</td>\n",
       "      <td>0.347222</td>\n",
       "      <td>12</td>\n",
       "      <td>0</td>\n",
       "      <td>-1</td>\n",
       "      <td>-1</td>\n",
       "      <td>0.0</td>\n",
       "    </tr>\n",
       "  </tbody>\n",
       "</table>\n",
       "</div>"
      ],
      "text/plain": [
       "       merchant_id  merchant_group_id  merchant_category_id  subsector_id  \\\n",
       "0  M_ID_838061e48c               8353                   792             9   \n",
       "1  M_ID_9339d880ad               3184                   840            20   \n",
       "2  M_ID_e726bbae1e                447                   690             1   \n",
       "3  M_ID_a70e9c5f81               5026                   792             9   \n",
       "4  M_ID_64456c37ce               2228                   222            21   \n",
       "\n",
       "   numerical_1  numerical_2  category_1 most_recent_sales_range  \\\n",
       "0    -0.057471    -0.057471           1                       E   \n",
       "1    -0.057471    -0.057471           1                       E   \n",
       "2    -0.057471    -0.057471           1                       E   \n",
       "3    -0.057471    -0.057471           0                       E   \n",
       "4    -0.057471    -0.057471           0                       E   \n",
       "\n",
       "  most_recent_purchases_range  avg_sales_lag3  avg_purchases_lag3  \\\n",
       "0                           E           -0.40            9.666667   \n",
       "1                           E           -0.72            1.750000   \n",
       "2                           E          -82.13          260.000000   \n",
       "3                           E             NaN            1.666667   \n",
       "4                           E             NaN            0.500000   \n",
       "\n",
       "   active_months_lag3  avg_sales_lag6  avg_purchases_lag6  active_months_lag6  \\\n",
       "0                   3           -2.25           18.666667                   6   \n",
       "1                   3           -0.74            1.291667                   6   \n",
       "2                   2          -82.13          260.000000                   2   \n",
       "3                   3             NaN            4.666667                   6   \n",
       "4                   3             NaN            0.361111                   6   \n",
       "\n",
       "   avg_sales_lag12  avg_purchases_lag12  active_months_lag12  category_4  \\\n",
       "0            -2.32            13.916667                   12           1   \n",
       "1            -0.57             1.687500                   12           1   \n",
       "2           -82.13           260.000000                    2           1   \n",
       "3              NaN             3.833333                   12           0   \n",
       "4              NaN             0.347222                   12           0   \n",
       "\n",
       "   city_id  state_id  category_2  \n",
       "0      242         9         1.0  \n",
       "1       22        16         1.0  \n",
       "2       -1         5         5.0  \n",
       "3       -1        -1         0.0  \n",
       "4       -1        -1         0.0  "
      ]
     },
     "execution_count": 220,
     "metadata": {},
     "output_type": "execute_result"
    }
   ],
   "source": [
    "merchants.head()"
   ]
  },
  {
   "cell_type": "markdown",
   "metadata": {
    "_uuid": "0adf8adba0d9909d2597010399c94804cd515eab"
   },
   "source": [
    "## For now I won't use merchants data in models."
   ]
  },
  {
   "cell_type": "markdown",
   "metadata": {
    "_uuid": "d9f162fe0613a29b2325947b8ea0618f3aa040c5"
   },
   "source": [
    "### Processing data for modelling"
   ]
  },
  {
   "cell_type": "code",
   "execution_count": 221,
   "metadata": {
    "_uuid": "883f969ce917e1190bddd2b04c6c70613825a6f7",
    "scrolled": true
   },
   "outputs": [
    {
     "data": {
      "text/html": [
       "<div>\n",
       "<style scoped>\n",
       "    .dataframe tbody tr th:only-of-type {\n",
       "        vertical-align: middle;\n",
       "    }\n",
       "\n",
       "    .dataframe tbody tr th {\n",
       "        vertical-align: top;\n",
       "    }\n",
       "\n",
       "    .dataframe thead th {\n",
       "        text-align: right;\n",
       "    }\n",
       "</style>\n",
       "<table border=\"1\" class=\"dataframe\">\n",
       "  <thead>\n",
       "    <tr style=\"text-align: right;\">\n",
       "      <th></th>\n",
       "      <th>first_active_month</th>\n",
       "      <th>card_id</th>\n",
       "      <th>feature_1</th>\n",
       "      <th>feature_2</th>\n",
       "      <th>feature_3</th>\n",
       "      <th>target</th>\n",
       "      <th>first_active_month_year</th>\n",
       "      <th>first_active_month_weekday</th>\n",
       "      <th>first_active_month_month</th>\n",
       "      <th>elapsed_time</th>\n",
       "      <th>hist_transactions_count</th>\n",
       "      <th>hist_authorized_flag_sum</th>\n",
       "      <th>hist_authorized_flag_mean</th>\n",
       "      <th>hist_category_1_sum</th>\n",
       "      <th>hist_category_1_mean</th>\n",
       "      <th>hist_category_2_1.0_mean</th>\n",
       "      <th>hist_category_2_1.0_sum</th>\n",
       "      <th>hist_category_2_2.0_mean</th>\n",
       "      <th>hist_category_2_2.0_sum</th>\n",
       "      <th>hist_category_2_3.0_mean</th>\n",
       "      <th>hist_category_2_3.0_sum</th>\n",
       "      <th>hist_category_2_4.0_mean</th>\n",
       "      <th>hist_category_2_4.0_sum</th>\n",
       "      <th>hist_category_2_5.0_mean</th>\n",
       "      <th>hist_category_2_5.0_sum</th>\n",
       "      <th>hist_category_3_1_sum</th>\n",
       "      <th>hist_category_3_1_mean</th>\n",
       "      <th>hist_category_3_2_sum</th>\n",
       "      <th>hist_category_3_2_mean</th>\n",
       "      <th>hist_category_3_3_sum</th>\n",
       "      <th>hist_category_3_3_mean</th>\n",
       "      <th>hist_merchant_id_nunique</th>\n",
       "      <th>hist_purchase_amount_sum</th>\n",
       "      <th>hist_purchase_amount_mean</th>\n",
       "      <th>hist_purchase_amount_max</th>\n",
       "      <th>hist_purchase_amount_min</th>\n",
       "      <th>hist_purchase_amount_std</th>\n",
       "      <th>hist_installments_sum</th>\n",
       "      <th>hist_installments_mean</th>\n",
       "      <th>hist_installments_max</th>\n",
       "      <th>hist_installments_min</th>\n",
       "      <th>hist_installments_std</th>\n",
       "      <th>hist_purchase_month_mean</th>\n",
       "      <th>hist_purchase_month_max</th>\n",
       "      <th>hist_purchase_month_min</th>\n",
       "      <th>hist_purchase_month_std</th>\n",
       "      <th>hist_purchase_date_ptp</th>\n",
       "      <th>hist_purchase_date_max</th>\n",
       "      <th>hist_purchase_date_min</th>\n",
       "      <th>hist_month_lag_min</th>\n",
       "      <th>hist_month_lag_max</th>\n",
       "      <th>hist_merchant_category_id_nunique</th>\n",
       "      <th>hist_state_id_nunique</th>\n",
       "      <th>hist_subsector_id_nunique</th>\n",
       "      <th>hist_city_id_nunique</th>\n",
       "      <th>newtransactions_count</th>\n",
       "      <th>newcategory_1_sum</th>\n",
       "      <th>newcategory_1_mean</th>\n",
       "      <th>newcategory_2_1.0_mean</th>\n",
       "      <th>newcategory_2_1.0_sum</th>\n",
       "      <th>newcategory_2_2.0_mean</th>\n",
       "      <th>newcategory_2_2.0_sum</th>\n",
       "      <th>newcategory_2_3.0_mean</th>\n",
       "      <th>newcategory_2_3.0_sum</th>\n",
       "      <th>newcategory_2_4.0_mean</th>\n",
       "      <th>newcategory_2_4.0_sum</th>\n",
       "      <th>newcategory_2_5.0_mean</th>\n",
       "      <th>newcategory_2_5.0_sum</th>\n",
       "      <th>newcategory_3_1_sum</th>\n",
       "      <th>newcategory_3_1_mean</th>\n",
       "      <th>newcategory_3_2_sum</th>\n",
       "      <th>newcategory_3_2_mean</th>\n",
       "      <th>newcategory_3_3_sum</th>\n",
       "      <th>newcategory_3_3_mean</th>\n",
       "      <th>newmerchant_id_nunique</th>\n",
       "      <th>newpurchase_amount_sum</th>\n",
       "      <th>newpurchase_amount_mean</th>\n",
       "      <th>newpurchase_amount_max</th>\n",
       "      <th>newpurchase_amount_min</th>\n",
       "      <th>newpurchase_amount_std</th>\n",
       "      <th>newinstallments_sum</th>\n",
       "      <th>newinstallments_mean</th>\n",
       "      <th>newinstallments_max</th>\n",
       "      <th>newinstallments_min</th>\n",
       "      <th>newinstallments_std</th>\n",
       "      <th>newpurchase_month_mean</th>\n",
       "      <th>newpurchase_month_max</th>\n",
       "      <th>newpurchase_month_min</th>\n",
       "      <th>newpurchase_month_std</th>\n",
       "      <th>newpurchase_date_ptp</th>\n",
       "      <th>newpurchase_date_max</th>\n",
       "      <th>newpurchase_date_min</th>\n",
       "      <th>newmonth_lag_min</th>\n",
       "      <th>newmonth_lag_max</th>\n",
       "      <th>newmerchant_category_id_nunique</th>\n",
       "      <th>newstate_id_nunique</th>\n",
       "      <th>newsubsector_id_nunique</th>\n",
       "      <th>newcity_id_nunique</th>\n",
       "      <th>month_lag_mean</th>\n",
       "      <th>month_lag_std</th>\n",
       "      <th>purchase_amount_count_mean</th>\n",
       "      <th>purchase_amount_count_std</th>\n",
       "      <th>purchase_amount_sum_mean</th>\n",
       "      <th>purchase_amount_sum_std</th>\n",
       "      <th>purchase_amount_mean_mean</th>\n",
       "      <th>purchase_amount_mean_std</th>\n",
       "      <th>purchase_amount_min_mean</th>\n",
       "      <th>purchase_amount_min_std</th>\n",
       "      <th>purchase_amount_max_mean</th>\n",
       "      <th>purchase_amount_max_std</th>\n",
       "      <th>purchase_amount_std_mean</th>\n",
       "      <th>purchase_amount_std_std</th>\n",
       "      <th>installments_count_mean</th>\n",
       "      <th>installments_count_std</th>\n",
       "      <th>installments_sum_mean</th>\n",
       "      <th>installments_sum_std</th>\n",
       "      <th>installments_mean_mean</th>\n",
       "      <th>installments_mean_std</th>\n",
       "      <th>installments_min_mean</th>\n",
       "      <th>installments_min_std</th>\n",
       "      <th>installments_max_mean</th>\n",
       "      <th>installments_max_std</th>\n",
       "      <th>installments_std_mean</th>\n",
       "      <th>installments_std_std</th>\n",
       "    </tr>\n",
       "  </thead>\n",
       "  <tbody>\n",
       "    <tr>\n",
       "      <th>0</th>\n",
       "      <td>2017-06-01</td>\n",
       "      <td>C_ID_92a2005557</td>\n",
       "      <td>5</td>\n",
       "      <td>2</td>\n",
       "      <td>1</td>\n",
       "      <td>-0.820283</td>\n",
       "      <td>2017</td>\n",
       "      <td>3</td>\n",
       "      <td>6</td>\n",
       "      <td>245</td>\n",
       "      <td>260.0</td>\n",
       "      <td>247.0</td>\n",
       "      <td>0.950000</td>\n",
       "      <td>260.0</td>\n",
       "      <td>1.000000</td>\n",
       "      <td>0.988462</td>\n",
       "      <td>257.0</td>\n",
       "      <td>0.0</td>\n",
       "      <td>0.0</td>\n",
       "      <td>0.0</td>\n",
       "      <td>0.0</td>\n",
       "      <td>0.000000</td>\n",
       "      <td>0.0</td>\n",
       "      <td>0.011538</td>\n",
       "      <td>3.0</td>\n",
       "      <td>4.0</td>\n",
       "      <td>0.015385</td>\n",
       "      <td>0.0</td>\n",
       "      <td>0.000000</td>\n",
       "      <td>0.0</td>\n",
       "      <td>0.000000</td>\n",
       "      <td>94.0</td>\n",
       "      <td>-166.000000</td>\n",
       "      <td>-0.638184</td>\n",
       "      <td>2.257812</td>\n",
       "      <td>-0.739258</td>\n",
       "      <td>0.212036</td>\n",
       "      <td>4.0</td>\n",
       "      <td>0.015385</td>\n",
       "      <td>1.0</td>\n",
       "      <td>0.0</td>\n",
       "      <td>0.123314</td>\n",
       "      <td>8.057692</td>\n",
       "      <td>12.0</td>\n",
       "      <td>1.0</td>\n",
       "      <td>3.474193</td>\n",
       "      <td>242 days 19:13:07</td>\n",
       "      <td>2018-02-25 09:31:15</td>\n",
       "      <td>2017-06-27 14:18:08</td>\n",
       "      <td>-8.0</td>\n",
       "      <td>0.0</td>\n",
       "      <td>41.0</td>\n",
       "      <td>3.0</td>\n",
       "      <td>21.0</td>\n",
       "      <td>7.0</td>\n",
       "      <td>23.0</td>\n",
       "      <td>23.0</td>\n",
       "      <td>1.000000</td>\n",
       "      <td>1.000000</td>\n",
       "      <td>23.0</td>\n",
       "      <td>0.0</td>\n",
       "      <td>0.0</td>\n",
       "      <td>0.000000</td>\n",
       "      <td>0.0</td>\n",
       "      <td>0.000000</td>\n",
       "      <td>0.0</td>\n",
       "      <td>0.0</td>\n",
       "      <td>0.0</td>\n",
       "      <td>0.0</td>\n",
       "      <td>0.000000</td>\n",
       "      <td>0.0</td>\n",
       "      <td>0.000000</td>\n",
       "      <td>0.0</td>\n",
       "      <td>0.000000</td>\n",
       "      <td>23.0</td>\n",
       "      <td>-13.242188</td>\n",
       "      <td>-0.575684</td>\n",
       "      <td>-0.296143</td>\n",
       "      <td>-0.724609</td>\n",
       "      <td>0.135742</td>\n",
       "      <td>0.0</td>\n",
       "      <td>0.000000</td>\n",
       "      <td>0.0</td>\n",
       "      <td>0.0</td>\n",
       "      <td>0.000000</td>\n",
       "      <td>3.478261</td>\n",
       "      <td>4.0</td>\n",
       "      <td>3.0</td>\n",
       "      <td>0.510754</td>\n",
       "      <td>54 days 21:18:29</td>\n",
       "      <td>2018-04-29 11:23:05</td>\n",
       "      <td>2018-03-05 14:04:36</td>\n",
       "      <td>1.0</td>\n",
       "      <td>2.0</td>\n",
       "      <td>14.0</td>\n",
       "      <td>1.0</td>\n",
       "      <td>10.0</td>\n",
       "      <td>3.0</td>\n",
       "      <td>-4.000000</td>\n",
       "      <td>2.738613</td>\n",
       "      <td>28.888889</td>\n",
       "      <td>17.244162</td>\n",
       "      <td>-18.440971</td>\n",
       "      <td>10.472169</td>\n",
       "      <td>-0.650518</td>\n",
       "      <td>0.049922</td>\n",
       "      <td>-0.732686</td>\n",
       "      <td>0.008797</td>\n",
       "      <td>-0.158815</td>\n",
       "      <td>0.916015</td>\n",
       "      <td>0.109641</td>\n",
       "      <td>0.117152</td>\n",
       "      <td>28.888889</td>\n",
       "      <td>17.244162</td>\n",
       "      <td>0.444444</td>\n",
       "      <td>0.726483</td>\n",
       "      <td>0.018182</td>\n",
       "      <td>0.032221</td>\n",
       "      <td>0.000000</td>\n",
       "      <td>0.000000</td>\n",
       "      <td>0.333333</td>\n",
       "      <td>0.500000</td>\n",
       "      <td>0.074290</td>\n",
       "      <td>0.117067</td>\n",
       "    </tr>\n",
       "    <tr>\n",
       "      <th>1</th>\n",
       "      <td>2017-01-01</td>\n",
       "      <td>C_ID_3d0044924f</td>\n",
       "      <td>4</td>\n",
       "      <td>1</td>\n",
       "      <td>0</td>\n",
       "      <td>0.392913</td>\n",
       "      <td>2017</td>\n",
       "      <td>6</td>\n",
       "      <td>1</td>\n",
       "      <td>396</td>\n",
       "      <td>350.0</td>\n",
       "      <td>339.0</td>\n",
       "      <td>0.968571</td>\n",
       "      <td>319.0</td>\n",
       "      <td>0.911429</td>\n",
       "      <td>0.911429</td>\n",
       "      <td>319.0</td>\n",
       "      <td>0.0</td>\n",
       "      <td>0.0</td>\n",
       "      <td>0.0</td>\n",
       "      <td>0.0</td>\n",
       "      <td>0.000000</td>\n",
       "      <td>0.0</td>\n",
       "      <td>0.000000</td>\n",
       "      <td>0.0</td>\n",
       "      <td>276.0</td>\n",
       "      <td>0.788571</td>\n",
       "      <td>72.0</td>\n",
       "      <td>0.205714</td>\n",
       "      <td>2.0</td>\n",
       "      <td>0.005714</td>\n",
       "      <td>142.0</td>\n",
       "      <td>-210.000000</td>\n",
       "      <td>-0.600098</td>\n",
       "      <td>4.628906</td>\n",
       "      <td>-0.742188</td>\n",
       "      <td>0.385010</td>\n",
       "      <td>543.0</td>\n",
       "      <td>1.551429</td>\n",
       "      <td>10.0</td>\n",
       "      <td>-1.0</td>\n",
       "      <td>1.510777</td>\n",
       "      <td>6.220000</td>\n",
       "      <td>12.0</td>\n",
       "      <td>1.0</td>\n",
       "      <td>3.848142</td>\n",
       "      <td>390 days 06:01:27</td>\n",
       "      <td>2018-01-31 22:31:09</td>\n",
       "      <td>2017-01-06 16:29:42</td>\n",
       "      <td>-12.0</td>\n",
       "      <td>0.0</td>\n",
       "      <td>57.0</td>\n",
       "      <td>3.0</td>\n",
       "      <td>24.0</td>\n",
       "      <td>9.0</td>\n",
       "      <td>6.0</td>\n",
       "      <td>6.0</td>\n",
       "      <td>1.000000</td>\n",
       "      <td>1.000000</td>\n",
       "      <td>6.0</td>\n",
       "      <td>0.0</td>\n",
       "      <td>0.0</td>\n",
       "      <td>0.000000</td>\n",
       "      <td>0.0</td>\n",
       "      <td>0.000000</td>\n",
       "      <td>0.0</td>\n",
       "      <td>0.0</td>\n",
       "      <td>0.0</td>\n",
       "      <td>6.0</td>\n",
       "      <td>1.000000</td>\n",
       "      <td>0.0</td>\n",
       "      <td>0.000000</td>\n",
       "      <td>0.0</td>\n",
       "      <td>0.000000</td>\n",
       "      <td>6.0</td>\n",
       "      <td>-4.355469</td>\n",
       "      <td>-0.726074</td>\n",
       "      <td>-0.701660</td>\n",
       "      <td>-0.739258</td>\n",
       "      <td>0.014381</td>\n",
       "      <td>6.0</td>\n",
       "      <td>1.000000</td>\n",
       "      <td>1.0</td>\n",
       "      <td>1.0</td>\n",
       "      <td>0.000000</td>\n",
       "      <td>2.500000</td>\n",
       "      <td>3.0</td>\n",
       "      <td>2.0</td>\n",
       "      <td>0.547723</td>\n",
       "      <td>56 days 13:40:32</td>\n",
       "      <td>2018-03-30 06:48:26</td>\n",
       "      <td>2018-02-01 17:07:54</td>\n",
       "      <td>1.0</td>\n",
       "      <td>2.0</td>\n",
       "      <td>5.0</td>\n",
       "      <td>1.0</td>\n",
       "      <td>4.0</td>\n",
       "      <td>1.0</td>\n",
       "      <td>-6.000000</td>\n",
       "      <td>3.894440</td>\n",
       "      <td>26.923077</td>\n",
       "      <td>13.817028</td>\n",
       "      <td>-16.154334</td>\n",
       "      <td>10.445236</td>\n",
       "      <td>-0.572760</td>\n",
       "      <td>0.111740</td>\n",
       "      <td>-0.736968</td>\n",
       "      <td>0.005142</td>\n",
       "      <td>0.638897</td>\n",
       "      <td>1.375454</td>\n",
       "      <td>0.315212</td>\n",
       "      <td>0.295734</td>\n",
       "      <td>26.923077</td>\n",
       "      <td>13.817028</td>\n",
       "      <td>41.769231</td>\n",
       "      <td>14.341977</td>\n",
       "      <td>1.713279</td>\n",
       "      <td>0.546685</td>\n",
       "      <td>0.692308</td>\n",
       "      <td>0.751068</td>\n",
       "      <td>6.307692</td>\n",
       "      <td>2.780426</td>\n",
       "      <td>1.478938</td>\n",
       "      <td>0.895708</td>\n",
       "    </tr>\n",
       "    <tr>\n",
       "      <th>2</th>\n",
       "      <td>2016-08-01</td>\n",
       "      <td>C_ID_d639edf6cd</td>\n",
       "      <td>2</td>\n",
       "      <td>2</td>\n",
       "      <td>0</td>\n",
       "      <td>0.688056</td>\n",
       "      <td>2016</td>\n",
       "      <td>0</td>\n",
       "      <td>8</td>\n",
       "      <td>549</td>\n",
       "      <td>43.0</td>\n",
       "      <td>41.0</td>\n",
       "      <td>0.953488</td>\n",
       "      <td>43.0</td>\n",
       "      <td>1.000000</td>\n",
       "      <td>0.093023</td>\n",
       "      <td>4.0</td>\n",
       "      <td>0.0</td>\n",
       "      <td>0.0</td>\n",
       "      <td>0.0</td>\n",
       "      <td>0.0</td>\n",
       "      <td>0.000000</td>\n",
       "      <td>0.0</td>\n",
       "      <td>0.906977</td>\n",
       "      <td>39.0</td>\n",
       "      <td>0.0</td>\n",
       "      <td>0.000000</td>\n",
       "      <td>0.0</td>\n",
       "      <td>0.000000</td>\n",
       "      <td>0.0</td>\n",
       "      <td>0.000000</td>\n",
       "      <td>13.0</td>\n",
       "      <td>-29.171875</td>\n",
       "      <td>-0.678223</td>\n",
       "      <td>-0.145874</td>\n",
       "      <td>-0.729980</td>\n",
       "      <td>0.087402</td>\n",
       "      <td>0.0</td>\n",
       "      <td>0.000000</td>\n",
       "      <td>0.0</td>\n",
       "      <td>0.0</td>\n",
       "      <td>0.000000</td>\n",
       "      <td>4.558140</td>\n",
       "      <td>12.0</td>\n",
       "      <td>1.0</td>\n",
       "      <td>3.275467</td>\n",
       "      <td>412 days 10:47:03</td>\n",
       "      <td>2018-02-27 19:08:25</td>\n",
       "      <td>2017-01-11 08:21:22</td>\n",
       "      <td>-13.0</td>\n",
       "      <td>0.0</td>\n",
       "      <td>8.0</td>\n",
       "      <td>2.0</td>\n",
       "      <td>7.0</td>\n",
       "      <td>5.0</td>\n",
       "      <td>1.0</td>\n",
       "      <td>1.0</td>\n",
       "      <td>1.000000</td>\n",
       "      <td>0.000000</td>\n",
       "      <td>0.0</td>\n",
       "      <td>0.0</td>\n",
       "      <td>0.0</td>\n",
       "      <td>0.000000</td>\n",
       "      <td>0.0</td>\n",
       "      <td>0.000000</td>\n",
       "      <td>0.0</td>\n",
       "      <td>1.0</td>\n",
       "      <td>1.0</td>\n",
       "      <td>0.0</td>\n",
       "      <td>0.000000</td>\n",
       "      <td>0.0</td>\n",
       "      <td>0.000000</td>\n",
       "      <td>0.0</td>\n",
       "      <td>0.000000</td>\n",
       "      <td>1.0</td>\n",
       "      <td>-0.700195</td>\n",
       "      <td>-0.700195</td>\n",
       "      <td>-0.700195</td>\n",
       "      <td>-0.700195</td>\n",
       "      <td>NaN</td>\n",
       "      <td>0.0</td>\n",
       "      <td>0.000000</td>\n",
       "      <td>0.0</td>\n",
       "      <td>0.0</td>\n",
       "      <td>NaN</td>\n",
       "      <td>4.000000</td>\n",
       "      <td>4.0</td>\n",
       "      <td>4.0</td>\n",
       "      <td>NaN</td>\n",
       "      <td>0 days 00:00:00</td>\n",
       "      <td>2018-04-28 17:43:11</td>\n",
       "      <td>2018-04-28 17:43:11</td>\n",
       "      <td>2.0</td>\n",
       "      <td>2.0</td>\n",
       "      <td>1.0</td>\n",
       "      <td>1.0</td>\n",
       "      <td>1.0</td>\n",
       "      <td>1.0</td>\n",
       "      <td>-6.666667</td>\n",
       "      <td>4.396969</td>\n",
       "      <td>3.583333</td>\n",
       "      <td>2.314316</td>\n",
       "      <td>-2.430616</td>\n",
       "      <td>1.635625</td>\n",
       "      <td>-0.668741</td>\n",
       "      <td>0.080514</td>\n",
       "      <td>-0.706751</td>\n",
       "      <td>0.018795</td>\n",
       "      <td>-0.621090</td>\n",
       "      <td>0.151778</td>\n",
       "      <td>0.066083</td>\n",
       "      <td>0.119012</td>\n",
       "      <td>3.583333</td>\n",
       "      <td>2.314316</td>\n",
       "      <td>0.000000</td>\n",
       "      <td>0.000000</td>\n",
       "      <td>0.000000</td>\n",
       "      <td>0.000000</td>\n",
       "      <td>0.000000</td>\n",
       "      <td>0.000000</td>\n",
       "      <td>0.000000</td>\n",
       "      <td>0.000000</td>\n",
       "      <td>0.000000</td>\n",
       "      <td>0.000000</td>\n",
       "    </tr>\n",
       "    <tr>\n",
       "      <th>3</th>\n",
       "      <td>2017-09-01</td>\n",
       "      <td>C_ID_186d6a6901</td>\n",
       "      <td>4</td>\n",
       "      <td>3</td>\n",
       "      <td>0</td>\n",
       "      <td>0.142495</td>\n",
       "      <td>2017</td>\n",
       "      <td>4</td>\n",
       "      <td>9</td>\n",
       "      <td>153</td>\n",
       "      <td>77.0</td>\n",
       "      <td>77.0</td>\n",
       "      <td>1.000000</td>\n",
       "      <td>65.0</td>\n",
       "      <td>0.844156</td>\n",
       "      <td>0.155844</td>\n",
       "      <td>12.0</td>\n",
       "      <td>0.0</td>\n",
       "      <td>0.0</td>\n",
       "      <td>0.0</td>\n",
       "      <td>0.0</td>\n",
       "      <td>0.688312</td>\n",
       "      <td>53.0</td>\n",
       "      <td>0.000000</td>\n",
       "      <td>0.0</td>\n",
       "      <td>68.0</td>\n",
       "      <td>0.883117</td>\n",
       "      <td>7.0</td>\n",
       "      <td>0.090909</td>\n",
       "      <td>2.0</td>\n",
       "      <td>0.025974</td>\n",
       "      <td>50.0</td>\n",
       "      <td>-49.500000</td>\n",
       "      <td>-0.642578</td>\n",
       "      <td>1.445312</td>\n",
       "      <td>-0.740723</td>\n",
       "      <td>0.261475</td>\n",
       "      <td>84.0</td>\n",
       "      <td>1.090909</td>\n",
       "      <td>3.0</td>\n",
       "      <td>-1.0</td>\n",
       "      <td>0.588974</td>\n",
       "      <td>7.740260</td>\n",
       "      <td>12.0</td>\n",
       "      <td>1.0</td>\n",
       "      <td>3.904797</td>\n",
       "      <td>154 days 19:22:19</td>\n",
       "      <td>2018-02-28 11:44:40</td>\n",
       "      <td>2017-09-26 16:22:21</td>\n",
       "      <td>-5.0</td>\n",
       "      <td>0.0</td>\n",
       "      <td>25.0</td>\n",
       "      <td>5.0</td>\n",
       "      <td>13.0</td>\n",
       "      <td>7.0</td>\n",
       "      <td>7.0</td>\n",
       "      <td>6.0</td>\n",
       "      <td>0.857143</td>\n",
       "      <td>0.000000</td>\n",
       "      <td>0.0</td>\n",
       "      <td>0.0</td>\n",
       "      <td>0.0</td>\n",
       "      <td>0.000000</td>\n",
       "      <td>0.0</td>\n",
       "      <td>0.857143</td>\n",
       "      <td>6.0</td>\n",
       "      <td>0.0</td>\n",
       "      <td>0.0</td>\n",
       "      <td>6.0</td>\n",
       "      <td>0.857143</td>\n",
       "      <td>0.0</td>\n",
       "      <td>0.000000</td>\n",
       "      <td>1.0</td>\n",
       "      <td>0.142857</td>\n",
       "      <td>7.0</td>\n",
       "      <td>-4.656250</td>\n",
       "      <td>-0.665039</td>\n",
       "      <td>-0.566895</td>\n",
       "      <td>-0.734375</td>\n",
       "      <td>0.065918</td>\n",
       "      <td>5.0</td>\n",
       "      <td>0.714286</td>\n",
       "      <td>1.0</td>\n",
       "      <td>-1.0</td>\n",
       "      <td>0.755929</td>\n",
       "      <td>3.714286</td>\n",
       "      <td>4.0</td>\n",
       "      <td>3.0</td>\n",
       "      <td>0.487950</td>\n",
       "      <td>41 days 23:05:05</td>\n",
       "      <td>2018-04-18 11:00:11</td>\n",
       "      <td>2018-03-07 11:55:06</td>\n",
       "      <td>1.0</td>\n",
       "      <td>2.0</td>\n",
       "      <td>6.0</td>\n",
       "      <td>2.0</td>\n",
       "      <td>5.0</td>\n",
       "      <td>2.0</td>\n",
       "      <td>-2.500000</td>\n",
       "      <td>1.870829</td>\n",
       "      <td>12.833333</td>\n",
       "      <td>9.703951</td>\n",
       "      <td>-8.248561</td>\n",
       "      <td>7.140595</td>\n",
       "      <td>-0.604987</td>\n",
       "      <td>0.167044</td>\n",
       "      <td>-0.734265</td>\n",
       "      <td>0.009074</td>\n",
       "      <td>-0.097344</td>\n",
       "      <td>0.766088</td>\n",
       "      <td>0.205505</td>\n",
       "      <td>0.277437</td>\n",
       "      <td>12.833333</td>\n",
       "      <td>9.703951</td>\n",
       "      <td>14.000000</td>\n",
       "      <td>11.523888</td>\n",
       "      <td>1.044819</td>\n",
       "      <td>0.215637</td>\n",
       "      <td>0.333333</td>\n",
       "      <td>1.032796</td>\n",
       "      <td>2.000000</td>\n",
       "      <td>1.095445</td>\n",
       "      <td>0.518905</td>\n",
       "      <td>0.483284</td>\n",
       "    </tr>\n",
       "    <tr>\n",
       "      <th>4</th>\n",
       "      <td>2017-11-01</td>\n",
       "      <td>C_ID_cdbd2c0db2</td>\n",
       "      <td>1</td>\n",
       "      <td>3</td>\n",
       "      <td>0</td>\n",
       "      <td>-0.159749</td>\n",
       "      <td>2017</td>\n",
       "      <td>2</td>\n",
       "      <td>11</td>\n",
       "      <td>92</td>\n",
       "      <td>133.0</td>\n",
       "      <td>128.0</td>\n",
       "      <td>0.962406</td>\n",
       "      <td>118.0</td>\n",
       "      <td>0.887218</td>\n",
       "      <td>0.075188</td>\n",
       "      <td>10.0</td>\n",
       "      <td>0.0</td>\n",
       "      <td>0.0</td>\n",
       "      <td>0.0</td>\n",
       "      <td>0.0</td>\n",
       "      <td>0.804511</td>\n",
       "      <td>107.0</td>\n",
       "      <td>0.007519</td>\n",
       "      <td>1.0</td>\n",
       "      <td>126.0</td>\n",
       "      <td>0.947368</td>\n",
       "      <td>7.0</td>\n",
       "      <td>0.052632</td>\n",
       "      <td>0.0</td>\n",
       "      <td>0.000000</td>\n",
       "      <td>66.0</td>\n",
       "      <td>-48.687500</td>\n",
       "      <td>-0.366211</td>\n",
       "      <td>7.191406</td>\n",
       "      <td>-0.746094</td>\n",
       "      <td>1.352539</td>\n",
       "      <td>182.0</td>\n",
       "      <td>1.368421</td>\n",
       "      <td>12.0</td>\n",
       "      <td>1.0</td>\n",
       "      <td>1.896862</td>\n",
       "      <td>5.406015</td>\n",
       "      <td>12.0</td>\n",
       "      <td>1.0</td>\n",
       "      <td>5.003086</td>\n",
       "      <td>108 days 20:40:41</td>\n",
       "      <td>2018-02-28 20:40:41</td>\n",
       "      <td>2017-11-12 00:00:00</td>\n",
       "      <td>-3.0</td>\n",
       "      <td>0.0</td>\n",
       "      <td>26.0</td>\n",
       "      <td>6.0</td>\n",
       "      <td>17.0</td>\n",
       "      <td>6.0</td>\n",
       "      <td>36.0</td>\n",
       "      <td>34.0</td>\n",
       "      <td>0.944444</td>\n",
       "      <td>0.055556</td>\n",
       "      <td>2.0</td>\n",
       "      <td>0.0</td>\n",
       "      <td>0.0</td>\n",
       "      <td>0.194444</td>\n",
       "      <td>7.0</td>\n",
       "      <td>0.694444</td>\n",
       "      <td>25.0</td>\n",
       "      <td>0.0</td>\n",
       "      <td>0.0</td>\n",
       "      <td>34.0</td>\n",
       "      <td>0.944444</td>\n",
       "      <td>1.0</td>\n",
       "      <td>0.027778</td>\n",
       "      <td>1.0</td>\n",
       "      <td>0.027778</td>\n",
       "      <td>36.0</td>\n",
       "      <td>-19.921875</td>\n",
       "      <td>-0.553711</td>\n",
       "      <td>0.450928</td>\n",
       "      <td>-0.739258</td>\n",
       "      <td>0.223877</td>\n",
       "      <td>35.0</td>\n",
       "      <td>0.972222</td>\n",
       "      <td>2.0</td>\n",
       "      <td>-1.0</td>\n",
       "      <td>0.376913</td>\n",
       "      <td>3.555556</td>\n",
       "      <td>4.0</td>\n",
       "      <td>3.0</td>\n",
       "      <td>0.503953</td>\n",
       "      <td>57 days 06:54:42</td>\n",
       "      <td>2018-04-28 18:50:25</td>\n",
       "      <td>2018-03-02 11:55:43</td>\n",
       "      <td>1.0</td>\n",
       "      <td>2.0</td>\n",
       "      <td>17.0</td>\n",
       "      <td>5.0</td>\n",
       "      <td>10.0</td>\n",
       "      <td>5.0</td>\n",
       "      <td>-1.500000</td>\n",
       "      <td>1.290994</td>\n",
       "      <td>33.250000</td>\n",
       "      <td>10.340052</td>\n",
       "      <td>-12.171914</td>\n",
       "      <td>16.666279</td>\n",
       "      <td>-0.363836</td>\n",
       "      <td>0.439133</td>\n",
       "      <td>-0.732039</td>\n",
       "      <td>0.016267</td>\n",
       "      <td>2.309455</td>\n",
       "      <td>3.438997</td>\n",
       "      <td>0.850642</td>\n",
       "      <td>1.118856</td>\n",
       "      <td>33.250000</td>\n",
       "      <td>10.340052</td>\n",
       "      <td>45.500000</td>\n",
       "      <td>23.979158</td>\n",
       "      <td>1.369969</td>\n",
       "      <td>0.597277</td>\n",
       "      <td>1.000000</td>\n",
       "      <td>0.000000</td>\n",
       "      <td>4.500000</td>\n",
       "      <td>5.066228</td>\n",
       "      <td>1.083005</td>\n",
       "      <td>1.664428</td>\n",
       "    </tr>\n",
       "  </tbody>\n",
       "</table>\n",
       "</div>"
      ],
      "text/plain": [
       "  first_active_month          card_id feature_1 feature_2 feature_3    target  \\\n",
       "0         2017-06-01  C_ID_92a2005557         5         2         1 -0.820283   \n",
       "1         2017-01-01  C_ID_3d0044924f         4         1         0  0.392913   \n",
       "2         2016-08-01  C_ID_d639edf6cd         2         2         0  0.688056   \n",
       "3         2017-09-01  C_ID_186d6a6901         4         3         0  0.142495   \n",
       "4         2017-11-01  C_ID_cdbd2c0db2         1         3         0 -0.159749   \n",
       "\n",
       "   first_active_month_year  first_active_month_weekday  \\\n",
       "0                     2017                           3   \n",
       "1                     2017                           6   \n",
       "2                     2016                           0   \n",
       "3                     2017                           4   \n",
       "4                     2017                           2   \n",
       "\n",
       "   first_active_month_month  elapsed_time  hist_transactions_count  \\\n",
       "0                         6           245                    260.0   \n",
       "1                         1           396                    350.0   \n",
       "2                         8           549                     43.0   \n",
       "3                         9           153                     77.0   \n",
       "4                        11            92                    133.0   \n",
       "\n",
       "   hist_authorized_flag_sum  hist_authorized_flag_mean  hist_category_1_sum  \\\n",
       "0                     247.0                   0.950000                260.0   \n",
       "1                     339.0                   0.968571                319.0   \n",
       "2                      41.0                   0.953488                 43.0   \n",
       "3                      77.0                   1.000000                 65.0   \n",
       "4                     128.0                   0.962406                118.0   \n",
       "\n",
       "   hist_category_1_mean  hist_category_2_1.0_mean  hist_category_2_1.0_sum  \\\n",
       "0              1.000000                  0.988462                    257.0   \n",
       "1              0.911429                  0.911429                    319.0   \n",
       "2              1.000000                  0.093023                      4.0   \n",
       "3              0.844156                  0.155844                     12.0   \n",
       "4              0.887218                  0.075188                     10.0   \n",
       "\n",
       "   hist_category_2_2.0_mean  hist_category_2_2.0_sum  \\\n",
       "0                       0.0                      0.0   \n",
       "1                       0.0                      0.0   \n",
       "2                       0.0                      0.0   \n",
       "3                       0.0                      0.0   \n",
       "4                       0.0                      0.0   \n",
       "\n",
       "   hist_category_2_3.0_mean  hist_category_2_3.0_sum  \\\n",
       "0                       0.0                      0.0   \n",
       "1                       0.0                      0.0   \n",
       "2                       0.0                      0.0   \n",
       "3                       0.0                      0.0   \n",
       "4                       0.0                      0.0   \n",
       "\n",
       "   hist_category_2_4.0_mean  hist_category_2_4.0_sum  \\\n",
       "0                  0.000000                      0.0   \n",
       "1                  0.000000                      0.0   \n",
       "2                  0.000000                      0.0   \n",
       "3                  0.688312                     53.0   \n",
       "4                  0.804511                    107.0   \n",
       "\n",
       "   hist_category_2_5.0_mean  hist_category_2_5.0_sum  hist_category_3_1_sum  \\\n",
       "0                  0.011538                      3.0                    4.0   \n",
       "1                  0.000000                      0.0                  276.0   \n",
       "2                  0.906977                     39.0                    0.0   \n",
       "3                  0.000000                      0.0                   68.0   \n",
       "4                  0.007519                      1.0                  126.0   \n",
       "\n",
       "   hist_category_3_1_mean  hist_category_3_2_sum  hist_category_3_2_mean  \\\n",
       "0                0.015385                    0.0                0.000000   \n",
       "1                0.788571                   72.0                0.205714   \n",
       "2                0.000000                    0.0                0.000000   \n",
       "3                0.883117                    7.0                0.090909   \n",
       "4                0.947368                    7.0                0.052632   \n",
       "\n",
       "   hist_category_3_3_sum  hist_category_3_3_mean  hist_merchant_id_nunique  \\\n",
       "0                    0.0                0.000000                      94.0   \n",
       "1                    2.0                0.005714                     142.0   \n",
       "2                    0.0                0.000000                      13.0   \n",
       "3                    2.0                0.025974                      50.0   \n",
       "4                    0.0                0.000000                      66.0   \n",
       "\n",
       "   hist_purchase_amount_sum  hist_purchase_amount_mean  \\\n",
       "0               -166.000000                  -0.638184   \n",
       "1               -210.000000                  -0.600098   \n",
       "2                -29.171875                  -0.678223   \n",
       "3                -49.500000                  -0.642578   \n",
       "4                -48.687500                  -0.366211   \n",
       "\n",
       "   hist_purchase_amount_max  hist_purchase_amount_min  \\\n",
       "0                  2.257812                 -0.739258   \n",
       "1                  4.628906                 -0.742188   \n",
       "2                 -0.145874                 -0.729980   \n",
       "3                  1.445312                 -0.740723   \n",
       "4                  7.191406                 -0.746094   \n",
       "\n",
       "   hist_purchase_amount_std  hist_installments_sum  hist_installments_mean  \\\n",
       "0                  0.212036                    4.0                0.015385   \n",
       "1                  0.385010                  543.0                1.551429   \n",
       "2                  0.087402                    0.0                0.000000   \n",
       "3                  0.261475                   84.0                1.090909   \n",
       "4                  1.352539                  182.0                1.368421   \n",
       "\n",
       "   hist_installments_max  hist_installments_min  hist_installments_std  \\\n",
       "0                    1.0                    0.0               0.123314   \n",
       "1                   10.0                   -1.0               1.510777   \n",
       "2                    0.0                    0.0               0.000000   \n",
       "3                    3.0                   -1.0               0.588974   \n",
       "4                   12.0                    1.0               1.896862   \n",
       "\n",
       "   hist_purchase_month_mean  hist_purchase_month_max  hist_purchase_month_min  \\\n",
       "0                  8.057692                     12.0                      1.0   \n",
       "1                  6.220000                     12.0                      1.0   \n",
       "2                  4.558140                     12.0                      1.0   \n",
       "3                  7.740260                     12.0                      1.0   \n",
       "4                  5.406015                     12.0                      1.0   \n",
       "\n",
       "   hist_purchase_month_std hist_purchase_date_ptp hist_purchase_date_max  \\\n",
       "0                 3.474193      242 days 19:13:07    2018-02-25 09:31:15   \n",
       "1                 3.848142      390 days 06:01:27    2018-01-31 22:31:09   \n",
       "2                 3.275467      412 days 10:47:03    2018-02-27 19:08:25   \n",
       "3                 3.904797      154 days 19:22:19    2018-02-28 11:44:40   \n",
       "4                 5.003086      108 days 20:40:41    2018-02-28 20:40:41   \n",
       "\n",
       "  hist_purchase_date_min  hist_month_lag_min  hist_month_lag_max  \\\n",
       "0    2017-06-27 14:18:08                -8.0                 0.0   \n",
       "1    2017-01-06 16:29:42               -12.0                 0.0   \n",
       "2    2017-01-11 08:21:22               -13.0                 0.0   \n",
       "3    2017-09-26 16:22:21                -5.0                 0.0   \n",
       "4    2017-11-12 00:00:00                -3.0                 0.0   \n",
       "\n",
       "   hist_merchant_category_id_nunique  hist_state_id_nunique  \\\n",
       "0                               41.0                    3.0   \n",
       "1                               57.0                    3.0   \n",
       "2                                8.0                    2.0   \n",
       "3                               25.0                    5.0   \n",
       "4                               26.0                    6.0   \n",
       "\n",
       "   hist_subsector_id_nunique  hist_city_id_nunique  newtransactions_count  \\\n",
       "0                       21.0                   7.0                   23.0   \n",
       "1                       24.0                   9.0                    6.0   \n",
       "2                        7.0                   5.0                    1.0   \n",
       "3                       13.0                   7.0                    7.0   \n",
       "4                       17.0                   6.0                   36.0   \n",
       "\n",
       "   newcategory_1_sum  newcategory_1_mean  newcategory_2_1.0_mean  \\\n",
       "0               23.0            1.000000                1.000000   \n",
       "1                6.0            1.000000                1.000000   \n",
       "2                1.0            1.000000                0.000000   \n",
       "3                6.0            0.857143                0.000000   \n",
       "4               34.0            0.944444                0.055556   \n",
       "\n",
       "   newcategory_2_1.0_sum  newcategory_2_2.0_mean  newcategory_2_2.0_sum  \\\n",
       "0                   23.0                     0.0                    0.0   \n",
       "1                    6.0                     0.0                    0.0   \n",
       "2                    0.0                     0.0                    0.0   \n",
       "3                    0.0                     0.0                    0.0   \n",
       "4                    2.0                     0.0                    0.0   \n",
       "\n",
       "   newcategory_2_3.0_mean  newcategory_2_3.0_sum  newcategory_2_4.0_mean  \\\n",
       "0                0.000000                    0.0                0.000000   \n",
       "1                0.000000                    0.0                0.000000   \n",
       "2                0.000000                    0.0                0.000000   \n",
       "3                0.000000                    0.0                0.857143   \n",
       "4                0.194444                    7.0                0.694444   \n",
       "\n",
       "   newcategory_2_4.0_sum  newcategory_2_5.0_mean  newcategory_2_5.0_sum  \\\n",
       "0                    0.0                     0.0                    0.0   \n",
       "1                    0.0                     0.0                    0.0   \n",
       "2                    0.0                     1.0                    1.0   \n",
       "3                    6.0                     0.0                    0.0   \n",
       "4                   25.0                     0.0                    0.0   \n",
       "\n",
       "   newcategory_3_1_sum  newcategory_3_1_mean  newcategory_3_2_sum  \\\n",
       "0                  0.0              0.000000                  0.0   \n",
       "1                  6.0              1.000000                  0.0   \n",
       "2                  0.0              0.000000                  0.0   \n",
       "3                  6.0              0.857143                  0.0   \n",
       "4                 34.0              0.944444                  1.0   \n",
       "\n",
       "   newcategory_3_2_mean  newcategory_3_3_sum  newcategory_3_3_mean  \\\n",
       "0              0.000000                  0.0              0.000000   \n",
       "1              0.000000                  0.0              0.000000   \n",
       "2              0.000000                  0.0              0.000000   \n",
       "3              0.000000                  1.0              0.142857   \n",
       "4              0.027778                  1.0              0.027778   \n",
       "\n",
       "   newmerchant_id_nunique  newpurchase_amount_sum  newpurchase_amount_mean  \\\n",
       "0                    23.0              -13.242188                -0.575684   \n",
       "1                     6.0               -4.355469                -0.726074   \n",
       "2                     1.0               -0.700195                -0.700195   \n",
       "3                     7.0               -4.656250                -0.665039   \n",
       "4                    36.0              -19.921875                -0.553711   \n",
       "\n",
       "   newpurchase_amount_max  newpurchase_amount_min  newpurchase_amount_std  \\\n",
       "0               -0.296143               -0.724609                0.135742   \n",
       "1               -0.701660               -0.739258                0.014381   \n",
       "2               -0.700195               -0.700195                     NaN   \n",
       "3               -0.566895               -0.734375                0.065918   \n",
       "4                0.450928               -0.739258                0.223877   \n",
       "\n",
       "   newinstallments_sum  newinstallments_mean  newinstallments_max  \\\n",
       "0                  0.0              0.000000                  0.0   \n",
       "1                  6.0              1.000000                  1.0   \n",
       "2                  0.0              0.000000                  0.0   \n",
       "3                  5.0              0.714286                  1.0   \n",
       "4                 35.0              0.972222                  2.0   \n",
       "\n",
       "   newinstallments_min  newinstallments_std  newpurchase_month_mean  \\\n",
       "0                  0.0             0.000000                3.478261   \n",
       "1                  1.0             0.000000                2.500000   \n",
       "2                  0.0                  NaN                4.000000   \n",
       "3                 -1.0             0.755929                3.714286   \n",
       "4                 -1.0             0.376913                3.555556   \n",
       "\n",
       "   newpurchase_month_max  newpurchase_month_min  newpurchase_month_std  \\\n",
       "0                    4.0                    3.0               0.510754   \n",
       "1                    3.0                    2.0               0.547723   \n",
       "2                    4.0                    4.0                    NaN   \n",
       "3                    4.0                    3.0               0.487950   \n",
       "4                    4.0                    3.0               0.503953   \n",
       "\n",
       "  newpurchase_date_ptp newpurchase_date_max newpurchase_date_min  \\\n",
       "0     54 days 21:18:29  2018-04-29 11:23:05  2018-03-05 14:04:36   \n",
       "1     56 days 13:40:32  2018-03-30 06:48:26  2018-02-01 17:07:54   \n",
       "2      0 days 00:00:00  2018-04-28 17:43:11  2018-04-28 17:43:11   \n",
       "3     41 days 23:05:05  2018-04-18 11:00:11  2018-03-07 11:55:06   \n",
       "4     57 days 06:54:42  2018-04-28 18:50:25  2018-03-02 11:55:43   \n",
       "\n",
       "   newmonth_lag_min  newmonth_lag_max  newmerchant_category_id_nunique  \\\n",
       "0               1.0               2.0                             14.0   \n",
       "1               1.0               2.0                              5.0   \n",
       "2               2.0               2.0                              1.0   \n",
       "3               1.0               2.0                              6.0   \n",
       "4               1.0               2.0                             17.0   \n",
       "\n",
       "   newstate_id_nunique  newsubsector_id_nunique  newcity_id_nunique  \\\n",
       "0                  1.0                     10.0                 3.0   \n",
       "1                  1.0                      4.0                 1.0   \n",
       "2                  1.0                      1.0                 1.0   \n",
       "3                  2.0                      5.0                 2.0   \n",
       "4                  5.0                     10.0                 5.0   \n",
       "\n",
       "   month_lag_mean  month_lag_std  purchase_amount_count_mean  \\\n",
       "0       -4.000000       2.738613                   28.888889   \n",
       "1       -6.000000       3.894440                   26.923077   \n",
       "2       -6.666667       4.396969                    3.583333   \n",
       "3       -2.500000       1.870829                   12.833333   \n",
       "4       -1.500000       1.290994                   33.250000   \n",
       "\n",
       "   purchase_amount_count_std  purchase_amount_sum_mean  \\\n",
       "0                  17.244162                -18.440971   \n",
       "1                  13.817028                -16.154334   \n",
       "2                   2.314316                 -2.430616   \n",
       "3                   9.703951                 -8.248561   \n",
       "4                  10.340052                -12.171914   \n",
       "\n",
       "   purchase_amount_sum_std  purchase_amount_mean_mean  \\\n",
       "0                10.472169                  -0.650518   \n",
       "1                10.445236                  -0.572760   \n",
       "2                 1.635625                  -0.668741   \n",
       "3                 7.140595                  -0.604987   \n",
       "4                16.666279                  -0.363836   \n",
       "\n",
       "   purchase_amount_mean_std  purchase_amount_min_mean  \\\n",
       "0                  0.049922                 -0.732686   \n",
       "1                  0.111740                 -0.736968   \n",
       "2                  0.080514                 -0.706751   \n",
       "3                  0.167044                 -0.734265   \n",
       "4                  0.439133                 -0.732039   \n",
       "\n",
       "   purchase_amount_min_std  purchase_amount_max_mean  purchase_amount_max_std  \\\n",
       "0                 0.008797                 -0.158815                 0.916015   \n",
       "1                 0.005142                  0.638897                 1.375454   \n",
       "2                 0.018795                 -0.621090                 0.151778   \n",
       "3                 0.009074                 -0.097344                 0.766088   \n",
       "4                 0.016267                  2.309455                 3.438997   \n",
       "\n",
       "   purchase_amount_std_mean  purchase_amount_std_std  installments_count_mean  \\\n",
       "0                  0.109641                 0.117152                28.888889   \n",
       "1                  0.315212                 0.295734                26.923077   \n",
       "2                  0.066083                 0.119012                 3.583333   \n",
       "3                  0.205505                 0.277437                12.833333   \n",
       "4                  0.850642                 1.118856                33.250000   \n",
       "\n",
       "   installments_count_std  installments_sum_mean  installments_sum_std  \\\n",
       "0               17.244162               0.444444              0.726483   \n",
       "1               13.817028              41.769231             14.341977   \n",
       "2                2.314316               0.000000              0.000000   \n",
       "3                9.703951              14.000000             11.523888   \n",
       "4               10.340052              45.500000             23.979158   \n",
       "\n",
       "   installments_mean_mean  installments_mean_std  installments_min_mean  \\\n",
       "0                0.018182               0.032221               0.000000   \n",
       "1                1.713279               0.546685               0.692308   \n",
       "2                0.000000               0.000000               0.000000   \n",
       "3                1.044819               0.215637               0.333333   \n",
       "4                1.369969               0.597277               1.000000   \n",
       "\n",
       "   installments_min_std  installments_max_mean  installments_max_std  \\\n",
       "0              0.000000               0.333333              0.500000   \n",
       "1              0.751068               6.307692              2.780426   \n",
       "2              0.000000               0.000000              0.000000   \n",
       "3              1.032796               2.000000              1.095445   \n",
       "4              0.000000               4.500000              5.066228   \n",
       "\n",
       "   installments_std_mean  installments_std_std  \n",
       "0               0.074290              0.117067  \n",
       "1               1.478938              0.895708  \n",
       "2               0.000000              0.000000  \n",
       "3               0.518905              0.483284  \n",
       "4               1.083005              1.664428  "
      ]
     },
     "execution_count": 221,
     "metadata": {},
     "output_type": "execute_result"
    }
   ],
   "source": [
    "train.head()"
   ]
  },
  {
   "cell_type": "markdown",
   "metadata": {},
   "source": [
    "### missing imputation. \n",
    "    Can we do something better?"
   ]
  },
  {
   "cell_type": "code",
   "execution_count": 222,
   "metadata": {},
   "outputs": [],
   "source": [
    "def avg_time(datetime):\n",
    "    sss=datetime\n",
    "    sss=sss.dropna()\n",
    "    length=len(sss)\n",
    "    total=sum((dt.year)*3600*24*30*12+dt.month*3600*24*30+dt.day*3600*24+dt.hour * 3600 + dt.minute * 60 + dt.second for dt in sss)\n",
    "    avg=total/length\n",
    "    year=int(avg/(3600*24*30*12))\n",
    "    avg=avg%(3600*24*30*12)\n",
    "    month=int(avg/(3600*24*30))\n",
    "    avg=avg%(3600*24*30)\n",
    "    day=int(avg/(3600*24))\n",
    "    avg=avg%(3600*24)\n",
    "    hour=int(avg/3600)\n",
    "    avg=avg%(3600)\n",
    "    minute=int(avg/60)\n",
    "    second=int(avg%60)\n",
    "    return (year,month,day,hour,minute,second)"
   ]
  },
  {
   "cell_type": "markdown",
   "metadata": {},
   "source": [
    "for col in train.columns:\n",
    "    if train[col].isna().any():\n",
    "        if train[col].dtype ==np.float64 or train[col].dtype ==np.float16 or type(train[col][2]) == pd._libs.tslibs.timedeltas.Timedelta:\n",
    "            train[col]=train[col].fillna(train[col].mean()*)\n",
    "        else:\n",
    "            x=avg_time(train[col])\n",
    "            train[col]=train[col].fillna(0)\n",
    "            \n",
    "#train[col].mean()*1.3\n",
    "#datetime.datetime(x[0],x[1],x[2],x[3],x[4],x[5])\n"
   ]
  },
  {
   "cell_type": "markdown",
   "metadata": {
    "_uuid": "05f830d08ae0c12745ec910963ea3a9b21b9e073"
   },
   "source": [
    "for col in test.columns:\n",
    "    if test[col].isna().any():\n",
    "        if test[col].dtype ==np.float64 or test[col].dtype ==np.float16 or type(test[col][2]) == pd._libs.tslibs.timedeltas.Timedelta:\n",
    "            test[col]=test[col].fillna(test[col].mean()*0.1)\n",
    "        else:\n",
    "            x=avg_time(test[col])\n",
    "            d=datetime.datetime(x[0],x[1],x[2],x[3],x[4],x[5])\n",
    "            test[col]=test[col].fillna(0)"
   ]
  },
  {
   "cell_type": "code",
   "execution_count": 223,
   "metadata": {
    "_uuid": "9ad2fb3ab3d188c128987254ee2fcf6c8189d053"
   },
   "outputs": [],
   "source": [
    "y = train['target']"
   ]
  },
  {
   "cell_type": "code",
   "execution_count": 224,
   "metadata": {
    "_uuid": "d138a65fa4cd61ded3d30495082a2a882975072a"
   },
   "outputs": [],
   "source": [
    "col_to_drop = ['first_active_month', 'card_id', 'target']"
   ]
  },
  {
   "cell_type": "code",
   "execution_count": 225,
   "metadata": {
    "_uuid": "52fc828a1e73aaef884415508cbc82c778f4a6d5"
   },
   "outputs": [],
   "source": [
    "for col in col_to_drop:\n",
    "    if col in train.columns:\n",
    "        train.drop([col], axis=1, inplace=True)\n",
    "    if col in test.columns:\n",
    "        test.drop([col], axis=1, inplace=True)"
   ]
  },
  {
   "cell_type": "code",
   "execution_count": 226,
   "metadata": {
    "_uuid": "8456e6c0f38fff673d638e23409e053c3d20b948"
   },
   "outputs": [],
   "source": [
    "train['feature_3'] = train['feature_3'].astype(int)\n",
    "test['feature_3'] = test['feature_3'].astype(int)"
   ]
  },
  {
   "cell_type": "code",
   "execution_count": 227,
   "metadata": {
    "_uuid": "5acfc3b898553e172ae7b9d037fb27a73008580b"
   },
   "outputs": [],
   "source": [
    "categorical_feats = ['feature_1', 'feature_2']\n",
    "\n",
    "for col in categorical_feats:\n",
    "    lbl = LabelEncoder()\n",
    "    lbl.fit(list(train[col].values.astype('str')) + list(test[col].values.astype('str')))\n",
    "    train[col] = lbl.transform(list(train[col].values.astype('str')))\n",
    "    test[col] = lbl.transform(list(test[col].values.astype('str')))"
   ]
  },
  {
   "cell_type": "code",
   "execution_count": 228,
   "metadata": {
    "_uuid": "2471184203440e0caf0f2792664061b4ea8964a3"
   },
   "outputs": [
    {
     "data": {
      "text/html": [
       "<div>\n",
       "<style scoped>\n",
       "    .dataframe tbody tr th:only-of-type {\n",
       "        vertical-align: middle;\n",
       "    }\n",
       "\n",
       "    .dataframe tbody tr th {\n",
       "        vertical-align: top;\n",
       "    }\n",
       "\n",
       "    .dataframe thead th {\n",
       "        text-align: right;\n",
       "    }\n",
       "</style>\n",
       "<table border=\"1\" class=\"dataframe\">\n",
       "  <thead>\n",
       "    <tr style=\"text-align: right;\">\n",
       "      <th></th>\n",
       "      <th>feature_1</th>\n",
       "      <th>feature_2</th>\n",
       "      <th>feature_3</th>\n",
       "      <th>first_active_month_year</th>\n",
       "      <th>first_active_month_weekday</th>\n",
       "      <th>first_active_month_month</th>\n",
       "      <th>elapsed_time</th>\n",
       "      <th>hist_transactions_count</th>\n",
       "      <th>hist_authorized_flag_sum</th>\n",
       "      <th>hist_authorized_flag_mean</th>\n",
       "      <th>hist_category_1_sum</th>\n",
       "      <th>hist_category_1_mean</th>\n",
       "      <th>hist_category_2_1.0_mean</th>\n",
       "      <th>hist_category_2_1.0_sum</th>\n",
       "      <th>hist_category_2_2.0_mean</th>\n",
       "      <th>hist_category_2_2.0_sum</th>\n",
       "      <th>hist_category_2_3.0_mean</th>\n",
       "      <th>hist_category_2_3.0_sum</th>\n",
       "      <th>hist_category_2_4.0_mean</th>\n",
       "      <th>hist_category_2_4.0_sum</th>\n",
       "      <th>hist_category_2_5.0_mean</th>\n",
       "      <th>hist_category_2_5.0_sum</th>\n",
       "      <th>hist_category_3_1_sum</th>\n",
       "      <th>hist_category_3_1_mean</th>\n",
       "      <th>hist_category_3_2_sum</th>\n",
       "      <th>hist_category_3_2_mean</th>\n",
       "      <th>hist_category_3_3_sum</th>\n",
       "      <th>hist_category_3_3_mean</th>\n",
       "      <th>hist_merchant_id_nunique</th>\n",
       "      <th>hist_purchase_amount_sum</th>\n",
       "      <th>hist_purchase_amount_mean</th>\n",
       "      <th>hist_purchase_amount_max</th>\n",
       "      <th>hist_purchase_amount_min</th>\n",
       "      <th>hist_purchase_amount_std</th>\n",
       "      <th>hist_installments_sum</th>\n",
       "      <th>hist_installments_mean</th>\n",
       "      <th>hist_installments_max</th>\n",
       "      <th>hist_installments_min</th>\n",
       "      <th>hist_installments_std</th>\n",
       "      <th>hist_purchase_month_mean</th>\n",
       "      <th>hist_purchase_month_max</th>\n",
       "      <th>hist_purchase_month_min</th>\n",
       "      <th>hist_purchase_month_std</th>\n",
       "      <th>hist_purchase_date_ptp</th>\n",
       "      <th>hist_purchase_date_max</th>\n",
       "      <th>hist_purchase_date_min</th>\n",
       "      <th>hist_month_lag_min</th>\n",
       "      <th>hist_month_lag_max</th>\n",
       "      <th>hist_merchant_category_id_nunique</th>\n",
       "      <th>hist_state_id_nunique</th>\n",
       "      <th>hist_subsector_id_nunique</th>\n",
       "      <th>hist_city_id_nunique</th>\n",
       "      <th>newtransactions_count</th>\n",
       "      <th>newcategory_1_sum</th>\n",
       "      <th>newcategory_1_mean</th>\n",
       "      <th>newcategory_2_1.0_mean</th>\n",
       "      <th>newcategory_2_1.0_sum</th>\n",
       "      <th>newcategory_2_2.0_mean</th>\n",
       "      <th>newcategory_2_2.0_sum</th>\n",
       "      <th>newcategory_2_3.0_mean</th>\n",
       "      <th>newcategory_2_3.0_sum</th>\n",
       "      <th>newcategory_2_4.0_mean</th>\n",
       "      <th>newcategory_2_4.0_sum</th>\n",
       "      <th>newcategory_2_5.0_mean</th>\n",
       "      <th>newcategory_2_5.0_sum</th>\n",
       "      <th>newcategory_3_1_sum</th>\n",
       "      <th>newcategory_3_1_mean</th>\n",
       "      <th>newcategory_3_2_sum</th>\n",
       "      <th>newcategory_3_2_mean</th>\n",
       "      <th>newcategory_3_3_sum</th>\n",
       "      <th>newcategory_3_3_mean</th>\n",
       "      <th>newmerchant_id_nunique</th>\n",
       "      <th>newpurchase_amount_sum</th>\n",
       "      <th>newpurchase_amount_mean</th>\n",
       "      <th>newpurchase_amount_max</th>\n",
       "      <th>newpurchase_amount_min</th>\n",
       "      <th>newpurchase_amount_std</th>\n",
       "      <th>newinstallments_sum</th>\n",
       "      <th>newinstallments_mean</th>\n",
       "      <th>newinstallments_max</th>\n",
       "      <th>newinstallments_min</th>\n",
       "      <th>newinstallments_std</th>\n",
       "      <th>newpurchase_month_mean</th>\n",
       "      <th>newpurchase_month_max</th>\n",
       "      <th>newpurchase_month_min</th>\n",
       "      <th>newpurchase_month_std</th>\n",
       "      <th>newpurchase_date_ptp</th>\n",
       "      <th>newpurchase_date_max</th>\n",
       "      <th>newpurchase_date_min</th>\n",
       "      <th>newmonth_lag_min</th>\n",
       "      <th>newmonth_lag_max</th>\n",
       "      <th>newmerchant_category_id_nunique</th>\n",
       "      <th>newstate_id_nunique</th>\n",
       "      <th>newsubsector_id_nunique</th>\n",
       "      <th>newcity_id_nunique</th>\n",
       "      <th>month_lag_mean</th>\n",
       "      <th>month_lag_std</th>\n",
       "      <th>purchase_amount_count_mean</th>\n",
       "      <th>purchase_amount_count_std</th>\n",
       "      <th>purchase_amount_sum_mean</th>\n",
       "      <th>purchase_amount_sum_std</th>\n",
       "      <th>purchase_amount_mean_mean</th>\n",
       "      <th>purchase_amount_mean_std</th>\n",
       "      <th>purchase_amount_min_mean</th>\n",
       "      <th>purchase_amount_min_std</th>\n",
       "      <th>purchase_amount_max_mean</th>\n",
       "      <th>purchase_amount_max_std</th>\n",
       "      <th>purchase_amount_std_mean</th>\n",
       "      <th>purchase_amount_std_std</th>\n",
       "      <th>installments_count_mean</th>\n",
       "      <th>installments_count_std</th>\n",
       "      <th>installments_sum_mean</th>\n",
       "      <th>installments_sum_std</th>\n",
       "      <th>installments_mean_mean</th>\n",
       "      <th>installments_mean_std</th>\n",
       "      <th>installments_min_mean</th>\n",
       "      <th>installments_min_std</th>\n",
       "      <th>installments_max_mean</th>\n",
       "      <th>installments_max_std</th>\n",
       "      <th>installments_std_mean</th>\n",
       "      <th>installments_std_std</th>\n",
       "    </tr>\n",
       "  </thead>\n",
       "  <tbody>\n",
       "    <tr>\n",
       "      <th>0</th>\n",
       "      <td>4</td>\n",
       "      <td>1</td>\n",
       "      <td>1</td>\n",
       "      <td>2017</td>\n",
       "      <td>3</td>\n",
       "      <td>6</td>\n",
       "      <td>245</td>\n",
       "      <td>260.0</td>\n",
       "      <td>247.0</td>\n",
       "      <td>0.950000</td>\n",
       "      <td>260.0</td>\n",
       "      <td>1.000000</td>\n",
       "      <td>0.988462</td>\n",
       "      <td>257.0</td>\n",
       "      <td>0.0</td>\n",
       "      <td>0.0</td>\n",
       "      <td>0.0</td>\n",
       "      <td>0.0</td>\n",
       "      <td>0.000000</td>\n",
       "      <td>0.0</td>\n",
       "      <td>0.011538</td>\n",
       "      <td>3.0</td>\n",
       "      <td>4.0</td>\n",
       "      <td>0.015385</td>\n",
       "      <td>0.0</td>\n",
       "      <td>0.000000</td>\n",
       "      <td>0.0</td>\n",
       "      <td>0.000000</td>\n",
       "      <td>94.0</td>\n",
       "      <td>-166.000000</td>\n",
       "      <td>-0.638184</td>\n",
       "      <td>2.257812</td>\n",
       "      <td>-0.739258</td>\n",
       "      <td>0.212036</td>\n",
       "      <td>4.0</td>\n",
       "      <td>0.015385</td>\n",
       "      <td>1.0</td>\n",
       "      <td>0.0</td>\n",
       "      <td>0.123314</td>\n",
       "      <td>8.057692</td>\n",
       "      <td>12.0</td>\n",
       "      <td>1.0</td>\n",
       "      <td>3.474193</td>\n",
       "      <td>242 days 19:13:07</td>\n",
       "      <td>2018-02-25 09:31:15</td>\n",
       "      <td>2017-06-27 14:18:08</td>\n",
       "      <td>-8.0</td>\n",
       "      <td>0.0</td>\n",
       "      <td>41.0</td>\n",
       "      <td>3.0</td>\n",
       "      <td>21.0</td>\n",
       "      <td>7.0</td>\n",
       "      <td>23.0</td>\n",
       "      <td>23.0</td>\n",
       "      <td>1.000000</td>\n",
       "      <td>1.000000</td>\n",
       "      <td>23.0</td>\n",
       "      <td>0.0</td>\n",
       "      <td>0.0</td>\n",
       "      <td>0.000000</td>\n",
       "      <td>0.0</td>\n",
       "      <td>0.000000</td>\n",
       "      <td>0.0</td>\n",
       "      <td>0.0</td>\n",
       "      <td>0.0</td>\n",
       "      <td>0.0</td>\n",
       "      <td>0.000000</td>\n",
       "      <td>0.0</td>\n",
       "      <td>0.000000</td>\n",
       "      <td>0.0</td>\n",
       "      <td>0.000000</td>\n",
       "      <td>23.0</td>\n",
       "      <td>-13.242188</td>\n",
       "      <td>-0.575684</td>\n",
       "      <td>-0.296143</td>\n",
       "      <td>-0.724609</td>\n",
       "      <td>0.135742</td>\n",
       "      <td>0.0</td>\n",
       "      <td>0.000000</td>\n",
       "      <td>0.0</td>\n",
       "      <td>0.0</td>\n",
       "      <td>0.000000</td>\n",
       "      <td>3.478261</td>\n",
       "      <td>4.0</td>\n",
       "      <td>3.0</td>\n",
       "      <td>0.510754</td>\n",
       "      <td>54 days 21:18:29</td>\n",
       "      <td>2018-04-29 11:23:05</td>\n",
       "      <td>2018-03-05 14:04:36</td>\n",
       "      <td>1.0</td>\n",
       "      <td>2.0</td>\n",
       "      <td>14.0</td>\n",
       "      <td>1.0</td>\n",
       "      <td>10.0</td>\n",
       "      <td>3.0</td>\n",
       "      <td>-4.000000</td>\n",
       "      <td>2.738613</td>\n",
       "      <td>28.888889</td>\n",
       "      <td>17.244162</td>\n",
       "      <td>-18.440971</td>\n",
       "      <td>10.472169</td>\n",
       "      <td>-0.650518</td>\n",
       "      <td>0.049922</td>\n",
       "      <td>-0.732686</td>\n",
       "      <td>0.008797</td>\n",
       "      <td>-0.158815</td>\n",
       "      <td>0.916015</td>\n",
       "      <td>0.109641</td>\n",
       "      <td>0.117152</td>\n",
       "      <td>28.888889</td>\n",
       "      <td>17.244162</td>\n",
       "      <td>0.444444</td>\n",
       "      <td>0.726483</td>\n",
       "      <td>0.018182</td>\n",
       "      <td>0.032221</td>\n",
       "      <td>0.000000</td>\n",
       "      <td>0.000000</td>\n",
       "      <td>0.333333</td>\n",
       "      <td>0.500000</td>\n",
       "      <td>0.074290</td>\n",
       "      <td>0.117067</td>\n",
       "    </tr>\n",
       "    <tr>\n",
       "      <th>1</th>\n",
       "      <td>3</td>\n",
       "      <td>0</td>\n",
       "      <td>0</td>\n",
       "      <td>2017</td>\n",
       "      <td>6</td>\n",
       "      <td>1</td>\n",
       "      <td>396</td>\n",
       "      <td>350.0</td>\n",
       "      <td>339.0</td>\n",
       "      <td>0.968571</td>\n",
       "      <td>319.0</td>\n",
       "      <td>0.911429</td>\n",
       "      <td>0.911429</td>\n",
       "      <td>319.0</td>\n",
       "      <td>0.0</td>\n",
       "      <td>0.0</td>\n",
       "      <td>0.0</td>\n",
       "      <td>0.0</td>\n",
       "      <td>0.000000</td>\n",
       "      <td>0.0</td>\n",
       "      <td>0.000000</td>\n",
       "      <td>0.0</td>\n",
       "      <td>276.0</td>\n",
       "      <td>0.788571</td>\n",
       "      <td>72.0</td>\n",
       "      <td>0.205714</td>\n",
       "      <td>2.0</td>\n",
       "      <td>0.005714</td>\n",
       "      <td>142.0</td>\n",
       "      <td>-210.000000</td>\n",
       "      <td>-0.600098</td>\n",
       "      <td>4.628906</td>\n",
       "      <td>-0.742188</td>\n",
       "      <td>0.385010</td>\n",
       "      <td>543.0</td>\n",
       "      <td>1.551429</td>\n",
       "      <td>10.0</td>\n",
       "      <td>-1.0</td>\n",
       "      <td>1.510777</td>\n",
       "      <td>6.220000</td>\n",
       "      <td>12.0</td>\n",
       "      <td>1.0</td>\n",
       "      <td>3.848142</td>\n",
       "      <td>390 days 06:01:27</td>\n",
       "      <td>2018-01-31 22:31:09</td>\n",
       "      <td>2017-01-06 16:29:42</td>\n",
       "      <td>-12.0</td>\n",
       "      <td>0.0</td>\n",
       "      <td>57.0</td>\n",
       "      <td>3.0</td>\n",
       "      <td>24.0</td>\n",
       "      <td>9.0</td>\n",
       "      <td>6.0</td>\n",
       "      <td>6.0</td>\n",
       "      <td>1.000000</td>\n",
       "      <td>1.000000</td>\n",
       "      <td>6.0</td>\n",
       "      <td>0.0</td>\n",
       "      <td>0.0</td>\n",
       "      <td>0.000000</td>\n",
       "      <td>0.0</td>\n",
       "      <td>0.000000</td>\n",
       "      <td>0.0</td>\n",
       "      <td>0.0</td>\n",
       "      <td>0.0</td>\n",
       "      <td>6.0</td>\n",
       "      <td>1.000000</td>\n",
       "      <td>0.0</td>\n",
       "      <td>0.000000</td>\n",
       "      <td>0.0</td>\n",
       "      <td>0.000000</td>\n",
       "      <td>6.0</td>\n",
       "      <td>-4.355469</td>\n",
       "      <td>-0.726074</td>\n",
       "      <td>-0.701660</td>\n",
       "      <td>-0.739258</td>\n",
       "      <td>0.014381</td>\n",
       "      <td>6.0</td>\n",
       "      <td>1.000000</td>\n",
       "      <td>1.0</td>\n",
       "      <td>1.0</td>\n",
       "      <td>0.000000</td>\n",
       "      <td>2.500000</td>\n",
       "      <td>3.0</td>\n",
       "      <td>2.0</td>\n",
       "      <td>0.547723</td>\n",
       "      <td>56 days 13:40:32</td>\n",
       "      <td>2018-03-30 06:48:26</td>\n",
       "      <td>2018-02-01 17:07:54</td>\n",
       "      <td>1.0</td>\n",
       "      <td>2.0</td>\n",
       "      <td>5.0</td>\n",
       "      <td>1.0</td>\n",
       "      <td>4.0</td>\n",
       "      <td>1.0</td>\n",
       "      <td>-6.000000</td>\n",
       "      <td>3.894440</td>\n",
       "      <td>26.923077</td>\n",
       "      <td>13.817028</td>\n",
       "      <td>-16.154334</td>\n",
       "      <td>10.445236</td>\n",
       "      <td>-0.572760</td>\n",
       "      <td>0.111740</td>\n",
       "      <td>-0.736968</td>\n",
       "      <td>0.005142</td>\n",
       "      <td>0.638897</td>\n",
       "      <td>1.375454</td>\n",
       "      <td>0.315212</td>\n",
       "      <td>0.295734</td>\n",
       "      <td>26.923077</td>\n",
       "      <td>13.817028</td>\n",
       "      <td>41.769231</td>\n",
       "      <td>14.341977</td>\n",
       "      <td>1.713279</td>\n",
       "      <td>0.546685</td>\n",
       "      <td>0.692308</td>\n",
       "      <td>0.751068</td>\n",
       "      <td>6.307692</td>\n",
       "      <td>2.780426</td>\n",
       "      <td>1.478938</td>\n",
       "      <td>0.895708</td>\n",
       "    </tr>\n",
       "    <tr>\n",
       "      <th>2</th>\n",
       "      <td>1</td>\n",
       "      <td>1</td>\n",
       "      <td>0</td>\n",
       "      <td>2016</td>\n",
       "      <td>0</td>\n",
       "      <td>8</td>\n",
       "      <td>549</td>\n",
       "      <td>43.0</td>\n",
       "      <td>41.0</td>\n",
       "      <td>0.953488</td>\n",
       "      <td>43.0</td>\n",
       "      <td>1.000000</td>\n",
       "      <td>0.093023</td>\n",
       "      <td>4.0</td>\n",
       "      <td>0.0</td>\n",
       "      <td>0.0</td>\n",
       "      <td>0.0</td>\n",
       "      <td>0.0</td>\n",
       "      <td>0.000000</td>\n",
       "      <td>0.0</td>\n",
       "      <td>0.906977</td>\n",
       "      <td>39.0</td>\n",
       "      <td>0.0</td>\n",
       "      <td>0.000000</td>\n",
       "      <td>0.0</td>\n",
       "      <td>0.000000</td>\n",
       "      <td>0.0</td>\n",
       "      <td>0.000000</td>\n",
       "      <td>13.0</td>\n",
       "      <td>-29.171875</td>\n",
       "      <td>-0.678223</td>\n",
       "      <td>-0.145874</td>\n",
       "      <td>-0.729980</td>\n",
       "      <td>0.087402</td>\n",
       "      <td>0.0</td>\n",
       "      <td>0.000000</td>\n",
       "      <td>0.0</td>\n",
       "      <td>0.0</td>\n",
       "      <td>0.000000</td>\n",
       "      <td>4.558140</td>\n",
       "      <td>12.0</td>\n",
       "      <td>1.0</td>\n",
       "      <td>3.275467</td>\n",
       "      <td>412 days 10:47:03</td>\n",
       "      <td>2018-02-27 19:08:25</td>\n",
       "      <td>2017-01-11 08:21:22</td>\n",
       "      <td>-13.0</td>\n",
       "      <td>0.0</td>\n",
       "      <td>8.0</td>\n",
       "      <td>2.0</td>\n",
       "      <td>7.0</td>\n",
       "      <td>5.0</td>\n",
       "      <td>1.0</td>\n",
       "      <td>1.0</td>\n",
       "      <td>1.000000</td>\n",
       "      <td>0.000000</td>\n",
       "      <td>0.0</td>\n",
       "      <td>0.0</td>\n",
       "      <td>0.0</td>\n",
       "      <td>0.000000</td>\n",
       "      <td>0.0</td>\n",
       "      <td>0.000000</td>\n",
       "      <td>0.0</td>\n",
       "      <td>1.0</td>\n",
       "      <td>1.0</td>\n",
       "      <td>0.0</td>\n",
       "      <td>0.000000</td>\n",
       "      <td>0.0</td>\n",
       "      <td>0.000000</td>\n",
       "      <td>0.0</td>\n",
       "      <td>0.000000</td>\n",
       "      <td>1.0</td>\n",
       "      <td>-0.700195</td>\n",
       "      <td>-0.700195</td>\n",
       "      <td>-0.700195</td>\n",
       "      <td>-0.700195</td>\n",
       "      <td>NaN</td>\n",
       "      <td>0.0</td>\n",
       "      <td>0.000000</td>\n",
       "      <td>0.0</td>\n",
       "      <td>0.0</td>\n",
       "      <td>NaN</td>\n",
       "      <td>4.000000</td>\n",
       "      <td>4.0</td>\n",
       "      <td>4.0</td>\n",
       "      <td>NaN</td>\n",
       "      <td>0 days 00:00:00</td>\n",
       "      <td>2018-04-28 17:43:11</td>\n",
       "      <td>2018-04-28 17:43:11</td>\n",
       "      <td>2.0</td>\n",
       "      <td>2.0</td>\n",
       "      <td>1.0</td>\n",
       "      <td>1.0</td>\n",
       "      <td>1.0</td>\n",
       "      <td>1.0</td>\n",
       "      <td>-6.666667</td>\n",
       "      <td>4.396969</td>\n",
       "      <td>3.583333</td>\n",
       "      <td>2.314316</td>\n",
       "      <td>-2.430616</td>\n",
       "      <td>1.635625</td>\n",
       "      <td>-0.668741</td>\n",
       "      <td>0.080514</td>\n",
       "      <td>-0.706751</td>\n",
       "      <td>0.018795</td>\n",
       "      <td>-0.621090</td>\n",
       "      <td>0.151778</td>\n",
       "      <td>0.066083</td>\n",
       "      <td>0.119012</td>\n",
       "      <td>3.583333</td>\n",
       "      <td>2.314316</td>\n",
       "      <td>0.000000</td>\n",
       "      <td>0.000000</td>\n",
       "      <td>0.000000</td>\n",
       "      <td>0.000000</td>\n",
       "      <td>0.000000</td>\n",
       "      <td>0.000000</td>\n",
       "      <td>0.000000</td>\n",
       "      <td>0.000000</td>\n",
       "      <td>0.000000</td>\n",
       "      <td>0.000000</td>\n",
       "    </tr>\n",
       "    <tr>\n",
       "      <th>3</th>\n",
       "      <td>3</td>\n",
       "      <td>2</td>\n",
       "      <td>0</td>\n",
       "      <td>2017</td>\n",
       "      <td>4</td>\n",
       "      <td>9</td>\n",
       "      <td>153</td>\n",
       "      <td>77.0</td>\n",
       "      <td>77.0</td>\n",
       "      <td>1.000000</td>\n",
       "      <td>65.0</td>\n",
       "      <td>0.844156</td>\n",
       "      <td>0.155844</td>\n",
       "      <td>12.0</td>\n",
       "      <td>0.0</td>\n",
       "      <td>0.0</td>\n",
       "      <td>0.0</td>\n",
       "      <td>0.0</td>\n",
       "      <td>0.688312</td>\n",
       "      <td>53.0</td>\n",
       "      <td>0.000000</td>\n",
       "      <td>0.0</td>\n",
       "      <td>68.0</td>\n",
       "      <td>0.883117</td>\n",
       "      <td>7.0</td>\n",
       "      <td>0.090909</td>\n",
       "      <td>2.0</td>\n",
       "      <td>0.025974</td>\n",
       "      <td>50.0</td>\n",
       "      <td>-49.500000</td>\n",
       "      <td>-0.642578</td>\n",
       "      <td>1.445312</td>\n",
       "      <td>-0.740723</td>\n",
       "      <td>0.261475</td>\n",
       "      <td>84.0</td>\n",
       "      <td>1.090909</td>\n",
       "      <td>3.0</td>\n",
       "      <td>-1.0</td>\n",
       "      <td>0.588974</td>\n",
       "      <td>7.740260</td>\n",
       "      <td>12.0</td>\n",
       "      <td>1.0</td>\n",
       "      <td>3.904797</td>\n",
       "      <td>154 days 19:22:19</td>\n",
       "      <td>2018-02-28 11:44:40</td>\n",
       "      <td>2017-09-26 16:22:21</td>\n",
       "      <td>-5.0</td>\n",
       "      <td>0.0</td>\n",
       "      <td>25.0</td>\n",
       "      <td>5.0</td>\n",
       "      <td>13.0</td>\n",
       "      <td>7.0</td>\n",
       "      <td>7.0</td>\n",
       "      <td>6.0</td>\n",
       "      <td>0.857143</td>\n",
       "      <td>0.000000</td>\n",
       "      <td>0.0</td>\n",
       "      <td>0.0</td>\n",
       "      <td>0.0</td>\n",
       "      <td>0.000000</td>\n",
       "      <td>0.0</td>\n",
       "      <td>0.857143</td>\n",
       "      <td>6.0</td>\n",
       "      <td>0.0</td>\n",
       "      <td>0.0</td>\n",
       "      <td>6.0</td>\n",
       "      <td>0.857143</td>\n",
       "      <td>0.0</td>\n",
       "      <td>0.000000</td>\n",
       "      <td>1.0</td>\n",
       "      <td>0.142857</td>\n",
       "      <td>7.0</td>\n",
       "      <td>-4.656250</td>\n",
       "      <td>-0.665039</td>\n",
       "      <td>-0.566895</td>\n",
       "      <td>-0.734375</td>\n",
       "      <td>0.065918</td>\n",
       "      <td>5.0</td>\n",
       "      <td>0.714286</td>\n",
       "      <td>1.0</td>\n",
       "      <td>-1.0</td>\n",
       "      <td>0.755929</td>\n",
       "      <td>3.714286</td>\n",
       "      <td>4.0</td>\n",
       "      <td>3.0</td>\n",
       "      <td>0.487950</td>\n",
       "      <td>41 days 23:05:05</td>\n",
       "      <td>2018-04-18 11:00:11</td>\n",
       "      <td>2018-03-07 11:55:06</td>\n",
       "      <td>1.0</td>\n",
       "      <td>2.0</td>\n",
       "      <td>6.0</td>\n",
       "      <td>2.0</td>\n",
       "      <td>5.0</td>\n",
       "      <td>2.0</td>\n",
       "      <td>-2.500000</td>\n",
       "      <td>1.870829</td>\n",
       "      <td>12.833333</td>\n",
       "      <td>9.703951</td>\n",
       "      <td>-8.248561</td>\n",
       "      <td>7.140595</td>\n",
       "      <td>-0.604987</td>\n",
       "      <td>0.167044</td>\n",
       "      <td>-0.734265</td>\n",
       "      <td>0.009074</td>\n",
       "      <td>-0.097344</td>\n",
       "      <td>0.766088</td>\n",
       "      <td>0.205505</td>\n",
       "      <td>0.277437</td>\n",
       "      <td>12.833333</td>\n",
       "      <td>9.703951</td>\n",
       "      <td>14.000000</td>\n",
       "      <td>11.523888</td>\n",
       "      <td>1.044819</td>\n",
       "      <td>0.215637</td>\n",
       "      <td>0.333333</td>\n",
       "      <td>1.032796</td>\n",
       "      <td>2.000000</td>\n",
       "      <td>1.095445</td>\n",
       "      <td>0.518905</td>\n",
       "      <td>0.483284</td>\n",
       "    </tr>\n",
       "    <tr>\n",
       "      <th>4</th>\n",
       "      <td>0</td>\n",
       "      <td>2</td>\n",
       "      <td>0</td>\n",
       "      <td>2017</td>\n",
       "      <td>2</td>\n",
       "      <td>11</td>\n",
       "      <td>92</td>\n",
       "      <td>133.0</td>\n",
       "      <td>128.0</td>\n",
       "      <td>0.962406</td>\n",
       "      <td>118.0</td>\n",
       "      <td>0.887218</td>\n",
       "      <td>0.075188</td>\n",
       "      <td>10.0</td>\n",
       "      <td>0.0</td>\n",
       "      <td>0.0</td>\n",
       "      <td>0.0</td>\n",
       "      <td>0.0</td>\n",
       "      <td>0.804511</td>\n",
       "      <td>107.0</td>\n",
       "      <td>0.007519</td>\n",
       "      <td>1.0</td>\n",
       "      <td>126.0</td>\n",
       "      <td>0.947368</td>\n",
       "      <td>7.0</td>\n",
       "      <td>0.052632</td>\n",
       "      <td>0.0</td>\n",
       "      <td>0.000000</td>\n",
       "      <td>66.0</td>\n",
       "      <td>-48.687500</td>\n",
       "      <td>-0.366211</td>\n",
       "      <td>7.191406</td>\n",
       "      <td>-0.746094</td>\n",
       "      <td>1.352539</td>\n",
       "      <td>182.0</td>\n",
       "      <td>1.368421</td>\n",
       "      <td>12.0</td>\n",
       "      <td>1.0</td>\n",
       "      <td>1.896862</td>\n",
       "      <td>5.406015</td>\n",
       "      <td>12.0</td>\n",
       "      <td>1.0</td>\n",
       "      <td>5.003086</td>\n",
       "      <td>108 days 20:40:41</td>\n",
       "      <td>2018-02-28 20:40:41</td>\n",
       "      <td>2017-11-12 00:00:00</td>\n",
       "      <td>-3.0</td>\n",
       "      <td>0.0</td>\n",
       "      <td>26.0</td>\n",
       "      <td>6.0</td>\n",
       "      <td>17.0</td>\n",
       "      <td>6.0</td>\n",
       "      <td>36.0</td>\n",
       "      <td>34.0</td>\n",
       "      <td>0.944444</td>\n",
       "      <td>0.055556</td>\n",
       "      <td>2.0</td>\n",
       "      <td>0.0</td>\n",
       "      <td>0.0</td>\n",
       "      <td>0.194444</td>\n",
       "      <td>7.0</td>\n",
       "      <td>0.694444</td>\n",
       "      <td>25.0</td>\n",
       "      <td>0.0</td>\n",
       "      <td>0.0</td>\n",
       "      <td>34.0</td>\n",
       "      <td>0.944444</td>\n",
       "      <td>1.0</td>\n",
       "      <td>0.027778</td>\n",
       "      <td>1.0</td>\n",
       "      <td>0.027778</td>\n",
       "      <td>36.0</td>\n",
       "      <td>-19.921875</td>\n",
       "      <td>-0.553711</td>\n",
       "      <td>0.450928</td>\n",
       "      <td>-0.739258</td>\n",
       "      <td>0.223877</td>\n",
       "      <td>35.0</td>\n",
       "      <td>0.972222</td>\n",
       "      <td>2.0</td>\n",
       "      <td>-1.0</td>\n",
       "      <td>0.376913</td>\n",
       "      <td>3.555556</td>\n",
       "      <td>4.0</td>\n",
       "      <td>3.0</td>\n",
       "      <td>0.503953</td>\n",
       "      <td>57 days 06:54:42</td>\n",
       "      <td>2018-04-28 18:50:25</td>\n",
       "      <td>2018-03-02 11:55:43</td>\n",
       "      <td>1.0</td>\n",
       "      <td>2.0</td>\n",
       "      <td>17.0</td>\n",
       "      <td>5.0</td>\n",
       "      <td>10.0</td>\n",
       "      <td>5.0</td>\n",
       "      <td>-1.500000</td>\n",
       "      <td>1.290994</td>\n",
       "      <td>33.250000</td>\n",
       "      <td>10.340052</td>\n",
       "      <td>-12.171914</td>\n",
       "      <td>16.666279</td>\n",
       "      <td>-0.363836</td>\n",
       "      <td>0.439133</td>\n",
       "      <td>-0.732039</td>\n",
       "      <td>0.016267</td>\n",
       "      <td>2.309455</td>\n",
       "      <td>3.438997</td>\n",
       "      <td>0.850642</td>\n",
       "      <td>1.118856</td>\n",
       "      <td>33.250000</td>\n",
       "      <td>10.340052</td>\n",
       "      <td>45.500000</td>\n",
       "      <td>23.979158</td>\n",
       "      <td>1.369969</td>\n",
       "      <td>0.597277</td>\n",
       "      <td>1.000000</td>\n",
       "      <td>0.000000</td>\n",
       "      <td>4.500000</td>\n",
       "      <td>5.066228</td>\n",
       "      <td>1.083005</td>\n",
       "      <td>1.664428</td>\n",
       "    </tr>\n",
       "  </tbody>\n",
       "</table>\n",
       "</div>"
      ],
      "text/plain": [
       "   feature_1  feature_2  feature_3  first_active_month_year  \\\n",
       "0          4          1          1                     2017   \n",
       "1          3          0          0                     2017   \n",
       "2          1          1          0                     2016   \n",
       "3          3          2          0                     2017   \n",
       "4          0          2          0                     2017   \n",
       "\n",
       "   first_active_month_weekday  first_active_month_month  elapsed_time  \\\n",
       "0                           3                         6           245   \n",
       "1                           6                         1           396   \n",
       "2                           0                         8           549   \n",
       "3                           4                         9           153   \n",
       "4                           2                        11            92   \n",
       "\n",
       "   hist_transactions_count  hist_authorized_flag_sum  \\\n",
       "0                    260.0                     247.0   \n",
       "1                    350.0                     339.0   \n",
       "2                     43.0                      41.0   \n",
       "3                     77.0                      77.0   \n",
       "4                    133.0                     128.0   \n",
       "\n",
       "   hist_authorized_flag_mean  hist_category_1_sum  hist_category_1_mean  \\\n",
       "0                   0.950000                260.0              1.000000   \n",
       "1                   0.968571                319.0              0.911429   \n",
       "2                   0.953488                 43.0              1.000000   \n",
       "3                   1.000000                 65.0              0.844156   \n",
       "4                   0.962406                118.0              0.887218   \n",
       "\n",
       "   hist_category_2_1.0_mean  hist_category_2_1.0_sum  \\\n",
       "0                  0.988462                    257.0   \n",
       "1                  0.911429                    319.0   \n",
       "2                  0.093023                      4.0   \n",
       "3                  0.155844                     12.0   \n",
       "4                  0.075188                     10.0   \n",
       "\n",
       "   hist_category_2_2.0_mean  hist_category_2_2.0_sum  \\\n",
       "0                       0.0                      0.0   \n",
       "1                       0.0                      0.0   \n",
       "2                       0.0                      0.0   \n",
       "3                       0.0                      0.0   \n",
       "4                       0.0                      0.0   \n",
       "\n",
       "   hist_category_2_3.0_mean  hist_category_2_3.0_sum  \\\n",
       "0                       0.0                      0.0   \n",
       "1                       0.0                      0.0   \n",
       "2                       0.0                      0.0   \n",
       "3                       0.0                      0.0   \n",
       "4                       0.0                      0.0   \n",
       "\n",
       "   hist_category_2_4.0_mean  hist_category_2_4.0_sum  \\\n",
       "0                  0.000000                      0.0   \n",
       "1                  0.000000                      0.0   \n",
       "2                  0.000000                      0.0   \n",
       "3                  0.688312                     53.0   \n",
       "4                  0.804511                    107.0   \n",
       "\n",
       "   hist_category_2_5.0_mean  hist_category_2_5.0_sum  hist_category_3_1_sum  \\\n",
       "0                  0.011538                      3.0                    4.0   \n",
       "1                  0.000000                      0.0                  276.0   \n",
       "2                  0.906977                     39.0                    0.0   \n",
       "3                  0.000000                      0.0                   68.0   \n",
       "4                  0.007519                      1.0                  126.0   \n",
       "\n",
       "   hist_category_3_1_mean  hist_category_3_2_sum  hist_category_3_2_mean  \\\n",
       "0                0.015385                    0.0                0.000000   \n",
       "1                0.788571                   72.0                0.205714   \n",
       "2                0.000000                    0.0                0.000000   \n",
       "3                0.883117                    7.0                0.090909   \n",
       "4                0.947368                    7.0                0.052632   \n",
       "\n",
       "   hist_category_3_3_sum  hist_category_3_3_mean  hist_merchant_id_nunique  \\\n",
       "0                    0.0                0.000000                      94.0   \n",
       "1                    2.0                0.005714                     142.0   \n",
       "2                    0.0                0.000000                      13.0   \n",
       "3                    2.0                0.025974                      50.0   \n",
       "4                    0.0                0.000000                      66.0   \n",
       "\n",
       "   hist_purchase_amount_sum  hist_purchase_amount_mean  \\\n",
       "0               -166.000000                  -0.638184   \n",
       "1               -210.000000                  -0.600098   \n",
       "2                -29.171875                  -0.678223   \n",
       "3                -49.500000                  -0.642578   \n",
       "4                -48.687500                  -0.366211   \n",
       "\n",
       "   hist_purchase_amount_max  hist_purchase_amount_min  \\\n",
       "0                  2.257812                 -0.739258   \n",
       "1                  4.628906                 -0.742188   \n",
       "2                 -0.145874                 -0.729980   \n",
       "3                  1.445312                 -0.740723   \n",
       "4                  7.191406                 -0.746094   \n",
       "\n",
       "   hist_purchase_amount_std  hist_installments_sum  hist_installments_mean  \\\n",
       "0                  0.212036                    4.0                0.015385   \n",
       "1                  0.385010                  543.0                1.551429   \n",
       "2                  0.087402                    0.0                0.000000   \n",
       "3                  0.261475                   84.0                1.090909   \n",
       "4                  1.352539                  182.0                1.368421   \n",
       "\n",
       "   hist_installments_max  hist_installments_min  hist_installments_std  \\\n",
       "0                    1.0                    0.0               0.123314   \n",
       "1                   10.0                   -1.0               1.510777   \n",
       "2                    0.0                    0.0               0.000000   \n",
       "3                    3.0                   -1.0               0.588974   \n",
       "4                   12.0                    1.0               1.896862   \n",
       "\n",
       "   hist_purchase_month_mean  hist_purchase_month_max  hist_purchase_month_min  \\\n",
       "0                  8.057692                     12.0                      1.0   \n",
       "1                  6.220000                     12.0                      1.0   \n",
       "2                  4.558140                     12.0                      1.0   \n",
       "3                  7.740260                     12.0                      1.0   \n",
       "4                  5.406015                     12.0                      1.0   \n",
       "\n",
       "   hist_purchase_month_std hist_purchase_date_ptp hist_purchase_date_max  \\\n",
       "0                 3.474193      242 days 19:13:07    2018-02-25 09:31:15   \n",
       "1                 3.848142      390 days 06:01:27    2018-01-31 22:31:09   \n",
       "2                 3.275467      412 days 10:47:03    2018-02-27 19:08:25   \n",
       "3                 3.904797      154 days 19:22:19    2018-02-28 11:44:40   \n",
       "4                 5.003086      108 days 20:40:41    2018-02-28 20:40:41   \n",
       "\n",
       "  hist_purchase_date_min  hist_month_lag_min  hist_month_lag_max  \\\n",
       "0    2017-06-27 14:18:08                -8.0                 0.0   \n",
       "1    2017-01-06 16:29:42               -12.0                 0.0   \n",
       "2    2017-01-11 08:21:22               -13.0                 0.0   \n",
       "3    2017-09-26 16:22:21                -5.0                 0.0   \n",
       "4    2017-11-12 00:00:00                -3.0                 0.0   \n",
       "\n",
       "   hist_merchant_category_id_nunique  hist_state_id_nunique  \\\n",
       "0                               41.0                    3.0   \n",
       "1                               57.0                    3.0   \n",
       "2                                8.0                    2.0   \n",
       "3                               25.0                    5.0   \n",
       "4                               26.0                    6.0   \n",
       "\n",
       "   hist_subsector_id_nunique  hist_city_id_nunique  newtransactions_count  \\\n",
       "0                       21.0                   7.0                   23.0   \n",
       "1                       24.0                   9.0                    6.0   \n",
       "2                        7.0                   5.0                    1.0   \n",
       "3                       13.0                   7.0                    7.0   \n",
       "4                       17.0                   6.0                   36.0   \n",
       "\n",
       "   newcategory_1_sum  newcategory_1_mean  newcategory_2_1.0_mean  \\\n",
       "0               23.0            1.000000                1.000000   \n",
       "1                6.0            1.000000                1.000000   \n",
       "2                1.0            1.000000                0.000000   \n",
       "3                6.0            0.857143                0.000000   \n",
       "4               34.0            0.944444                0.055556   \n",
       "\n",
       "   newcategory_2_1.0_sum  newcategory_2_2.0_mean  newcategory_2_2.0_sum  \\\n",
       "0                   23.0                     0.0                    0.0   \n",
       "1                    6.0                     0.0                    0.0   \n",
       "2                    0.0                     0.0                    0.0   \n",
       "3                    0.0                     0.0                    0.0   \n",
       "4                    2.0                     0.0                    0.0   \n",
       "\n",
       "   newcategory_2_3.0_mean  newcategory_2_3.0_sum  newcategory_2_4.0_mean  \\\n",
       "0                0.000000                    0.0                0.000000   \n",
       "1                0.000000                    0.0                0.000000   \n",
       "2                0.000000                    0.0                0.000000   \n",
       "3                0.000000                    0.0                0.857143   \n",
       "4                0.194444                    7.0                0.694444   \n",
       "\n",
       "   newcategory_2_4.0_sum  newcategory_2_5.0_mean  newcategory_2_5.0_sum  \\\n",
       "0                    0.0                     0.0                    0.0   \n",
       "1                    0.0                     0.0                    0.0   \n",
       "2                    0.0                     1.0                    1.0   \n",
       "3                    6.0                     0.0                    0.0   \n",
       "4                   25.0                     0.0                    0.0   \n",
       "\n",
       "   newcategory_3_1_sum  newcategory_3_1_mean  newcategory_3_2_sum  \\\n",
       "0                  0.0              0.000000                  0.0   \n",
       "1                  6.0              1.000000                  0.0   \n",
       "2                  0.0              0.000000                  0.0   \n",
       "3                  6.0              0.857143                  0.0   \n",
       "4                 34.0              0.944444                  1.0   \n",
       "\n",
       "   newcategory_3_2_mean  newcategory_3_3_sum  newcategory_3_3_mean  \\\n",
       "0              0.000000                  0.0              0.000000   \n",
       "1              0.000000                  0.0              0.000000   \n",
       "2              0.000000                  0.0              0.000000   \n",
       "3              0.000000                  1.0              0.142857   \n",
       "4              0.027778                  1.0              0.027778   \n",
       "\n",
       "   newmerchant_id_nunique  newpurchase_amount_sum  newpurchase_amount_mean  \\\n",
       "0                    23.0              -13.242188                -0.575684   \n",
       "1                     6.0               -4.355469                -0.726074   \n",
       "2                     1.0               -0.700195                -0.700195   \n",
       "3                     7.0               -4.656250                -0.665039   \n",
       "4                    36.0              -19.921875                -0.553711   \n",
       "\n",
       "   newpurchase_amount_max  newpurchase_amount_min  newpurchase_amount_std  \\\n",
       "0               -0.296143               -0.724609                0.135742   \n",
       "1               -0.701660               -0.739258                0.014381   \n",
       "2               -0.700195               -0.700195                     NaN   \n",
       "3               -0.566895               -0.734375                0.065918   \n",
       "4                0.450928               -0.739258                0.223877   \n",
       "\n",
       "   newinstallments_sum  newinstallments_mean  newinstallments_max  \\\n",
       "0                  0.0              0.000000                  0.0   \n",
       "1                  6.0              1.000000                  1.0   \n",
       "2                  0.0              0.000000                  0.0   \n",
       "3                  5.0              0.714286                  1.0   \n",
       "4                 35.0              0.972222                  2.0   \n",
       "\n",
       "   newinstallments_min  newinstallments_std  newpurchase_month_mean  \\\n",
       "0                  0.0             0.000000                3.478261   \n",
       "1                  1.0             0.000000                2.500000   \n",
       "2                  0.0                  NaN                4.000000   \n",
       "3                 -1.0             0.755929                3.714286   \n",
       "4                 -1.0             0.376913                3.555556   \n",
       "\n",
       "   newpurchase_month_max  newpurchase_month_min  newpurchase_month_std  \\\n",
       "0                    4.0                    3.0               0.510754   \n",
       "1                    3.0                    2.0               0.547723   \n",
       "2                    4.0                    4.0                    NaN   \n",
       "3                    4.0                    3.0               0.487950   \n",
       "4                    4.0                    3.0               0.503953   \n",
       "\n",
       "  newpurchase_date_ptp newpurchase_date_max newpurchase_date_min  \\\n",
       "0     54 days 21:18:29  2018-04-29 11:23:05  2018-03-05 14:04:36   \n",
       "1     56 days 13:40:32  2018-03-30 06:48:26  2018-02-01 17:07:54   \n",
       "2      0 days 00:00:00  2018-04-28 17:43:11  2018-04-28 17:43:11   \n",
       "3     41 days 23:05:05  2018-04-18 11:00:11  2018-03-07 11:55:06   \n",
       "4     57 days 06:54:42  2018-04-28 18:50:25  2018-03-02 11:55:43   \n",
       "\n",
       "   newmonth_lag_min  newmonth_lag_max  newmerchant_category_id_nunique  \\\n",
       "0               1.0               2.0                             14.0   \n",
       "1               1.0               2.0                              5.0   \n",
       "2               2.0               2.0                              1.0   \n",
       "3               1.0               2.0                              6.0   \n",
       "4               1.0               2.0                             17.0   \n",
       "\n",
       "   newstate_id_nunique  newsubsector_id_nunique  newcity_id_nunique  \\\n",
       "0                  1.0                     10.0                 3.0   \n",
       "1                  1.0                      4.0                 1.0   \n",
       "2                  1.0                      1.0                 1.0   \n",
       "3                  2.0                      5.0                 2.0   \n",
       "4                  5.0                     10.0                 5.0   \n",
       "\n",
       "   month_lag_mean  month_lag_std  purchase_amount_count_mean  \\\n",
       "0       -4.000000       2.738613                   28.888889   \n",
       "1       -6.000000       3.894440                   26.923077   \n",
       "2       -6.666667       4.396969                    3.583333   \n",
       "3       -2.500000       1.870829                   12.833333   \n",
       "4       -1.500000       1.290994                   33.250000   \n",
       "\n",
       "   purchase_amount_count_std  purchase_amount_sum_mean  \\\n",
       "0                  17.244162                -18.440971   \n",
       "1                  13.817028                -16.154334   \n",
       "2                   2.314316                 -2.430616   \n",
       "3                   9.703951                 -8.248561   \n",
       "4                  10.340052                -12.171914   \n",
       "\n",
       "   purchase_amount_sum_std  purchase_amount_mean_mean  \\\n",
       "0                10.472169                  -0.650518   \n",
       "1                10.445236                  -0.572760   \n",
       "2                 1.635625                  -0.668741   \n",
       "3                 7.140595                  -0.604987   \n",
       "4                16.666279                  -0.363836   \n",
       "\n",
       "   purchase_amount_mean_std  purchase_amount_min_mean  \\\n",
       "0                  0.049922                 -0.732686   \n",
       "1                  0.111740                 -0.736968   \n",
       "2                  0.080514                 -0.706751   \n",
       "3                  0.167044                 -0.734265   \n",
       "4                  0.439133                 -0.732039   \n",
       "\n",
       "   purchase_amount_min_std  purchase_amount_max_mean  purchase_amount_max_std  \\\n",
       "0                 0.008797                 -0.158815                 0.916015   \n",
       "1                 0.005142                  0.638897                 1.375454   \n",
       "2                 0.018795                 -0.621090                 0.151778   \n",
       "3                 0.009074                 -0.097344                 0.766088   \n",
       "4                 0.016267                  2.309455                 3.438997   \n",
       "\n",
       "   purchase_amount_std_mean  purchase_amount_std_std  installments_count_mean  \\\n",
       "0                  0.109641                 0.117152                28.888889   \n",
       "1                  0.315212                 0.295734                26.923077   \n",
       "2                  0.066083                 0.119012                 3.583333   \n",
       "3                  0.205505                 0.277437                12.833333   \n",
       "4                  0.850642                 1.118856                33.250000   \n",
       "\n",
       "   installments_count_std  installments_sum_mean  installments_sum_std  \\\n",
       "0               17.244162               0.444444              0.726483   \n",
       "1               13.817028              41.769231             14.341977   \n",
       "2                2.314316               0.000000              0.000000   \n",
       "3                9.703951              14.000000             11.523888   \n",
       "4               10.340052              45.500000             23.979158   \n",
       "\n",
       "   installments_mean_mean  installments_mean_std  installments_min_mean  \\\n",
       "0                0.018182               0.032221               0.000000   \n",
       "1                1.713279               0.546685               0.692308   \n",
       "2                0.000000               0.000000               0.000000   \n",
       "3                1.044819               0.215637               0.333333   \n",
       "4                1.369969               0.597277               1.000000   \n",
       "\n",
       "   installments_min_std  installments_max_mean  installments_max_std  \\\n",
       "0              0.000000               0.333333              0.500000   \n",
       "1              0.751068               6.307692              2.780426   \n",
       "2              0.000000               0.000000              0.000000   \n",
       "3              1.032796               2.000000              1.095445   \n",
       "4              0.000000               4.500000              5.066228   \n",
       "\n",
       "   installments_std_mean  installments_std_std  \n",
       "0               0.074290              0.117067  \n",
       "1               1.478938              0.895708  \n",
       "2               0.000000              0.000000  \n",
       "3               0.518905              0.483284  \n",
       "4               1.083005              1.664428  "
      ]
     },
     "execution_count": 228,
     "metadata": {},
     "output_type": "execute_result"
    }
   ],
   "source": [
    "train.head()"
   ]
  },
  {
   "cell_type": "code",
   "execution_count": 229,
   "metadata": {
    "_uuid": "a1d12df02550f63619571b52f01e54f2db148fc6"
   },
   "outputs": [],
   "source": [
    "# for col in ['newpurchase_amount_max', 'newpurchase_date_max', 'purchase_amount_max_mean']:\n",
    "for col in ['newpurchase_amount_max', 'purchase_amount_max_mean']:\n",
    "    train[col + '_to_mean'] = train[col] / train[col].mean()\n",
    "    test[col + '_to_mean'] = test[col] / test[col].mean()"
   ]
  },
  {
   "cell_type": "markdown",
   "metadata": {},
   "source": [
    "### convert date to int\n",
    "\n",
    "Drop these cols for now\n",
    "\n",
    "    hist_purchase_date_ptp\n",
    "    hist_purchase_date_max\n",
    "    hist_purchase_date_min\n",
    "    newpurchase_date_ptp\n",
    "    newpurchase_date_max\n",
    "    newpurchase_date_min"
   ]
  },
  {
   "cell_type": "code",
   "execution_count": 230,
   "metadata": {},
   "outputs": [],
   "source": [
    "def convert_date(data, cols):\n",
    "#     for col in cols:\n",
    "#         data.loc[:, col] = pd.DatetimeIndex(data[col]).astype(np.int64) * 1e-9\n",
    "    data.drop(cols, axis=1, inplace=True)\n",
    "    return data\n",
    "\n",
    "train = convert_date(train, \\\n",
    "                     ['hist_purchase_date_ptp','hist_purchase_date_max','hist_purchase_date_min', \\\n",
    "                      'newpurchase_date_ptp','newpurchase_date_max','newpurchase_date_min'])\n",
    "test = convert_date(test, \\\n",
    "                     ['hist_purchase_date_ptp','hist_purchase_date_max','hist_purchase_date_min', \\\n",
    "                      'newpurchase_date_ptp','newpurchase_date_max','newpurchase_date_min'])"
   ]
  },
  {
   "cell_type": "markdown",
   "metadata": {
    "_uuid": "5475688803fb32f89f210f118d1079adeb46350f"
   },
   "source": [
    "### Basic LGB model"
   ]
  },
  {
   "cell_type": "code",
   "execution_count": 231,
   "metadata": {
    "_uuid": "020c7321dafa69a91fe63e8fcc64105efbad0a71"
   },
   "outputs": [],
   "source": [
    "X = train\n",
    "X_test = test"
   ]
  },
  {
   "cell_type": "markdown",
   "metadata": {
    "_uuid": "394e909da7b1dcc4a9aa8a861c92728d36070bd8"
   },
   "source": [
    "#### Code for training models"
   ]
  },
  {
   "cell_type": "code",
   "execution_count": 232,
   "metadata": {
    "_uuid": "92ced003ab2ef61724280e494170fcb25cfc0272"
   },
   "outputs": [],
   "source": [
    "n_fold = 10\n",
    "folds = KFold(n_splits=n_fold, shuffle=True, random_state=42)"
   ]
  },
  {
   "cell_type": "code",
   "execution_count": 233,
   "metadata": {
    "_uuid": "c64f57f58ab28cd6f467ba7ebbffa06b11a89170"
   },
   "outputs": [],
   "source": [
    "def train_model(X=X, X_test=X_test, y=y, params=None, folds=folds, model_type='lgb', plot_feature_importance=False):\n",
    "\n",
    "    oof = np.zeros(len(X))\n",
    "    prediction = np.zeros(len(X_test))\n",
    "    scores = []\n",
    "    feature_importance = pd.DataFrame()\n",
    "    for fold_n, (train_index, valid_index) in enumerate(folds.split(X)):\n",
    "        print('Fold', fold_n, 'started at', time.ctime())\n",
    "        X_train, X_valid = X.iloc[train_index], X.iloc[valid_index]\n",
    "        y_train, y_valid = y.iloc[train_index], y.iloc[valid_index]\n",
    "        \n",
    "        if model_type == 'lgb':\n",
    "            model = lgb.LGBMRegressor(**params, n_estimators = 20000, nthread = 4, n_jobs = -1)\n",
    "            model.fit(X_train, y_train, \n",
    "                    eval_set=[(X_train, y_train), (X_valid, y_valid)], eval_metric='rmse',\n",
    "                    verbose=1000, early_stopping_rounds=200)\n",
    "            \n",
    "            y_pred_valid = model.predict(X_valid)\n",
    "            y_pred = model.predict(X_test, num_iteration=model.best_iteration_)\n",
    "            \n",
    "        if model_type == 'xgb':\n",
    "            train_data = xgb.DMatrix(data=X_train, label=y_train)\n",
    "            valid_data = xgb.DMatrix(data=X_valid, label=y_valid)\n",
    "\n",
    "            watchlist = [(train_data, 'train'), (valid_data, 'valid_data')]\n",
    "            model = xgb.train(dtrain=train_data, num_boost_round=20000, evals=watchlist, early_stopping_rounds=200, verbose_eval=500, params=params)\n",
    "            y_pred_valid = model.predict(xgb.DMatrix(X_valid), ntree_limit=model.best_ntree_limit)\n",
    "            y_pred = model.predict(xgb.DMatrix(X_test), ntree_limit=model.best_ntree_limit)\n",
    "            \n",
    "        if model_type == 'rcv':\n",
    "            model = RidgeCV(alphas=(0.1, 1.0, 10.0, 100.0), scoring='neg_mean_squared_error', cv=3)\n",
    "            model.fit(X_train, y_train)\n",
    "            print(model.alpha_)\n",
    "\n",
    "            y_pred_valid = model.predict(X_valid)\n",
    "            score = mean_squared_error(y_valid, y_pred_valid) ** 0.5\n",
    "            print('Fold %d. RMSE: %.4f.'%(fold_n, score))\n",
    "            print('')\n",
    "            \n",
    "            y_pred = model.predict(X_test)\n",
    "            \n",
    "        if model_type == 'cat':\n",
    "            model = CatBoostRegressor(iterations=20000,  eval_metric='RMSE', **params)\n",
    "            model.fit(X_train, y_train, eval_set=(X_valid, y_valid), cat_features=[], use_best_model=True, verbose=False)\n",
    "\n",
    "            y_pred_valid = model.predict(X_valid)\n",
    "            y_pred = model.predict(X_test)\n",
    "        \n",
    "        oof[valid_index] = y_pred_valid.reshape(-1,)\n",
    "        scores.append(mean_squared_error(y_valid, y_pred_valid) ** 0.5)\n",
    "        \n",
    "        prediction += y_pred    \n",
    "        \n",
    "        if model_type == 'lgb':\n",
    "            # feature importance\n",
    "            fold_importance = pd.DataFrame()\n",
    "            fold_importance[\"feature\"] = X.columns\n",
    "            fold_importance[\"importance\"] = model.feature_importances_\n",
    "            fold_importance[\"fold\"] = fold_n + 1\n",
    "            feature_importance = pd.concat([feature_importance, fold_importance], axis=0)\n",
    "\n",
    "    prediction /= n_fold\n",
    "    \n",
    "    print('CV mean score: {0:.4f}, std: {1:.4f}.'.format(np.mean(scores), np.std(scores)))\n",
    "    \n",
    "    if model_type == 'lgb':\n",
    "        feature_importance[\"importance\"] /= n_fold\n",
    "        if plot_feature_importance:\n",
    "            cols = feature_importance[[\"feature\", \"importance\"]].groupby(\"feature\").mean().sort_values(\n",
    "                by=\"importance\", ascending=False)[:50].index\n",
    "\n",
    "            best_features = feature_importance.loc[feature_importance.feature.isin(cols)]\n",
    "\n",
    "            plt.figure(figsize=(16, 12));\n",
    "            sns.barplot(x=\"importance\", y=\"feature\", data=best_features.sort_values(by=\"importance\", ascending=False));\n",
    "            plt.title('LGB Features (avg over folds)');\n",
    "        \n",
    "            return oof, prediction, feature_importance\n",
    "        return oof, prediction\n",
    "    \n",
    "    else:\n",
    "        return oof, prediction"
   ]
  },
  {
   "cell_type": "code",
   "execution_count": 234,
   "metadata": {
    "_uuid": "13ad0a532f097c08d27accbc55eabd123123a5b6"
   },
   "outputs": [],
   "source": [
    "params = {'num_leaves': 54,\n",
    "         'min_data_in_leaf': 79,\n",
    "         'objective': 'regression',\n",
    "         'max_depth': 7,\n",
    "         'learning_rate': 0.018545526395058548,\n",
    "         \"boosting\": \"gbdt\",\n",
    "         \"feature_fraction\": 0.8354507676881442,\n",
    "         \"bagging_freq\": 3,\n",
    "         \"bagging_fraction\": 0.8126672064208567,\n",
    "         \"bagging_seed\": 11,\n",
    "         \"metric\": 'rmse',\n",
    "         \"lambda_l1\": 0.1,\n",
    "         \"verbosity\": -1,\n",
    "         'min_child_weight': 5.343384366323818,\n",
    "         'reg_alpha': 1.1302650970728192,\n",
    "         'reg_lambda': 0.3603427518866501,\n",
    "         'subsample': 0.8767547959893627,}"
   ]
  },
  {
   "cell_type": "code",
   "execution_count": 235,
   "metadata": {
    "_uuid": "0a1f01d46dba0b4f124ebd5c438e6bd90f004104",
    "scrolled": false
   },
   "outputs": [
    {
     "name": "stdout",
     "output_type": "stream",
     "text": [
      "Fold 0 started at Sat Dec 29 22:53:59 2018\n",
      "Training until validation scores don't improve for 200 rounds.\n",
      "Early stopping, best iteration is:\n",
      "[402]\ttraining's rmse: 3.53037\tvalid_1's rmse: 3.6392\n",
      "Fold 1 started at Sat Dec 29 22:54:18 2018\n",
      "Training until validation scores don't improve for 200 rounds.\n",
      "Early stopping, best iteration is:\n",
      "[573]\ttraining's rmse: 3.47494\tvalid_1's rmse: 3.79231\n",
      "Fold 2 started at Sat Dec 29 22:54:41 2018\n",
      "Training until validation scores don't improve for 200 rounds.\n",
      "Early stopping, best iteration is:\n",
      "[534]\ttraining's rmse: 3.49822\tvalid_1's rmse: 3.66667\n",
      "Fold 3 started at Sat Dec 29 22:55:04 2018\n",
      "Training until validation scores don't improve for 200 rounds.\n",
      "Early stopping, best iteration is:\n",
      "[541]\ttraining's rmse: 3.49011\tvalid_1's rmse: 3.71669\n",
      "Fold 4 started at Sat Dec 29 22:55:26 2018\n",
      "Training until validation scores don't improve for 200 rounds.\n",
      "Early stopping, best iteration is:\n",
      "[441]\ttraining's rmse: 3.51091\tvalid_1's rmse: 3.75415\n",
      "Fold 5 started at Sat Dec 29 22:55:45 2018\n",
      "Training until validation scores don't improve for 200 rounds.\n",
      "Early stopping, best iteration is:\n",
      "[696]\ttraining's rmse: 3.44321\tvalid_1's rmse: 3.85483\n",
      "Fold 6 started at Sat Dec 29 22:56:12 2018\n",
      "Training until validation scores don't improve for 200 rounds.\n",
      "Early stopping, best iteration is:\n",
      "[398]\ttraining's rmse: 3.5372\tvalid_1's rmse: 3.58027\n",
      "Fold 7 started at Sat Dec 29 22:56:30 2018\n",
      "Training until validation scores don't improve for 200 rounds.\n",
      "[1000]\ttraining's rmse: 3.40306\tvalid_1's rmse: 3.58358\n",
      "Early stopping, best iteration is:\n",
      "[957]\ttraining's rmse: 3.41094\tvalid_1's rmse: 3.58304\n",
      "Fold 8 started at Sat Dec 29 22:57:03 2018\n",
      "Training until validation scores don't improve for 200 rounds.\n",
      "[1000]\ttraining's rmse: 3.40632\tvalid_1's rmse: 3.62122\n",
      "Early stopping, best iteration is:\n",
      "[854]\ttraining's rmse: 3.43281\tvalid_1's rmse: 3.6193\n",
      "Fold 9 started at Sat Dec 29 22:57:33 2018\n",
      "Training until validation scores don't improve for 200 rounds.\n",
      "Early stopping, best iteration is:\n",
      "[579]\ttraining's rmse: 3.49135\tvalid_1's rmse: 3.62697\n",
      "CV mean score: 3.6833, std: 0.0881.\n"
     ]
    },
    {
     "data": {
      "image/png": "[encoded data removed]",
      "text/plain": [
       "<Figure size 1152x864 with 1 Axes>"
      ]
     },
     "metadata": {},
     "output_type": "display_data"
    }
   ],
   "source": [
    "oof_lgb, prediction_lgb, feature_importance = train_model(params=params, \\\n",
    "                                                          model_type='lgb', \\\n",
    "                                                          plot_feature_importance=True)"
   ]
  },
  {
   "cell_type": "code",
   "execution_count": 236,
   "metadata": {
    "_uuid": "350ffcd85728da326f36e1bcdb9d0523cda3d31e"
   },
   "outputs": [],
   "source": [
    "submission['target'] = prediction_lgb\n",
    "submission.to_csv(path_model + '/lgb.csv', index=False)"
   ]
  },
  {
   "cell_type": "code",
   "execution_count": null,
   "metadata": {},
   "outputs": [],
   "source": [
    "#train.isna().values.any()"
   ]
  },
  {
   "cell_type": "code",
   "execution_count": null,
   "metadata": {},
   "outputs": [],
   "source": []
  },
  {
   "cell_type": "code",
   "execution_count": null,
   "metadata": {},
   "outputs": [],
   "source": []
  },
  {
   "cell_type": "code",
   "execution_count": null,
   "metadata": {},
   "outputs": [],
   "source": []
  },
  {
   "cell_type": "code",
   "execution_count": 115,
   "metadata": {
    "_uuid": "0ab141df9f759efea8152fed1bfe127c2b63cdaf"
   },
   "outputs": [
    {
     "ename": "NameError",
     "evalue": "name 'train_model' is not defined",
     "output_type": "error",
     "traceback": [
      "\u001b[0;31m---------------------------------------------------------------------------\u001b[0m",
      "\u001b[0;31mNameError\u001b[0m                                 Traceback (most recent call last)",
      "\u001b[0;32m<ipython-input-115-88fcd42f2de3>\u001b[0m in \u001b[0;36m<module>\u001b[0;34m()\u001b[0m\n\u001b[1;32m      1\u001b[0m xgb_params = {'eta': 0.01, 'max_depth': 10, 'subsample': 0.8, 'colsample_bytree': 0.8, \n\u001b[1;32m      2\u001b[0m           'objective': 'reg:linear', 'eval_metric': 'rmse', 'silent': True, 'nthread': 4}\n\u001b[0;32m----> 3\u001b[0;31m \u001b[0moof_xgb\u001b[0m\u001b[0;34m,\u001b[0m \u001b[0mprediction_xgb\u001b[0m \u001b[0;34m=\u001b[0m \u001b[0mtrain_model\u001b[0m\u001b[0;34m(\u001b[0m\u001b[0mparams\u001b[0m\u001b[0;34m=\u001b[0m\u001b[0mxgb_params\u001b[0m\u001b[0;34m,\u001b[0m \u001b[0mmodel_type\u001b[0m\u001b[0;34m=\u001b[0m\u001b[0;34m'xgb'\u001b[0m\u001b[0;34m)\u001b[0m\u001b[0;34m\u001b[0m\u001b[0m\n\u001b[0m",
      "\u001b[0;31mNameError\u001b[0m: name 'train_model' is not defined"
     ]
    }
   ],
   "source": [
    "xgb_params = {'eta': 0.01, 'max_depth': 10, 'subsample': 0.8, 'colsample_bytree': 0.8, \n",
    "          'objective': 'reg:linear', 'eval_metric': 'rmse', 'silent': True, 'nthread': 4}\n",
    "oof_xgb, prediction_xgb = train_model(params=xgb_params, model_type='xgb')"
   ]
  },
  {
   "cell_type": "code",
   "execution_count": null,
   "metadata": {
    "_uuid": "5fea76e67aba21f187fa551c7908a3ac492dabfb"
   },
   "outputs": [],
   "source": [
    "submission['target'] = prediction_xgb\n",
    "submission.to_csv(path_model + '/xgb.csv', index=False)"
   ]
  },
  {
   "cell_type": "code",
   "execution_count": null,
   "metadata": {
    "_uuid": "727f6f11db1810bec7fdaddb48109f820209cb2f"
   },
   "outputs": [],
   "source": [
    "oof_rcv, prediction_rcv = train_model(params=None, model_type='rcv')"
   ]
  },
  {
   "cell_type": "code",
   "execution_count": null,
   "metadata": {
    "_uuid": "f88ef4761db632f697a86d910c930c387193f5a4"
   },
   "outputs": [],
   "source": [
    "submission['target'] = prediction_rcv\n",
    "submission.to_csv(path_model + '/rcv.csv', index=False)"
   ]
  },
  {
   "cell_type": "code",
   "execution_count": null,
   "metadata": {
    "_uuid": "16a18c14edc11582b7b3742ce46e5e256292ac9d"
   },
   "outputs": [],
   "source": [
    "cat_params = {'learning_rate': 0.01,\n",
    "              'depth': 9,\n",
    "              'l2_leaf_reg': 10,\n",
    "              'bootstrap_type': 'Bernoulli',\n",
    "              #'metric_period': 500,\n",
    "              'od_type': 'Iter',\n",
    "              'od_wait': 50,\n",
    "              'random_seed': 11,\n",
    "              'allow_writing_files': False}\n",
    "oof_cat, prediction_cat = train_model(params=cat_params, model_type='cat')"
   ]
  },
  {
   "cell_type": "code",
   "execution_count": null,
   "metadata": {
    "_uuid": "30d520bb28340e3d193b105de92849434d103983"
   },
   "outputs": [],
   "source": [
    "submission['target'] = (prediction_lgb + prediction_xgb + prediction_rcv + prediction_cat) / 4\n",
    "submission.to_csv(path_model + '/blend.csv', index=False)"
   ]
  },
  {
   "cell_type": "code",
   "execution_count": null,
   "metadata": {
    "_uuid": "a5c8a3c35ca5cb91539c2e1e862d1d9f0e959fac"
   },
   "outputs": [],
   "source": [
    "train_stack = np.vstack([oof_lgb, oof_xgb, oof_rcv, oof_cat]).transpose()\n",
    "train_stack = pd.DataFrame(train_stack)\n",
    "test_stack = np.vstack([prediction_lgb, prediction_xgb, prediction_rcv, prediction_cat]).transpose()\n",
    "test_stack = pd.DataFrame(test_stack)"
   ]
  },
  {
   "cell_type": "code",
   "execution_count": null,
   "metadata": {
    "_uuid": "15d28fe442b6371a3e9c763dd3138d64f94ba547"
   },
   "outputs": [],
   "source": [
    "oof_lgb_stack, prediction_lgb_stack = train_model(X=train_stack, X_test=test_stack, params=params, model_type='lgb')"
   ]
  },
  {
   "cell_type": "code",
   "execution_count": null,
   "metadata": {
    "_uuid": "bb1484c2110e18dde571ea0030130932e215927c"
   },
   "outputs": [],
   "source": [
    "sample_submission = pd.read_csv(path_data + '/sample_submission.csv')\n",
    "sample_submission['target'] = prediction_lgb_stack\n",
    "sample_submission.to_csv(path_model + '/stacker_lgb.csv', index=False)"
   ]
  },
  {
   "cell_type": "code",
   "execution_count": null,
   "metadata": {
    "_uuid": "f9b1c5a3efe5cdff7b016f10f4dbd559479ccbc1"
   },
   "outputs": [],
   "source": [
    "oof_rcv_stack, prediction_rcv_stack = train_model(X=train_stack, X_test=test_stack, params=None, model_type='rcv')"
   ]
  },
  {
   "cell_type": "code",
   "execution_count": null,
   "metadata": {
    "_uuid": "718ba315ffc8161f030cd94f5cb421775de4396c"
   },
   "outputs": [],
   "source": [
    "sample_submission = pd.read_csv(path_data + '/sample_submission.csv')\n",
    "sample_submission['target'] = prediction_rcv_stack\n",
    "sample_submission.to_csv(path_model + '/stacker_rcv.csv', index=False)"
   ]
  }
 ],
 "metadata": {
  "kernelspec": {
   "display_name": "Python 3",
   "language": "python",
   "name": "python3"
  },
  "language_info": {
   "codemirror_mode": {
    "name": "ipython",
    "version": 3
   },
   "file_extension": ".py",
   "mimetype": "text/x-python",
   "name": "python",
   "nbconvert_exporter": "python",
   "pygments_lexer": "ipython3",
   "version": "3.6.5"
  },
  "widgets": {
   "application/vnd.jupyter.widget-state+json": {
    "state": {},
    "version_major": 2,
    "version_minor": 0
   }
  }
 },
 "nbformat": 4,
 "nbformat_minor": 1
}
